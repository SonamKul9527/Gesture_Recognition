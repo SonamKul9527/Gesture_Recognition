{
  "cells": [
    {
      "cell_type": "markdown",
      "metadata": {
        "id": "9xorYXM5e5f8"
      },
      "source": [
        "# Gesture Recognition\n",
        "In this group project, you are going to build a 3D Conv model that will be able to predict the 5 gestures correctly. Please import the following libraries to get started.\n",
        "\n",
        "## Problem Statement\n",
        "\n",
        "Imagine you are working as a data scientist at a home electronics company which manufactures state of the art smart televisions. You want to develop a cool feature in the smart-TV that can recognise five different gestures performed by the user which will help users control the TV without using a remote.\n",
        "\n",
        "The gestures are continuously monitored by the webcam mounted on the TV. Each gesture corresponds to a specific command:\n",
        "\n",
        "* Thumbs up:  Increase the volume\n",
        "* Thumbs down: Decrease the volume\n",
        "* Left swipe: 'Jump' backwards 10 seconds\n",
        "* Right swipe: 'Jump' forward 10 seconds  \n",
        "* Stop: Pause the movie\n",
        "\n",
        "Each video is a sequence of 30 frames (or images). \n",
        "\n",
        "## Data \n",
        "\n",
        "We can get the data from the following link.\n",
        "https://drive.google.com/uc?id=1ehyrYBQ5rbQQe6yL4XbLWe3FMvuVUGiL\n",
        "\n",
        "## Outcomes or Goal for the project\n",
        "\n",
        "You need to accomplish the following in the project:\n",
        "\n",
        "1. **Generator :** The generator should be able to take a batch of videos as input without any error. Steps like cropping, resizing and normalization should be performed successfully.\n",
        "\n",
        "2. **Model :** Develop a model that is able to train without any errors which will be judged on the total number of parameters (as the inference(prediction) time should be less) and the accuracy achieved. As suggested by Snehansu, start training on a small amount of data and then proceed further.\n",
        "\n",
        "3. **Write up :** This should contain the detailed procedure followed in choosing the final model. The write up should start with the reason for choosing the base model, then highlight the reasons and metrics taken into consideration to modify and experiment to arrive at the final model.\n",
        "\n",
        "#### There are certain things you should keep in mind before proceeding further:\n",
        "\n",
        "* Use the correct container: 'Tensorflow 1.5.0 GPU Py3' when you are using a GPU machine, else it'll throw an error similar to 'the kernel died'.\n",
        "* Use a C2/CPU machine to get the data on your persistent storage.\n",
        "* Whenever you modify your model, run the notebook from the beginning. This is to reset the initialisations and the generator.\n",
        "* To check the GPU usage, execute 'nvidia-smi' on the terminal."
      ]
    },
    {
      "cell_type": "code",
      "execution_count": 17,
      "metadata": {
        "id": "ZN7F8N1Ge5gz"
      },
      "outputs": [],
      "source": [
        "## Importing the required libraries\n",
        "\n",
        "import numpy as np\n",
        "import os\n",
        "import pathlib\n",
        "from imageio import imread\n",
        "from skimage.transform import resize as imresize\n",
        "import datetime"
      ]
    },
    {
      "cell_type": "code",
      "source": [
        "np.random.seed(30)\n",
        "import random as rn\n",
        "rn.seed(30)\n",
        "from keras import backend as K\n",
        "import tensorflow as tf\n",
        "tf.random.set_seed(30)"
      ],
      "metadata": {
        "id": "ZiGVs7hKMk35"
      },
      "execution_count": 2,
      "outputs": []
    },
    {
      "cell_type": "code",
      "source": [
        "## Importing some other libraries\n",
        "\n",
        "from PIL import Image, ImageFilter, ImageEnhance\n",
        "import warnings\n",
        "import cv2\n",
        "warnings.filterwarnings(\"ignore\")\n",
        "import matplotlib.pyplot as plt\n",
        "%matplotlib inline"
      ],
      "metadata": {
        "id": "ULZggX_FLlfz"
      },
      "execution_count": 3,
      "outputs": []
    },
    {
      "cell_type": "markdown",
      "metadata": {
        "id": "sEHhDqZSe5hN"
      },
      "source": [
        "We set the random seed so that the results don't vary drastically."
      ]
    },
    {
      "cell_type": "code",
      "source": [
        "## Importing Model building and related libraries\n",
        "\n",
        "from keras.models import Sequential, Model\n",
        "from keras.layers import Dense, Flatten, BatchNormalization, Activation, Dropout, GRU, TimeDistributed\n",
        "from keras.layers.convolutional import Conv3D, MaxPooling3D, Conv2D, MaxPooling2D\n",
        "from keras.callbacks import ModelCheckpoint, ReduceLROnPlateau, EarlyStopping\n",
        "from keras import optimizers\n",
        "import abc"
      ],
      "metadata": {
        "id": "Ax_Qn0w4L5OI"
      },
      "execution_count": 4,
      "outputs": []
    },
    {
      "cell_type": "markdown",
      "metadata": {
        "id": "7bB8KD1ae5hj"
      },
      "source": [
        "In this block, you read the folder names for training and validation. You also set the `batch_size` here. Note that you set the batch size in such a way that you are able to use the GPU in full capacity. You keep increasing the batch size until the machine throws an error."
      ]
    },
    {
      "cell_type": "code",
      "source": [
        "## Mount Google Drive to load the data from Google Drive\n",
        "\n",
        "from google.colab import drive\n",
        "drive.mount('/content/gdrive')"
      ],
      "metadata": {
        "id": "m-sOZz7Dramx",
        "colab": {
          "base_uri": "https://localhost:8080/"
        },
        "outputId": "50c7fc24-bbcf-44e8-f2ac-46b4ce522d5b"
      },
      "execution_count": 5,
      "outputs": [
        {
          "output_type": "stream",
          "name": "stdout",
          "text": [
            "Mounted at /content/gdrive\n"
          ]
        }
      ]
    },
    {
      "cell_type": "code",
      "execution_count": 27,
      "metadata": {
        "id": "UXss7__ve5hm"
      },
      "outputs": [],
      "source": [
        "project_folder = '/content/gdrive/My Drive/Project_data'\n",
        "train_csv = project_folder + '/' + 'train.csv'\n",
        "val_csv = project_folder + '/' + 'val.csv'\n",
        "\n",
        "train_doc = np.random.permutation(open(train_csv).readlines())\n",
        "val_doc = np.random.permutation(open(val_csv).readlines())\n",
        "batch_size = 50"
      ]
    },
    {
      "cell_type": "markdown",
      "metadata": {
        "id": "YAjcB7QQe5ht"
      },
      "source": [
        "## Generator\n",
        "This is one of the most important part of the code. The overall structure of the generator has been given. In the generator, you are going to preprocess the images as you have images of 2 different dimensions as well as create a batch of video frames. You have to experiment with `img_idx`, `y`,`z` and normalization such that you get high accuracy."
      ]
    },
    {
      "cell_type": "code",
      "source": [
        "## Let us define a class for the generator and some other required functions\n",
        "\n",
        "class ModelBuilder(metaclass = abc.ABCMeta) :\n",
        "\n",
        "  ## Defining the Training and Validation Project data paths\n",
        "  def initialize_path(self, project_folder) :\n",
        "    self.train_csv = np.random.permutation(open(train_csv).readlines())\n",
        "    self.val_csv = np.random.permutation(open(val_csv).readlines())\n",
        "    self.train_data = project_folder + '/train'\n",
        "    self.val_data = project_folder + '/val'\n",
        "    self.num_train_sequences = len(self.train_csv)\n",
        "    self.num_val_sequences = len(self.val_csv)\n",
        "\n",
        "  ## Method to initializing Image properties\n",
        "  def initialize_properties(self, img_height=100, img_width=100) :\n",
        "    self.img_height = img_height\n",
        "    self.img_width = img_width\n",
        "    self.num_of_classes = 5\n",
        "    self.total_frames = 30\n",
        "    self.channels = 3\n",
        "\n",
        "  ## Method to initialize the Hyperparameters\n",
        "  def initialize_hyperparameters(self, batch_size = 30, epochs = 30, frames_to_sample = 30) :\n",
        "    self.frames_to_sample = frames_to_sample\n",
        "    self.batch_size = batch_size\n",
        "    self.epochs = epochs\n",
        "\n",
        "  ## Method for training a model and returning history after fit.generator. \n",
        "  def training_model(self, model, augment_data = True) :\n",
        "    \n",
        "    ## Let us create the train_generator and the val_generator which will be used in .fit_generator.\n",
        "    train_generator = self.generator(self.train_path, self.train_csv, batch_size, augment=augment_data)\n",
        "    val_generator = self.generator(self.val_path, self.val_csv, batch_size)\n",
        "\n",
        "    ## Below code helps in saving our models\n",
        "    model_name = 'model_init' + '_' + str(curr_dt_time).replace(' ','').replace(':','_') + '/'\n",
        "    \n",
        "    if not os.path.exists(model_name):\n",
        "        os.mkdir(model_name)\n",
        "            \n",
        "    filepath = model_name + 'model-{epoch:05d}-{loss:.5f}-{categorical_accuracy:.5f}-{val_loss:.5f}-{val_categorical_accuracy:.5f}.h5'\n",
        "\n",
        "    checkpoint = ModelCheckpoint(filepath, monitor='val_loss', verbose=1, save_best_only=False, save_weights_only=False, mode='auto', period=1)\n",
        "\n",
        "    # Write the REducelronplateau code here\n",
        "    LR = ReduceLROnPlateau(monitor='val_loss', factor=0.2, verbose=1, patience=4)\n",
        "\n",
        "    earlystop = EarlyStopping( monitor=\"val_loss\", min_delta=0,patience=10,verbose=1)\n",
        "    callbacks_list = [checkpoint, LR, earlystop]\n",
        "\n",
        "    ## The steps_per_epoch and validation_steps are used by fit_generator to decide the number of next() calls it need to make\n",
        "    if (self.num_train_sequences % self.batch_size) == 0:\n",
        "       steps_per_epoch = int(self.num_train_sequences / self.batch_size)\n",
        "    else:\n",
        "        steps_per_epoch = (self.num_train_sequences // self.batch_size) + 1\n",
        "\n",
        "    if (self.num_val_sequences % self.batch_size) == 0:\n",
        "        validation_steps = int(self.num_val_sequences / self.batch_size)\n",
        "    else:\n",
        "        validation_steps = (self.num_val_sequences // self.batch_size) + 1\n",
        "\n",
        "    ## Let us now fit the model. This will start training the model and with the help of the checkpoints, you'll be able to save the model\n",
        "    ## at the end of each epoch.\n",
        "    history = model.fit_generator(train_generator, steps_per_epoch=steps_per_epoch, epochs=num_epochs, verbose=1, \n",
        "                    callbacks=callbacks_list, validation_data=val_generator, \n",
        "                    validation_steps=validation_steps, class_weight=None, workers=1, initial_epoch=0)\n",
        "    \n",
        "    return history\n",
        "\n",
        "  ## GENERATOR Function\n",
        "  def generator(self, source_path, folder_list, batch_size, augmentation = False, img_height=160, img_width=160, channels=3, num_classes=5):\n",
        "    print( 'Source path = ', source_path, '; batch size =', batch_size)\n",
        "\n",
        "    ## Create a list of image numbers you want to use for a particular video\n",
        "    img_idx = list(range(5,30,3))\n",
        "    ## x is the number of images you use for each video. (y,z) is the final size of the input images\n",
        "    x = len(img_idx)\n",
        "    y = self.img_height\n",
        "    z = self.img_width\n",
        "\n",
        "    batch_size = self.batch_size\n",
        "\n",
        "    while True:\n",
        "        t = np.random.permutation(folder_list)\n",
        "\n",
        "        ## Calculate the number of batches\n",
        "        if (len(t) % batch_size) == 0 :\n",
        "          num_batches = int(len(t) / batch_size)\n",
        "        else :\n",
        "          num_batches = int(len(t) // batch_size) + 1\n",
        "\n",
        "        ## We iterate over the number of batches\n",
        "        for batch in range(num_batches): \n",
        "\n",
        "            batch_data = np.zeros((batch, x, y, z, 3)) \n",
        "            ## batch_labels is the one hot representation of the output\n",
        "            batch_labels = np.zeros((batch, 5)) \n",
        "\n",
        "            if (augmentation) :\n",
        "              batch_data_aug = np.zeros((num_batches, len(img_idx), self.image_height, self.image_width, self.channels))\n",
        "\n",
        "            ## Iterate over the batch_size\n",
        "            for folder in range(num_batches): \n",
        "              # read all the images in the folder\n",
        "              imgs = os.listdir(source_path+'/'+ t[folder + (batch*batch_size)].split(';')[0]) \n",
        "\n",
        "              ## Iterate iver the frames/images of a folder to read them in\n",
        "              for idx, item in enumerate(img_idx): \n",
        "                  image = imread(source_path+'/'+ t[folder + (batch*batch_size)].strip().split(';')[0]+'/'+imgs[item]).astype(np.float32)\n",
        "                 \n",
        "                  #crop the images and resize them. Note that the images are of 2 different shape \n",
        "                  #and the conv3D will throw error if the inputs in a batch have different shapes\n",
        "                  \n",
        "                  image_resize = imresize(image, (self.image_height, self.image_width, self.channels))\n",
        "\n",
        "                  ## Normalise and feed in the image\n",
        "                  batch_data[folder,idx,:,:,0] = (image_resize[:,:,0])/255\n",
        "                  batch_data[folder,idx,:,:,1] = (image_resize[:,:,1])/255\n",
        "                  batch_data[folder,idx,:,:,2] = (image_resize[:,:,2])/255\n",
        "                  \n",
        "                  if (augmentation) :\n",
        "                    shifted = cv2.warpAffine(image, \n",
        "                                             np.float32([[1, 0, np.random.randint(-30,30)],[0, 1, np.random.randint(-30,30)]]), \n",
        "                                            (image.shape[1], image.shape[0]))\n",
        "                    \n",
        "                    gray = cv2.cvtColor(shifted,cv2.COLOR_BGR2GRAY)\n",
        "\n",
        "                    x0, y0 = np.argwhere(gray > 0).min(axis=0)\n",
        "                    x1, y1 = np.argwhere(gray > 0).max(axis=0) \n",
        "                    # cropping the images to have the targeted gestures and remove the noise from the images.\n",
        "                    cropped = shifted[x0:x1,y0:y1,:]\n",
        "\n",
        "                    image_resized=imresize(cropped,(self.image_height, self.image_width, self.channels))\n",
        "                    batch_data_aug[folder,idx,:,:,0] = (image_resized[:,:,0])/255\n",
        "                    batch_data_aug[folder,idx,:,:,1] = (image_resized[:,:,1])/255\n",
        "                    batch_data_aug[folder,idx,:,:,2] = (image_resized[:,:,2])/255\n",
        "\n",
        "              batch_labels[folder, int(t[folder + (batch*batch_size)].strip().split(';')[2])] = 1\n",
        "              \n",
        "              if (augmentation):\n",
        "                batch_data=np.concatenate([batch_data,batch_data_aug])\n",
        "                batch_labels=np.concatenate([batch_labels,batch_labels])\n",
        "\n",
        "              ## You yield the batch_data and the batch_labels\n",
        "            yield batch_data, batch_labels"
      ],
      "metadata": {
        "id": "dZq1hQaDwytS"
      },
      "execution_count": 38,
      "outputs": []
    },
    {
      "cell_type": "markdown",
      "metadata": {
        "id": "P9IIbR8te5iA"
      },
      "source": [
        "Note here that a video is represented above in the generator as (number of images, height, width, number of channels). Take this into consideration while creating the model architecture."
      ]
    },
    {
      "cell_type": "code",
      "execution_count": 28,
      "metadata": {
        "id": "MeFDrs6me5iE",
        "colab": {
          "base_uri": "https://localhost:8080/"
        },
        "outputId": "09213e07-672e-42db-c675-25ed148c504a"
      },
      "outputs": [
        {
          "output_type": "stream",
          "name": "stdout",
          "text": [
            "# training sequences = 663\n",
            "# validation sequences = 100\n",
            "# epochs = 5\n"
          ]
        }
      ],
      "source": [
        "#train_path = '/notebooks/storage/Final_data/Collated_training/train'\n",
        "#val_path = '/notebooks/storage/Final_data/Collated_training/val'\n",
        "\n",
        "curr_dt_time = datetime.datetime.now()\n",
        "num_train_sequences = len(train_doc)\n",
        "print('# training sequences =', num_train_sequences)\n",
        "num_val_sequences = len(val_doc)\n",
        "print('# validation sequences =', num_val_sequences)\n",
        "num_epochs = 5 # choose the number of epochs\n",
        "print ('# epochs =', num_epochs)"
      ]
    },
    {
      "cell_type": "markdown",
      "metadata": {
        "id": "zx0Sn-t_e5iJ"
      },
      "source": [
        "## Model\n",
        "Here you make the model using different functionalities that Keras provides. Remember to use `Conv3D` and `MaxPooling3D` and not `Conv2D` and `Maxpooling2D` for a 3D convolution model. You would want to use `TimeDistributed` while building a Conv2D + RNN model. Also remember that the last layer is the softmax. Design the network in such a way that the model is able to give good accuracy on the least number of parameters so that it can fit in the memory of the webcam."
      ]
    },
    {
      "cell_type": "markdown",
      "source": [
        "#### Let us first begin with some parameter tuning experiments by creating a sample Model and executing with different parameters"
      ],
      "metadata": {
        "id": "zlCCEtSp4nTG"
      }
    },
    {
      "cell_type": "code",
      "source": [
        "class Conv3D_Model(ModelBuilder) :\n",
        "  def init_Model(self) :\n",
        "\n",
        "    model = Sequential()\n",
        "    #First Convulation layer\n",
        "    model.add(Conv3D(32, kernel_size=(3,3,3), input_shape=(self.frames_to_sample, self.img_height, self.img_width, self.channels), padding='same',\n",
        "                     activation='relu'))\n",
        "    model.add(MaxPooling3D(pool_size=(2,2,2)))\n",
        "    model.add(BatchNormalization())\n",
        "\n",
        "    #Second Convulation Layer\n",
        "    model.add(Conv3D(32, (2, 2, 2),  activation='relu', padding='same'))\n",
        "    model.add(BatchNormalization())\n",
        "    model.add(MaxPooling3D(pool_size=(2, 2, 2)))\n",
        "\n",
        "    #Third Convulation Layer\n",
        "    model.add(Conv3D(64, (2, 2, 2),  activation='relu', padding='same'))\n",
        "    model.add(BatchNormalization())\n",
        "    model.add(MaxPooling3D(pool_size=(2, 2, 2)))\n",
        "\n",
        "    #Fourth Convulation Layer\n",
        "    model.add(Conv3D(128, (2, 2, 2),  activation='relu', padding='same'))\n",
        "    model.add(BatchNormalization())\n",
        "    model.add(MaxPooling3D(pool_size=(2, 2, 2)))\n",
        "\n",
        "    #Dropout layer with 30% Fraction of the input units to drop.\n",
        "    model.add(Dropout(0.3))\n",
        "\n",
        "    #Flatten Layer\n",
        "    model.add(Flatten())\n",
        "    model.add(Dense(128, activation='relu'))\n",
        "    model.add(BatchNormalization())\n",
        "    model.add(Dropout(0.5))\n",
        "\n",
        "    model.add(Dense(64,activation='relu'))\n",
        "    model.add(BatchNormalization())\n",
        "    model.add(Dropout(0.3))\n",
        "\n",
        "    #Dense Layer with softmax activation function.\n",
        "    #Softmax is an activation function that scales numbers/logits into probabilities.\n",
        "    model.add(Dense(self.num_of_classes, activation='softmax'))\n",
        "\n",
        "    model.compile(optimizer = 'adam', loss = 'categorical_crossentropy', metrics=[\"accuracy\"])\n",
        "\n",
        "    return model"
      ],
      "metadata": {
        "id": "Ke7qKTsD48F7"
      },
      "execution_count": 39,
      "outputs": []
    },
    {
      "cell_type": "code",
      "source": [
        "## Creating an object for the Model Builder class\n",
        "conv_obj = Conv3D_Model()\n",
        "conv_obj.initialize_path(project_folder)\n",
        "conv_obj.initialize_properties(img_height=160, img_width=160)\n",
        "conv_obj.initialize_hyperparameters(frames_to_sample=30, batch_size=15, epochs=3)\n",
        "conv_obj_model = conv_obj.init_Model()\n",
        "conv_obj_model.summary()"
      ],
      "metadata": {
        "colab": {
          "base_uri": "https://localhost:8080/"
        },
        "id": "FCWaU9TN49Io",
        "outputId": "ffb32ae9-ac7f-44c7-91f0-6aee6f0c3fd7"
      },
      "execution_count": 40,
      "outputs": [
        {
          "output_type": "stream",
          "name": "stdout",
          "text": [
            "Model: \"sequential_1\"\n",
            "_________________________________________________________________\n",
            " Layer (type)                Output Shape              Param #   \n",
            "=================================================================\n",
            " conv3d_4 (Conv3D)           (None, 30, 160, 160, 32)  2624      \n",
            "                                                                 \n",
            " max_pooling3d_4 (MaxPooling  (None, 15, 80, 80, 32)   0         \n",
            " 3D)                                                             \n",
            "                                                                 \n",
            " batch_normalization_6 (Batc  (None, 15, 80, 80, 32)   128       \n",
            " hNormalization)                                                 \n",
            "                                                                 \n",
            " conv3d_5 (Conv3D)           (None, 15, 80, 80, 32)    8224      \n",
            "                                                                 \n",
            " batch_normalization_7 (Batc  (None, 15, 80, 80, 32)   128       \n",
            " hNormalization)                                                 \n",
            "                                                                 \n",
            " max_pooling3d_5 (MaxPooling  (None, 7, 40, 40, 32)    0         \n",
            " 3D)                                                             \n",
            "                                                                 \n",
            " conv3d_6 (Conv3D)           (None, 7, 40, 40, 64)     16448     \n",
            "                                                                 \n",
            " batch_normalization_8 (Batc  (None, 7, 40, 40, 64)    256       \n",
            " hNormalization)                                                 \n",
            "                                                                 \n",
            " max_pooling3d_6 (MaxPooling  (None, 3, 20, 20, 64)    0         \n",
            " 3D)                                                             \n",
            "                                                                 \n",
            " conv3d_7 (Conv3D)           (None, 3, 20, 20, 128)    65664     \n",
            "                                                                 \n",
            " batch_normalization_9 (Batc  (None, 3, 20, 20, 128)   512       \n",
            " hNormalization)                                                 \n",
            "                                                                 \n",
            " max_pooling3d_7 (MaxPooling  (None, 1, 10, 10, 128)   0         \n",
            " 3D)                                                             \n",
            "                                                                 \n",
            " dropout_3 (Dropout)         (None, 1, 10, 10, 128)    0         \n",
            "                                                                 \n",
            " flatten_1 (Flatten)         (None, 12800)             0         \n",
            "                                                                 \n",
            " dense_3 (Dense)             (None, 128)               1638528   \n",
            "                                                                 \n",
            " batch_normalization_10 (Bat  (None, 128)              512       \n",
            " chNormalization)                                                \n",
            "                                                                 \n",
            " dropout_4 (Dropout)         (None, 128)               0         \n",
            "                                                                 \n",
            " dense_4 (Dense)             (None, 64)                8256      \n",
            "                                                                 \n",
            " batch_normalization_11 (Bat  (None, 64)               256       \n",
            " chNormalization)                                                \n",
            "                                                                 \n",
            " dropout_5 (Dropout)         (None, 64)                0         \n",
            "                                                                 \n",
            " dense_5 (Dense)             (None, 5)                 325       \n",
            "                                                                 \n",
            "=================================================================\n",
            "Total params: 1,741,861\n",
            "Trainable params: 1,740,965\n",
            "Non-trainable params: 896\n",
            "_________________________________________________________________\n"
          ]
        }
      ]
    },
    {
      "cell_type": "code",
      "source": [
        "## Let us test the generator function as well\n",
        "\n",
        "test_generator_obj = Conv3D_Model()\n",
        "test_generator_obj.initialize_path(project_folder)\n",
        "test_generator_obj.initialize_properties(img_height=160, img_width=160)\n",
        "test_generator_obj.initialize_hyperparameters(frames_to_sample=30, batch_size=15, epochs=3)\n",
        "\n",
        "##generator = test_generator_obj.generator(test_generator_obj.val_data, test_generator_obj.val_csv, augmentation=True, batch_size=15, num_classes = 5, \n",
        " ##                                        img_height=160, img_width=160, channels=3)\n",
        "\n",
        "\n",
        "generator = test_generator_obj.generator(test_generator_obj.val_data, test_generator_obj.val_csv, augmentation=True, batch_size=15)\n",
        "batch_data, batch_labels = next(generator)\n",
        "fig, axes = plt.subplot(nrows=1, ncols=2)\n",
        "axes[0].imshow(batch_data[0,15,:,:,:])   \n",
        "axes[1].imshow(batch_data[3,15,:,:,:])"
      ],
      "metadata": {
        "colab": {
          "base_uri": "https://localhost:8080/",
          "height": 373
        },
        "id": "MP6H3hti49Ls",
        "outputId": "44dce418-8de3-4512-d2d8-8a78ec777000"
      },
      "execution_count": 45,
      "outputs": [
        {
          "output_type": "stream",
          "name": "stdout",
          "text": [
            "Source path =  /content/gdrive/My Drive/Project_data/val ; batch size = 15\n"
          ]
        },
        {
          "output_type": "error",
          "ename": "AttributeError",
          "evalue": "ignored",
          "traceback": [
            "\u001b[0;31m---------------------------------------------------------------------------\u001b[0m",
            "\u001b[0;31mAttributeError\u001b[0m                            Traceback (most recent call last)",
            "\u001b[0;32m<ipython-input-45-f3174afd5828>\u001b[0m in \u001b[0;36m<cell line: 13>\u001b[0;34m()\u001b[0m\n\u001b[1;32m     11\u001b[0m \u001b[0;34m\u001b[0m\u001b[0m\n\u001b[1;32m     12\u001b[0m \u001b[0mgenerator\u001b[0m \u001b[0;34m=\u001b[0m \u001b[0mtest_generator_obj\u001b[0m\u001b[0;34m.\u001b[0m\u001b[0mgenerator\u001b[0m\u001b[0;34m(\u001b[0m\u001b[0mtest_generator_obj\u001b[0m\u001b[0;34m.\u001b[0m\u001b[0mval_data\u001b[0m\u001b[0;34m,\u001b[0m \u001b[0mtest_generator_obj\u001b[0m\u001b[0;34m.\u001b[0m\u001b[0mval_csv\u001b[0m\u001b[0;34m,\u001b[0m \u001b[0maugmentation\u001b[0m\u001b[0;34m=\u001b[0m\u001b[0;32mTrue\u001b[0m\u001b[0;34m,\u001b[0m \u001b[0mbatch_size\u001b[0m\u001b[0;34m=\u001b[0m\u001b[0;36m15\u001b[0m\u001b[0;34m)\u001b[0m\u001b[0;34m\u001b[0m\u001b[0;34m\u001b[0m\u001b[0m\n\u001b[0;32m---> 13\u001b[0;31m \u001b[0mbatch_data\u001b[0m\u001b[0;34m,\u001b[0m \u001b[0mbatch_labels\u001b[0m \u001b[0;34m=\u001b[0m \u001b[0mnext\u001b[0m\u001b[0;34m(\u001b[0m\u001b[0mgenerator\u001b[0m\u001b[0;34m)\u001b[0m\u001b[0;34m\u001b[0m\u001b[0;34m\u001b[0m\u001b[0m\n\u001b[0m\u001b[1;32m     14\u001b[0m \u001b[0mfig\u001b[0m\u001b[0;34m,\u001b[0m \u001b[0maxes\u001b[0m \u001b[0;34m=\u001b[0m \u001b[0mplt\u001b[0m\u001b[0;34m.\u001b[0m\u001b[0msubplot\u001b[0m\u001b[0;34m(\u001b[0m\u001b[0mnrows\u001b[0m\u001b[0;34m=\u001b[0m\u001b[0;36m1\u001b[0m\u001b[0;34m,\u001b[0m \u001b[0mncols\u001b[0m\u001b[0;34m=\u001b[0m\u001b[0;36m2\u001b[0m\u001b[0;34m)\u001b[0m\u001b[0;34m\u001b[0m\u001b[0;34m\u001b[0m\u001b[0m\n\u001b[1;32m     15\u001b[0m \u001b[0maxes\u001b[0m\u001b[0;34m[\u001b[0m\u001b[0;36m0\u001b[0m\u001b[0;34m]\u001b[0m\u001b[0;34m.\u001b[0m\u001b[0mimshow\u001b[0m\u001b[0;34m(\u001b[0m\u001b[0mbatch_data\u001b[0m\u001b[0;34m[\u001b[0m\u001b[0;36m0\u001b[0m\u001b[0;34m,\u001b[0m\u001b[0;36m15\u001b[0m\u001b[0;34m,\u001b[0m\u001b[0;34m:\u001b[0m\u001b[0;34m,\u001b[0m\u001b[0;34m:\u001b[0m\u001b[0;34m,\u001b[0m\u001b[0;34m:\u001b[0m\u001b[0;34m]\u001b[0m\u001b[0;34m)\u001b[0m\u001b[0;34m\u001b[0m\u001b[0;34m\u001b[0m\u001b[0m\n",
            "\u001b[0;32m<ipython-input-38-15f5c76ee41a>\u001b[0m in \u001b[0;36mgenerator\u001b[0;34m(self, source_path, folder_list, batch_size, augmentation, img_height, img_width, channels, num_classes)\u001b[0m\n\u001b[1;32m     95\u001b[0m             \u001b[0mbatch_data\u001b[0m \u001b[0;34m=\u001b[0m \u001b[0mnp\u001b[0m\u001b[0;34m.\u001b[0m\u001b[0mzeros\u001b[0m\u001b[0;34m(\u001b[0m\u001b[0;34m(\u001b[0m\u001b[0mbatch\u001b[0m\u001b[0;34m,\u001b[0m \u001b[0mx\u001b[0m\u001b[0;34m,\u001b[0m \u001b[0my\u001b[0m\u001b[0;34m,\u001b[0m \u001b[0mz\u001b[0m\u001b[0;34m,\u001b[0m \u001b[0mself\u001b[0m\u001b[0;34m.\u001b[0m\u001b[0mchannels\u001b[0m\u001b[0;34m)\u001b[0m\u001b[0;34m)\u001b[0m\u001b[0;34m\u001b[0m\u001b[0;34m\u001b[0m\u001b[0m\n\u001b[1;32m     96\u001b[0m             \u001b[0;31m## batch_labels is the one hot representation of the output\u001b[0m\u001b[0;34m\u001b[0m\u001b[0;34m\u001b[0m\u001b[0m\n\u001b[0;32m---> 97\u001b[0;31m             \u001b[0mbatch_labels\u001b[0m \u001b[0;34m=\u001b[0m \u001b[0mnp\u001b[0m\u001b[0;34m.\u001b[0m\u001b[0mzeros\u001b[0m\u001b[0;34m(\u001b[0m\u001b[0;34m(\u001b[0m\u001b[0mbatch\u001b[0m\u001b[0;34m,\u001b[0m \u001b[0mself\u001b[0m\u001b[0;34m.\u001b[0m\u001b[0mnum_classes\u001b[0m\u001b[0;34m)\u001b[0m\u001b[0;34m)\u001b[0m\u001b[0;34m\u001b[0m\u001b[0;34m\u001b[0m\u001b[0m\n\u001b[0m\u001b[1;32m     98\u001b[0m \u001b[0;34m\u001b[0m\u001b[0m\n\u001b[1;32m     99\u001b[0m             \u001b[0;32mif\u001b[0m \u001b[0;34m(\u001b[0m\u001b[0maugmentation\u001b[0m\u001b[0;34m)\u001b[0m \u001b[0;34m:\u001b[0m\u001b[0;34m\u001b[0m\u001b[0;34m\u001b[0m\u001b[0m\n",
            "\u001b[0;31mAttributeError\u001b[0m: 'Conv3D_Model' object has no attribute 'num_classes'"
          ]
        }
      ]
    },
    {
      "cell_type": "code",
      "source": [],
      "metadata": {
        "id": "jta4UhqJ49O2"
      },
      "execution_count": null,
      "outputs": []
    },
    {
      "cell_type": "code",
      "source": [],
      "metadata": {
        "id": "AmMrhoyi49R_"
      },
      "execution_count": null,
      "outputs": []
    },
    {
      "cell_type": "code",
      "source": [],
      "metadata": {
        "id": "0RQyWWle49U5"
      },
      "execution_count": null,
      "outputs": []
    },
    {
      "cell_type": "code",
      "source": [],
      "metadata": {
        "id": "w-KEHeIr48dn"
      },
      "execution_count": null,
      "outputs": []
    },
    {
      "cell_type": "code",
      "source": [],
      "metadata": {
        "id": "1iM1upwt48g_"
      },
      "execution_count": null,
      "outputs": []
    },
    {
      "cell_type": "code",
      "source": [],
      "metadata": {
        "id": "pMqCOcYe48kB"
      },
      "execution_count": null,
      "outputs": []
    },
    {
      "cell_type": "markdown",
      "metadata": {
        "id": "Wx-MJNYUe5iR"
      },
      "source": [
        "Now that you have written the model, the next step is to `compile` the model. When you print the `summary` of the model, you'll see the total number of parameters you have to train."
      ]
    },
    {
      "cell_type": "code",
      "execution_count": null,
      "metadata": {
        "scrolled": true,
        "id": "mp3PP3Vxe5iV"
      },
      "outputs": [],
      "source": [
        "optimiser = #write your optimizer\n",
        "model.compile(optimizer=optimiser, loss='categorical_crossentropy', metrics=['categorical_accuracy'])\n",
        "print (model.summary())"
      ]
    }
  ],
  "metadata": {
    "kernelspec": {
      "display_name": "Python 3",
      "language": "python",
      "name": "python3"
    },
    "language_info": {
      "codemirror_mode": {
        "name": "ipython",
        "version": 3
      },
      "file_extension": ".py",
      "mimetype": "text/x-python",
      "name": "python",
      "nbconvert_exporter": "python",
      "pygments_lexer": "ipython3",
      "version": "3.6.5"
    },
    "colab": {
      "provenance": []
    }
  },
  "nbformat": 4,
  "nbformat_minor": 0
}