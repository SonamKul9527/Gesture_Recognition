{
 "cells": [
  {
   "cell_type": "markdown",
   "metadata": {
    "id": "9xorYXM5e5f8"
   },
   "source": [
    "# Gesture Recognition\n",
    "In this group project, you are going to build a 3D Conv model that will be able to predict the 5 gestures correctly. Please import the following libraries to get started.\n",
    "\n",
    "## Problem Statement\n",
    "\n",
    "Imagine you are working as a data scientist at a home electronics company which manufactures state of the art smart televisions. You want to develop a cool feature in the smart-TV that can recognise five different gestures performed by the user which will help users control the TV without using a remote.\n",
    "\n",
    "The gestures are continuously monitored by the webcam mounted on the TV. Each gesture corresponds to a specific command:\n",
    "\n",
    "* Thumbs up:  Increase the volume\n",
    "* Thumbs down: Decrease the volume\n",
    "* Left swipe: 'Jump' backwards 10 seconds\n",
    "* Right swipe: 'Jump' forward 10 seconds  \n",
    "* Stop: Pause the movie\n",
    "\n",
    "Each video is a sequence of 30 frames (or images). \n",
    "\n",
    "## Data \n",
    "\n",
    "We can get the data from the following link.\n",
    "https://drive.google.com/uc?id=1ehyrYBQ5rbQQe6yL4XbLWe3FMvuVUGiL\n",
    "\n",
    "## Outcomes or Goal for the project\n",
    "\n",
    "You need to accomplish the following in the project:\n",
    "\n",
    "1. **Generator :** The generator should be able to take a batch of videos as input without any error. Steps like cropping, resizing and normalization should be performed successfully.\n",
    "\n",
    "2. **Model :** Develop a model that is able to train without any errors which will be judged on the total number of parameters (as the inference(prediction) time should be less) and the accuracy achieved. As suggested by Snehansu, start training on a small amount of data and then proceed further.\n",
    "\n",
    "3. **Write up :** This should contain the detailed procedure followed in choosing the final model. The write up should start with the reason for choosing the base model, then highlight the reasons and metrics taken into consideration to modify and experiment to arrive at the final model.\n",
    "\n",
    "#### There are certain things you should keep in mind before proceeding further:\n",
    "\n",
    "* Use the correct container: 'Tensorflow 1.5.0 GPU Py3' when you are using a GPU machine, else it'll throw an error similar to 'the kernel died'.\n",
    "* Use a C2/CPU machine to get the data on your persistent storage.\n",
    "* Whenever you modify your model, run the notebook from the beginning. This is to reset the initialisations and the generator.\n",
    "* To check the GPU usage, execute 'nvidia-smi' on the terminal."
   ]
  },
  {
   "cell_type": "code",
   "execution_count": 1,
   "metadata": {
    "id": "ZN7F8N1Ge5gz"
   },
   "outputs": [],
   "source": [
    "## Importing the required libraries\n",
    "\n",
    "import numpy as np\n",
    "import os\n",
    "import pathlib\n",
    "from imageio import imread\n",
    "from skimage.transform import resize as imresize\n",
    "import datetime\n",
    "import time"
   ]
  },
  {
   "cell_type": "code",
   "execution_count": 2,
   "metadata": {
    "id": "ZiGVs7hKMk35"
   },
   "outputs": [],
   "source": [
    "np.random.seed(30)\n",
    "import random as rn\n",
    "rn.seed(30)\n",
    "from keras import backend as K\n",
    "import tensorflow as tf\n",
    "tf.random.set_seed(30)"
   ]
  },
  {
   "cell_type": "code",
   "execution_count": 3,
   "metadata": {
    "id": "ULZggX_FLlfz"
   },
   "outputs": [],
   "source": [
    "## Importing some other libraries\n",
    "\n",
    "from PIL import Image, ImageFilter, ImageEnhance\n",
    "import warnings\n",
    "import cv2\n",
    "warnings.filterwarnings(\"ignore\")\n",
    "import matplotlib.pyplot as plt\n",
    "%matplotlib inline"
   ]
  },
  {
   "cell_type": "markdown",
   "metadata": {
    "id": "sEHhDqZSe5hN"
   },
   "source": [
    "We set the random seed so that the results don't vary drastically."
   ]
  },
  {
   "cell_type": "code",
   "execution_count": 4,
   "metadata": {
    "id": "Ax_Qn0w4L5OI"
   },
   "outputs": [],
   "source": [
    "## Importing Model building and related libraries\n",
    "\n",
    "from keras.models import Sequential, Model\n",
    "from keras.layers import Dense, Flatten, BatchNormalization, Activation, Dropout, LSTM, GRU, TimeDistributed, Bidirectional\n",
    "from keras.layers.convolutional import Conv3D, MaxPooling3D, Conv2D, MaxPooling2D\n",
    "from keras.callbacks import ModelCheckpoint, ReduceLROnPlateau, EarlyStopping\n",
    "from keras.layers.recurrent import LSTM\n",
    "from keras import optimizers\n",
    "import abc"
   ]
  },
  {
   "cell_type": "markdown",
   "metadata": {
    "id": "7bB8KD1ae5hj"
   },
   "source": [
    "In this block, you read the folder names for training and validation. You also set the `batch_size` here. Note that you set the batch size in such a way that you are able to use the GPU in full capacity. You keep increasing the batch size until the machine throws an error."
   ]
  },
  {
   "cell_type": "code",
   "execution_count": 5,
   "metadata": {
    "id": "nwp9K7jUSX1o"
   },
   "outputs": [],
   "source": [
    "train_doc = np.random.permutation(open('/home/datasets/Project_data/train.csv').readlines())\n",
    "val_doc = np.random.permutation(open('/home/datasets/Project_data/val.csv').readlines())"
   ]
  },
  {
   "cell_type": "code",
   "execution_count": 6,
   "metadata": {
    "id": "UXss7__ve5hm"
   },
   "outputs": [],
   "source": [
    "batch_size = 50"
   ]
  },
  {
   "cell_type": "markdown",
   "metadata": {
    "id": "YAjcB7QQe5ht"
   },
   "source": [
    "## Generator\n",
    "This is one of the most important part of the code. The overall structure of the generator has been given. In the generator, you are going to preprocess the images as you have images of 2 different dimensions as well as create a batch of video frames. You have to experiment with `img_idx`, `y`,`z` and normalization such that you get high accuracy."
   ]
  },
  {
   "cell_type": "code",
   "execution_count": 7,
   "metadata": {
    "id": "dZq1hQaDwytS"
   },
   "outputs": [],
   "source": [
    "## Let us define a class for the generator and some other required functions\n",
    "\n",
    "class ModelBuilder(metaclass = abc.ABCMeta) :\n",
    "\n",
    "  ## Defining the Training and Validation Project data paths\n",
    "  def initialize_path(self, project_folder) :\n",
    "    self.train_csv = np.random.permutation(open('/home/datasets/Project_data/train.csv').readlines())\n",
    "    self.val_csv = np.random.permutation(open('/home/datasets/Project_data/val.csv').readlines())\n",
    "    self.train_data = project_folder + '/' + 'train'\n",
    "    self.val_data = project_folder + '/' + 'val'\n",
    "    self.num_train_sequences = len(self.train_csv)\n",
    "    self.num_val_sequences = len(self.val_csv)\n",
    "\n",
    "  ## Method to initializing Image properties\n",
    "  def initialize_properties(self, img_height=100, img_width=100) :\n",
    "    self.img_height = img_height\n",
    "    self.img_width = img_width\n",
    "    self.num_of_classes = 5\n",
    "    self.total_frames = 30\n",
    "    self.channels = 3\n",
    "\n",
    "  ## Method to initialize the Hyperparameters\n",
    "  def initialize_hyperparameters(self, batch_size = 30, epochs = 30, frames_to_sample = 30) :\n",
    "    self.frames_to_sample = frames_to_sample\n",
    "    self.batch_size = batch_size\n",
    "    self.epochs = epochs\n",
    "\n",
    "  ## Method for training a model and returning history after fit.generator. \n",
    "  def training_model(self, model, augment_data = False) :\n",
    "    \n",
    "    ## Let us create the train_generator and the val_generator which will be used in .fit_generator.\n",
    "    train_generator = self.generator(self.train_data, self.train_csv, batch_size, augmentation = augment_data)\n",
    "    val_generator = self.generator(self.val_data, self.val_csv, batch_size)\n",
    "\n",
    "    ## Below code helps in saving our models\n",
    "    model_name = 'model_init' + '_' + str(curr_dt_time).replace(' ','').replace(':','_') + '/'\n",
    "    \n",
    "    if not os.path.exists(model_name):\n",
    "        os.mkdir(model_name)\n",
    "            \n",
    "    filepath = model_name + 'model-{epoch:05d}-{loss:.5f}-{categorical_accuracy:.5f}-{val_loss:.5f}-{val_categorical_accuracy:.5f}.h5'\n",
    "\n",
    "    checkpoint = ModelCheckpoint(filepath, monitor='val_loss', verbose=1, save_best_only=False, save_weights_only=False, mode='auto', period=1)\n",
    "\n",
    "    # Write the REducelronplateau code here\n",
    "    LR = ReduceLROnPlateau(monitor='val_loss', factor=0.2, verbose=1, patience=4)\n",
    "\n",
    "    earlystop = EarlyStopping( monitor=\"val_loss\", min_delta=0,patience=10,verbose=1)\n",
    "    callbacks_list = [checkpoint, LR, earlystop]\n",
    "\n",
    "    ## The steps_per_epoch and validation_steps are used by fit_generator to decide the number of next() calls it need to make\n",
    "    if (self.num_train_sequences % self.batch_size) == 0:\n",
    "       steps_per_epoch = int(self.num_train_sequences / self.batch_size)\n",
    "    else:\n",
    "        steps_per_epoch = (self.num_train_sequences // self.batch_size) + 1\n",
    "\n",
    "    if (self.num_val_sequences % self.batch_size) == 0:\n",
    "        validation_steps = int(self.num_val_sequences / self.batch_size)\n",
    "    else:\n",
    "        validation_steps = (self.num_val_sequences // self.batch_size) + 1\n",
    "\n",
    "    ## Let us now fit the model. This will start training the model and with the help of the checkpoints, you'll be able to save the model\n",
    "    ## at the end of each epoch.\n",
    "    history = model.fit_generator(train_generator, steps_per_epoch=steps_per_epoch, epochs=self.epochs, verbose=1, \n",
    "                    callbacks=callbacks_list, validation_data=val_generator, \n",
    "                    validation_steps=validation_steps, class_weight=None, workers=1, initial_epoch=0)\n",
    "    \n",
    "    return history\n",
    "\n",
    "  def generator(self,source_path, folder_list, batch_size=15, augmentation=False):\n",
    "        img_idx = np.round(np.linspace(0,self.total_frames-1,self.frames_to_sample)).astype(int)\n",
    "        batch_size=self.batch_size\n",
    "        while True:\n",
    "            t = np.random.permutation(folder_list)\n",
    "            num_batches = len(t) // batch_size\n",
    "        \n",
    "            for batch in range(num_batches): \n",
    "                batch_data, batch_labels= self.one_batch_data(source_path,t,batch,batch_size,img_idx,augmentation)\n",
    "                yield batch_data, batch_labels \n",
    "\n",
    "            remaining_seq=len(t) % batch_size\n",
    "        \n",
    "            if (remaining_seq != 0):\n",
    "                batch_data, batch_labels= self.one_batch_data(source_path,t,num_batches,batch_size,img_idx,augmentation,remaining_seq)\n",
    "                yield batch_data, batch_labels \n",
    "    \n",
    "    \n",
    "  def one_batch_data(self,source_path,t,batch,batch_size,img_idx,augmentation,remaining_seq=0):\n",
    "  \n",
    "      seq_len = remaining_seq if remaining_seq else batch_size\n",
    "  \n",
    "      batch_data = np.zeros((seq_len,len(img_idx),self.img_height,self.img_width,self.channels)) \n",
    "      batch_labels = np.zeros((seq_len,self.num_of_classes)) \n",
    "  \n",
    "      if (augmentation): \n",
    "        batch_data_aug = np.zeros((seq_len,len(img_idx),self.img_height,self.img_width,self.channels))\n",
    "\n",
    "      \n",
    "      for folder in range(seq_len): \n",
    "          imgs = os.listdir(source_path+'/'+ t[folder + (batch*batch_size)].split(';')[0]) \n",
    "          for idx,item in enumerate(img_idx):\n",
    "              #performing image reading and resizing\n",
    "              image = imread(source_path+'/'+ t[folder + (batch*batch_size)].strip().split(';')[0]+'/'+imgs[item]).astype(np.float32)\n",
    "              image_resized=imresize(image,(self.img_height,self.img_width,3))\n",
    "          \n",
    "              #normalizing the images\n",
    "              batch_data[folder,idx,:,:,0] = (image_resized[:,:,0])/255\n",
    "              batch_data[folder,idx,:,:,1] = (image_resized[:,:,1])/255\n",
    "              batch_data[folder,idx,:,:,2] = (image_resized[:,:,2])/255\n",
    "          \n",
    "              if (augmentation):\n",
    "                  shifted = cv2.warpAffine(image, \n",
    "                                            np.float32([[1, 0, np.random.randint(-30,30)],[0, 1, np.random.randint(-30,30)]]), \n",
    "                                          (image.shape[1], image.shape[0]))\n",
    "                  \n",
    "                  gray = cv2.cvtColor(shifted,cv2.COLOR_BGR2GRAY)\n",
    "\n",
    "                  x0, y0 = np.argwhere(gray > 0).min(axis=0)\n",
    "                  x1, y1 = np.argwhere(gray > 0).max(axis=0) \n",
    "                  # cropping the images to have the targeted gestures and remove the noise from the images.\n",
    "                  cropped=shifted[x0:x1,y0:y1,:]\n",
    "                  \n",
    "                  image_resized=imresize(cropped,(self.img_height,self.img_width,3))\n",
    "                  \n",
    "                  #shifted = cv2.warpAffine(image_resized, \n",
    "                  #                        np.float32([[1, 0, np.random.randint(-3,3)],[0, 1, np.random.randint(-3,3)]]), \n",
    "                  #                        (image_resized.shape[1], image_resized.shape[0]))\n",
    "          \n",
    "                  batch_data_aug[folder,idx,:,:,0] = (image_resized[:,:,0])/255\n",
    "                  batch_data_aug[folder,idx,:,:,1] = (image_resized[:,:,1])/255\n",
    "                  batch_data_aug[folder,idx,:,:,2] = (image_resized[:,:,2])/255\n",
    "              \n",
    "          \n",
    "          batch_labels[folder, int(t[folder + (batch*batch_size)].strip().split(';')[2])] = 1\n",
    "          \n",
    "  \n",
    "      if (augmentation):\n",
    "          batch_data=np.concatenate([batch_data,batch_data_aug])\n",
    "          batch_labels=np.concatenate([batch_labels,batch_labels])\n",
    "\n",
    "      \n",
    "      return(batch_data,batch_labels)\n",
    "  \n",
    "  @abc.abstractmethod\n",
    "  def init_Model(self) :\n",
    "    pass"
   ]
  },
  {
   "cell_type": "markdown",
   "metadata": {
    "id": "P9IIbR8te5iA"
   },
   "source": [
    "Note here that a video is represented above in the generator as (number of images, height, width, number of channels). Take this into consideration while creating the model architecture."
   ]
  },
  {
   "cell_type": "code",
   "execution_count": 13,
   "metadata": {
    "colab": {
     "base_uri": "https://localhost:8080/"
    },
    "id": "MeFDrs6me5iE",
    "outputId": "98c481bc-4402-4b04-cbd1-78be3f3a69a8"
   },
   "outputs": [
    {
     "name": "stdout",
     "output_type": "stream",
     "text": [
      "# training sequences = 663\n",
      "# validation sequences = 100\n",
      "# epochs = 3\n"
     ]
    }
   ],
   "source": [
    "#train_path = '/notebooks/storage/Final_data/Collated_training/train'\n",
    "#val_path = '/notebooks/storage/Final_data/Collated_training/val'\n",
    "\n",
    "curr_dt_time = datetime.datetime.now()\n",
    "num_train_sequences = len(train_doc)\n",
    "print('# training sequences =', num_train_sequences)\n",
    "num_val_sequences = len(val_doc)\n",
    "print('# validation sequences =', num_val_sequences)\n",
    "num_epochs = 3 # choose the number of epochs\n",
    "print ('# epochs =', num_epochs)"
   ]
  },
  {
   "cell_type": "markdown",
   "metadata": {
    "id": "zx0Sn-t_e5iJ"
   },
   "source": [
    "## Model\n",
    "Here you make the model using different functionalities that Keras provides. Remember to use `Conv3D` and `MaxPooling3D` and not `Conv2D` and `Maxpooling2D` for a 3D convolution model. You would want to use `TimeDistributed` while building a Conv2D + RNN model. Also remember that the last layer is the softmax. Design the network in such a way that the model is able to give good accuracy on the least number of parameters so that it can fit in the memory of the webcam."
   ]
  },
  {
   "cell_type": "markdown",
   "metadata": {
    "id": "zlCCEtSp4nTG"
   },
   "source": [
    "#### Let us first begin with some parameter tuning experiments by creating a sample Model and executing with different parameters"
   ]
  },
  {
   "cell_type": "code",
   "execution_count": 24,
   "metadata": {
    "id": "Ke7qKTsD48F7"
   },
   "outputs": [],
   "source": [
    "class Conv3D_Model(ModelBuilder) :\n",
    "  def init_Model(self, kernelSize=(3,3,3)) :\n",
    "\n",
    "    model = Sequential()\n",
    "    #First Convulation layer\n",
    "    model.add(Conv3D(32, kernelSize, input_shape=(self.frames_to_sample, self.img_height, self.img_width, self.channels), padding='same',\n",
    "                     activation='relu'))\n",
    "    model.add(MaxPooling3D(pool_size=(2,2,2)))\n",
    "    model.add(BatchNormalization())\n",
    "\n",
    "    #Second Convulation Layer\n",
    "    model.add(Conv3D(32, kernelSize,  activation='relu', padding='same'))\n",
    "    model.add(BatchNormalization())\n",
    "    model.add(MaxPooling3D(pool_size=(2, 2, 2)))\n",
    "\n",
    "    #Third Convulation Layer\n",
    "    model.add(Conv3D(64, kernelSize,  activation='relu', padding='same'))\n",
    "    model.add(BatchNormalization())\n",
    "    model.add(MaxPooling3D(pool_size=(2, 2, 2)))\n",
    "\n",
    "    #Fourth Convulation Layer\n",
    "    model.add(Conv3D(128, kernelSize,  activation='relu', padding='same'))\n",
    "    model.add(BatchNormalization())\n",
    "    model.add(MaxPooling3D(pool_size=(2, 2, 2)))\n",
    "\n",
    "    #Dropout layer with 30% Fraction of the input units to drop.\n",
    "    model.add(Dropout(0.3))\n",
    "\n",
    "    #Flatten Layer\n",
    "    model.add(Flatten())\n",
    "    model.add(Dense(128, activation='relu'))\n",
    "    model.add(BatchNormalization())\n",
    "    model.add(Dropout(0.5))\n",
    "\n",
    "    model.add(Dense(64,activation='relu'))\n",
    "    model.add(BatchNormalization())\n",
    "    model.add(Dropout(0.3))\n",
    "\n",
    "    #Dense Layer with softmax activation function.\n",
    "    #Softmax is an activation function that scales numbers/logits into probabilities.\n",
    "    model.add(Dense(self.num_of_classes, activation='softmax'))\n",
    "\n",
    "    model.compile(optimizer = 'adam', loss = 'categorical_crossentropy', metrics=[\"categorical_accuracy\"])\n",
    "\n",
    "    return model"
   ]
  },
  {
   "cell_type": "code",
   "execution_count": 8,
   "metadata": {
    "id": "-fRWzSpWSX1z"
   },
   "outputs": [],
   "source": [
    "project_folder = '/home/datasets/Project_data'"
   ]
  },
  {
   "cell_type": "code",
   "execution_count": null,
   "metadata": {
    "colab": {
     "base_uri": "https://localhost:8080/"
    },
    "id": "FCWaU9TN49Io",
    "outputId": "7f690399-b027-465a-f3f6-fc458e8a6c40"
   },
   "outputs": [
    {
     "name": "stderr",
     "output_type": "stream",
     "text": [
      "2023-05-28 07:11:01.622948: W tensorflow/stream_executor/platform/default/dso_loader.cc:65] Could not load dynamic library 'libcuda.so.1'; dlerror: libcuda.so.1: cannot open shared object file: No such file or directory; LD_LIBRARY_PATH: /usr/local/lib/python3.8/dist-packages/cv2/../../lib64:/usr/local/cuda/extras/CUPTI/lib64:/usr/local/cuda/compat/lib:/usr/local/nvidia/lib:/usr/local/nvidia/lib64\n",
      "2023-05-28 07:11:01.623013: W tensorflow/stream_executor/cuda/cuda_driver.cc:269] failed call to cuInit: UNKNOWN ERROR (303)\n",
      "2023-05-28 07:11:01.623059: I tensorflow/stream_executor/cuda/cuda_diagnostics.cc:163] no NVIDIA GPU device is present: /dev/nvidia0 does not exist\n"
     ]
    },
    {
     "name": "stdout",
     "output_type": "stream",
     "text": [
      "Model: \"sequential\"\n",
      "_________________________________________________________________\n",
      " Layer (type)                Output Shape              Param #   \n",
      "=================================================================\n",
      " conv3d (Conv3D)             (None, 30, 160, 160, 32)  2624      \n",
      "                                                                 \n",
      " max_pooling3d (MaxPooling3D  (None, 15, 80, 80, 32)   0         \n",
      " )                                                               \n",
      "                                                                 \n",
      " batch_normalization (BatchN  (None, 15, 80, 80, 32)   128       \n",
      " ormalization)                                                   \n",
      "                                                                 \n",
      " conv3d_1 (Conv3D)           (None, 15, 80, 80, 32)    27680     \n",
      "                                                                 \n",
      " batch_normalization_1 (Batc  (None, 15, 80, 80, 32)   128       \n",
      " hNormalization)                                                 \n",
      "                                                                 \n",
      " max_pooling3d_1 (MaxPooling  (None, 7, 40, 40, 32)    0         \n",
      " 3D)                                                             \n",
      "                                                                 \n",
      " conv3d_2 (Conv3D)           (None, 7, 40, 40, 64)     55360     \n",
      "                                                                 \n",
      " batch_normalization_2 (Batc  (None, 7, 40, 40, 64)    256       \n",
      " hNormalization)                                                 \n",
      "                                                                 \n",
      " max_pooling3d_2 (MaxPooling  (None, 3, 20, 20, 64)    0         \n",
      " 3D)                                                             \n",
      "                                                                 \n",
      " conv3d_3 (Conv3D)           (None, 3, 20, 20, 128)    221312    \n",
      "                                                                 \n",
      " batch_normalization_3 (Batc  (None, 3, 20, 20, 128)   512       \n",
      " hNormalization)                                                 \n",
      "                                                                 \n",
      " max_pooling3d_3 (MaxPooling  (None, 1, 10, 10, 128)   0         \n",
      " 3D)                                                             \n",
      "                                                                 \n",
      " dropout (Dropout)           (None, 1, 10, 10, 128)    0         \n",
      "                                                                 \n",
      " flatten (Flatten)           (None, 12800)             0         \n",
      "                                                                 \n",
      " dense (Dense)               (None, 128)               1638528   \n",
      "                                                                 \n",
      " batch_normalization_4 (Batc  (None, 128)              512       \n",
      " hNormalization)                                                 \n",
      "                                                                 \n",
      " dropout_1 (Dropout)         (None, 128)               0         \n",
      "                                                                 \n",
      " dense_1 (Dense)             (None, 64)                8256      \n",
      "                                                                 \n",
      " batch_normalization_5 (Batc  (None, 64)               256       \n",
      " hNormalization)                                                 \n",
      "                                                                 \n",
      " dropout_2 (Dropout)         (None, 64)                0         \n",
      "                                                                 \n",
      " dense_2 (Dense)             (None, 5)                 325       \n",
      "                                                                 \n",
      "=================================================================\n",
      "Total params: 1,955,877\n",
      "Trainable params: 1,954,981\n",
      "Non-trainable params: 896\n",
      "_________________________________________________________________\n"
     ]
    }
   ],
   "source": [
    "## Creating an object for the Model Builder class\n",
    "conv_obj = Conv3D_Model()\n",
    "conv_obj.initialize_path(project_folder)\n",
    "conv_obj.initialize_properties(img_height=160, img_width=160)\n",
    "conv_obj.initialize_hyperparameters(frames_to_sample=30, batch_size=15, epochs=3)\n",
    "conv_obj_model = conv_obj.init_Model()\n",
    "conv_obj_model.summary()"
   ]
  },
  {
   "cell_type": "code",
   "execution_count": null,
   "metadata": {
    "id": "MP6H3hti49Ls"
   },
   "outputs": [],
   "source": [
    "## Let us test the generator function as well\n",
    "\n",
    "test_generator_obj = Conv3D_Model()\n",
    "test_generator_obj.initialize_path(project_folder)\n",
    "test_generator_obj.initialize_properties(img_height=160, img_width=160)\n",
    "test_generator_obj.initialize_hyperparameters(frames_to_sample=30, batch_size=15, epochs=3)\n",
    "\n",
    "generator = test_generator_obj.generator(test_generator_obj.val_data, test_generator_obj.val_csv, augmentation=True, batch_size=15)\n",
    "batch_data, batch_labels = next(generator)"
   ]
  },
  {
   "cell_type": "code",
   "execution_count": null,
   "metadata": {
    "colab": {
     "base_uri": "https://localhost:8080/",
     "height": 307
    },
    "id": "CovSUvikYVZW",
    "outputId": "5467dd85-9696-400c-f773-e580206c9a3d"
   },
   "outputs": [
    {
     "data": {
      "text/plain": [
       "<matplotlib.image.AxesImage at 0x7f44510701c0>"
      ]
     },
     "execution_count": 14,
     "metadata": {},
     "output_type": "execute_result"
    },
    {
     "data": {
      "image/png": "[encoded data removed]",
      "text/plain": [
       "<Figure size 432x288 with 2 Axes>"
      ]
     },
     "metadata": {
      "needs_background": "light"
     },
     "output_type": "display_data"
    }
   ],
   "source": [
    "fig, axes = plt.subplots(nrows=1, ncols=2)\n",
    "axes[0].imshow(batch_data[0,10,:,:,:])   \n",
    "axes[1].imshow(batch_data[6,17,:,:,:])"
   ]
  },
  {
   "cell_type": "markdown",
   "metadata": {
    "id": "wpYnn6ugdKMd"
   },
   "source": [
    "#### Let us experiment to get various parameters and check that certain optimized parameter values"
   ]
  },
  {
   "cell_type": "code",
   "execution_count": null,
   "metadata": {
    "colab": {
     "base_uri": "https://localhost:8080/",
     "height": 1000
    },
    "id": "AmMrhoyi49R_",
    "outputId": "48b65339-3cf8-409e-f4c0-11f9b28f65f9"
   },
   "outputs": [
    {
     "name": "stderr",
     "output_type": "stream",
     "text": [
      "WARNING:tensorflow:`period` argument is deprecated. Please use `save_freq` to specify the frequency in number of batches seen.\n"
     ]
    },
    {
     "name": "stdout",
     "output_type": "stream",
     "text": [
      "Epoch 1/3\n"
     ]
    },
    {
     "ename": "ResourceExhaustedError",
     "evalue": "ignored",
     "output_type": "error",
     "traceback": [
      "\u001b[0;31m---------------------------------------------------------------------------\u001b[0m",
      "\u001b[0;31mResourceExhaustedError\u001b[0m                    Traceback (most recent call last)",
      "\u001b[0;32m<ipython-input-13-8ef5b303efc9>\u001b[0m in \u001b[0;36m<cell line: 9>\u001b[0;34m()\u001b[0m\n\u001b[1;32m      7\u001b[0m \u001b[0mconv_obj\u001b[0m\u001b[0;34m.\u001b[0m\u001b[0minitialize_hyperparameters\u001b[0m\u001b[0;34m(\u001b[0m\u001b[0mframes_to_sample\u001b[0m\u001b[0;34m=\u001b[0m\u001b[0;36m30\u001b[0m\u001b[0;34m,\u001b[0m \u001b[0mbatch_size\u001b[0m \u001b[0;34m=\u001b[0m \u001b[0;36m40\u001b[0m\u001b[0;34m,\u001b[0m \u001b[0mepochs\u001b[0m\u001b[0;34m=\u001b[0m \u001b[0;36m2\u001b[0m\u001b[0;34m)\u001b[0m\u001b[0;34m\u001b[0m\u001b[0;34m\u001b[0m\u001b[0m\n\u001b[1;32m      8\u001b[0m \u001b[0mconv_obj_model\u001b[0m \u001b[0;34m=\u001b[0m \u001b[0mconv_obj\u001b[0m\u001b[0;34m.\u001b[0m\u001b[0minit_Model\u001b[0m\u001b[0;34m(\u001b[0m\u001b[0;34m)\u001b[0m\u001b[0;34m\u001b[0m\u001b[0;34m\u001b[0m\u001b[0m\n\u001b[0;32m----> 9\u001b[0;31m \u001b[0mconv_obj\u001b[0m\u001b[0;34m.\u001b[0m\u001b[0mtraining_model\u001b[0m\u001b[0;34m(\u001b[0m\u001b[0mconv_obj_model\u001b[0m\u001b[0;34m)\u001b[0m\u001b[0;34m\u001b[0m\u001b[0;34m\u001b[0m\u001b[0m\n\u001b[0m",
      "\u001b[0;32m<ipython-input-7-a85f224ce079>\u001b[0m in \u001b[0;36mtraining_model\u001b[0;34m(self, model, augment_data)\u001b[0m\n\u001b[1;32m     62\u001b[0m     \u001b[0;31m## Let us now fit the model. This will start training the model and with the help of the checkpoints, you'll be able to save the model\u001b[0m\u001b[0;34m\u001b[0m\u001b[0;34m\u001b[0m\u001b[0m\n\u001b[1;32m     63\u001b[0m     \u001b[0;31m## at the end of each epoch.\u001b[0m\u001b[0;34m\u001b[0m\u001b[0;34m\u001b[0m\u001b[0m\n\u001b[0;32m---> 64\u001b[0;31m     history = model.fit_generator(train_generator, steps_per_epoch=steps_per_epoch, epochs=num_epochs, verbose=1, \n\u001b[0m\u001b[1;32m     65\u001b[0m                     \u001b[0mcallbacks\u001b[0m\u001b[0;34m=\u001b[0m\u001b[0mcallbacks_list\u001b[0m\u001b[0;34m,\u001b[0m \u001b[0mvalidation_data\u001b[0m\u001b[0;34m=\u001b[0m\u001b[0mval_generator\u001b[0m\u001b[0;34m,\u001b[0m\u001b[0;34m\u001b[0m\u001b[0;34m\u001b[0m\u001b[0m\n\u001b[1;32m     66\u001b[0m                     validation_steps=validation_steps, class_weight=None, workers=1, initial_epoch=0)\n",
      "\u001b[0;32m/usr/local/lib/python3.10/dist-packages/keras/engine/training.py\u001b[0m in \u001b[0;36mfit_generator\u001b[0;34m(self, generator, steps_per_epoch, epochs, verbose, callbacks, validation_data, validation_steps, validation_freq, class_weight, max_queue_size, workers, use_multiprocessing, shuffle, initial_epoch)\u001b[0m\n\u001b[1;32m   2634\u001b[0m             \u001b[0mstacklevel\u001b[0m\u001b[0;34m=\u001b[0m\u001b[0;36m2\u001b[0m\u001b[0;34m,\u001b[0m\u001b[0;34m\u001b[0m\u001b[0;34m\u001b[0m\u001b[0m\n\u001b[1;32m   2635\u001b[0m         )\n\u001b[0;32m-> 2636\u001b[0;31m         return self.fit(\n\u001b[0m\u001b[1;32m   2637\u001b[0m             \u001b[0mgenerator\u001b[0m\u001b[0;34m,\u001b[0m\u001b[0;34m\u001b[0m\u001b[0;34m\u001b[0m\u001b[0m\n\u001b[1;32m   2638\u001b[0m             \u001b[0msteps_per_epoch\u001b[0m\u001b[0;34m=\u001b[0m\u001b[0msteps_per_epoch\u001b[0m\u001b[0;34m,\u001b[0m\u001b[0;34m\u001b[0m\u001b[0;34m\u001b[0m\u001b[0m\n",
      "\u001b[0;32m/usr/local/lib/python3.10/dist-packages/keras/utils/traceback_utils.py\u001b[0m in \u001b[0;36merror_handler\u001b[0;34m(*args, **kwargs)\u001b[0m\n\u001b[1;32m     68\u001b[0m             \u001b[0;31m# To get the full stack trace, call:\u001b[0m\u001b[0;34m\u001b[0m\u001b[0;34m\u001b[0m\u001b[0m\n\u001b[1;32m     69\u001b[0m             \u001b[0;31m# `tf.debugging.disable_traceback_filtering()`\u001b[0m\u001b[0;34m\u001b[0m\u001b[0;34m\u001b[0m\u001b[0m\n\u001b[0;32m---> 70\u001b[0;31m             \u001b[0;32mraise\u001b[0m \u001b[0me\u001b[0m\u001b[0;34m.\u001b[0m\u001b[0mwith_traceback\u001b[0m\u001b[0;34m(\u001b[0m\u001b[0mfiltered_tb\u001b[0m\u001b[0;34m)\u001b[0m \u001b[0;32mfrom\u001b[0m \u001b[0;32mNone\u001b[0m\u001b[0;34m\u001b[0m\u001b[0;34m\u001b[0m\u001b[0m\n\u001b[0m\u001b[1;32m     71\u001b[0m         \u001b[0;32mfinally\u001b[0m\u001b[0;34m:\u001b[0m\u001b[0;34m\u001b[0m\u001b[0;34m\u001b[0m\u001b[0m\n\u001b[1;32m     72\u001b[0m             \u001b[0;32mdel\u001b[0m \u001b[0mfiltered_tb\u001b[0m\u001b[0;34m\u001b[0m\u001b[0;34m\u001b[0m\u001b[0m\n",
      "\u001b[0;32m/usr/local/lib/python3.10/dist-packages/tensorflow/python/eager/execute.py\u001b[0m in \u001b[0;36mquick_execute\u001b[0;34m(op_name, num_outputs, inputs, attrs, ctx, name)\u001b[0m\n\u001b[1;32m     50\u001b[0m   \u001b[0;32mtry\u001b[0m\u001b[0;34m:\u001b[0m\u001b[0;34m\u001b[0m\u001b[0;34m\u001b[0m\u001b[0m\n\u001b[1;32m     51\u001b[0m     \u001b[0mctx\u001b[0m\u001b[0;34m.\u001b[0m\u001b[0mensure_initialized\u001b[0m\u001b[0;34m(\u001b[0m\u001b[0;34m)\u001b[0m\u001b[0;34m\u001b[0m\u001b[0;34m\u001b[0m\u001b[0m\n\u001b[0;32m---> 52\u001b[0;31m     tensors = pywrap_tfe.TFE_Py_Execute(ctx._handle, device_name, op_name,\n\u001b[0m\u001b[1;32m     53\u001b[0m                                         inputs, attrs, num_outputs)\n\u001b[1;32m     54\u001b[0m   \u001b[0;32mexcept\u001b[0m \u001b[0mcore\u001b[0m\u001b[0;34m.\u001b[0m\u001b[0m_NotOkStatusException\u001b[0m \u001b[0;32mas\u001b[0m \u001b[0me\u001b[0m\u001b[0;34m:\u001b[0m\u001b[0;34m\u001b[0m\u001b[0;34m\u001b[0m\u001b[0m\n",
      "\u001b[0;31mResourceExhaustedError\u001b[0m: Graph execution error:\n\nDetected at node 'gradient_tape/sequential_1/max_pooling3d_4/MaxPool3D/MaxPool3DGrad' defined at (most recent call last):\n    File \"/usr/lib/python3.10/runpy.py\", line 196, in _run_module_as_main\n      return _run_code(code, main_globals, None,\n    File \"/usr/lib/python3.10/runpy.py\", line 86, in _run_code\n      exec(code, run_globals)\n    File \"/usr/local/lib/python3.10/dist-packages/ipykernel_launcher.py\", line 16, in <module>\n      app.launch_new_instance()\n    File \"/usr/local/lib/python3.10/dist-packages/traitlets/config/application.py\", line 992, in launch_instance\n      app.start()\n    File \"/usr/local/lib/python3.10/dist-packages/ipykernel/kernelapp.py\", line 619, in start\n      self.io_loop.start()\n    File \"/usr/local/lib/python3.10/dist-packages/tornado/platform/asyncio.py\", line 195, in start\n      self.asyncio_loop.run_forever()\n    File \"/usr/lib/python3.10/asyncio/base_events.py\", line 603, in run_forever\n      self._run_once()\n    File \"/usr/lib/python3.10/asyncio/base_events.py\", line 1909, in _run_once\n      handle._run()\n    File \"/usr/lib/python3.10/asyncio/events.py\", line 80, in _run\n      self._context.run(self._callback, *self._args)\n    File \"/usr/local/lib/python3.10/dist-packages/tornado/ioloop.py\", line 685, in <lambda>\n      lambda f: self._run_callback(functools.partial(callback, future))\n    File \"/usr/local/lib/python3.10/dist-packages/tornado/ioloop.py\", line 738, in _run_callback\n      ret = callback()\n    File \"/usr/local/lib/python3.10/dist-packages/tornado/gen.py\", line 825, in inner\n      self.ctx_run(self.run)\n    File \"/usr/local/lib/python3.10/dist-packages/tornado/gen.py\", line 786, in run\n      yielded = self.gen.send(value)\n    File \"/usr/local/lib/python3.10/dist-packages/ipykernel/kernelbase.py\", line 361, in process_one\n      yield gen.maybe_future(dispatch(*args))\n    File \"/usr/local/lib/python3.10/dist-packages/tornado/gen.py\", line 234, in wrapper\n      yielded = ctx_run(next, result)\n    File \"/usr/local/lib/python3.10/dist-packages/ipykernel/kernelbase.py\", line 261, in dispatch_shell\n      yield gen.maybe_future(handler(stream, idents, msg))\n    File \"/usr/local/lib/python3.10/dist-packages/tornado/gen.py\", line 234, in wrapper\n      yielded = ctx_run(next, result)\n    File \"/usr/local/lib/python3.10/dist-packages/ipykernel/kernelbase.py\", line 539, in execute_request\n      self.do_execute(\n    File \"/usr/local/lib/python3.10/dist-packages/tornado/gen.py\", line 234, in wrapper\n      yielded = ctx_run(next, result)\n    File \"/usr/local/lib/python3.10/dist-packages/ipykernel/ipkernel.py\", line 302, in do_execute\n      res = shell.run_cell(code, store_history=store_history, silent=silent)\n    File \"/usr/local/lib/python3.10/dist-packages/ipykernel/zmqshell.py\", line 539, in run_cell\n      return super(ZMQInteractiveShell, self).run_cell(*args, **kwargs)\n    File \"/usr/local/lib/python3.10/dist-packages/IPython/core/interactiveshell.py\", line 2975, in run_cell\n      result = self._run_cell(\n    File \"/usr/local/lib/python3.10/dist-packages/IPython/core/interactiveshell.py\", line 3030, in _run_cell\n      return runner(coro)\n    File \"/usr/local/lib/python3.10/dist-packages/IPython/core/async_helpers.py\", line 78, in _pseudo_sync_runner\n      coro.send(None)\n    File \"/usr/local/lib/python3.10/dist-packages/IPython/core/interactiveshell.py\", line 3257, in run_cell_async\n      has_raised = await self.run_ast_nodes(code_ast.body, cell_name,\n    File \"/usr/local/lib/python3.10/dist-packages/IPython/core/interactiveshell.py\", line 3473, in run_ast_nodes\n      if (await self.run_code(code, result,  async_=asy)):\n    File \"/usr/local/lib/python3.10/dist-packages/IPython/core/interactiveshell.py\", line 3553, in run_code\n      exec(code_obj, self.user_global_ns, self.user_ns)\n    File \"<ipython-input-13-8ef5b303efc9>\", line 9, in <cell line: 9>\n      conv_obj.training_model(conv_obj_model)\n    File \"<ipython-input-7-a85f224ce079>\", line 64, in training_model\n      history = model.fit_generator(train_generator, steps_per_epoch=steps_per_epoch, epochs=num_epochs, verbose=1,\n    File \"/usr/local/lib/python3.10/dist-packages/keras/engine/training.py\", line 2636, in fit_generator\n      return self.fit(\n    File \"/usr/local/lib/python3.10/dist-packages/keras/utils/traceback_utils.py\", line 65, in error_handler\n      return fn(*args, **kwargs)\n    File \"/usr/local/lib/python3.10/dist-packages/keras/engine/training.py\", line 1685, in fit\n      tmp_logs = self.train_function(iterator)\n    File \"/usr/local/lib/python3.10/dist-packages/keras/engine/training.py\", line 1284, in train_function\n      return step_function(self, iterator)\n    File \"/usr/local/lib/python3.10/dist-packages/keras/engine/training.py\", line 1268, in step_function\n      outputs = model.distribute_strategy.run(run_step, args=(data,))\n    File \"/usr/local/lib/python3.10/dist-packages/keras/engine/training.py\", line 1249, in run_step\n      outputs = model.train_step(data)\n    File \"/usr/local/lib/python3.10/dist-packages/keras/engine/training.py\", line 1054, in train_step\n      self.optimizer.minimize(loss, self.trainable_variables, tape=tape)\n    File \"/usr/local/lib/python3.10/dist-packages/keras/optimizers/optimizer.py\", line 542, in minimize\n      grads_and_vars = self.compute_gradients(loss, var_list, tape)\n    File \"/usr/local/lib/python3.10/dist-packages/keras/optimizers/optimizer.py\", line 275, in compute_gradients\n      grads = tape.gradient(loss, var_list)\nNode: 'gradient_tape/sequential_1/max_pooling3d_4/MaxPool3D/MaxPool3DGrad'\nOOM when allocating tensor with shape[40,32,30,160,160] and type float on /job:localhost/replica:0/task:0/device:GPU:0 by allocator GPU_0_bfc\n\t [[{{node gradient_tape/sequential_1/max_pooling3d_4/MaxPool3D/MaxPool3DGrad}}]]\nHint: If you want to see a list of allocated tensors when OOM happens, add report_tensor_allocations_upon_oom to RunOptions for current allocation info. This isn't available when running in Eager mode.\n [Op:__inference_train_function_3986]"
     ]
    }
   ],
   "source": [
    "## We will try to get the limit on memory sources\n",
    "\n",
    "## Creating an object for the Model Builder class\n",
    "conv_obj = Conv3D_Model()\n",
    "conv_obj.initialize_path(project_folder)\n",
    "conv_obj.initialize_properties(img_height=160, img_width=160)\n",
    "conv_obj.initialize_hyperparameters(frames_to_sample=30, batch_size = 40, epochs= 2)\n",
    "conv_obj_model = conv_obj.init_Model()\n",
    "conv_obj.training_model(conv_obj_model)"
   ]
  },
  {
   "cell_type": "markdown",
   "metadata": {
    "id": "BQwaeJ_bjiZ2"
   },
   "source": [
    "We will experiment with differnt batch sizes, sample frames and image resolutions to get the trade of between them and the time taken for each model"
   ]
  },
  {
   "cell_type": "code",
   "execution_count": null,
   "metadata": {
    "colab": {
     "base_uri": "https://localhost:8080/"
    },
    "id": "w-KEHeIr48dn",
    "outputId": "9177b22e-3e5d-48d5-c38b-3e5b6e2987f5"
   },
   "outputs": [
    {
     "name": "stdout",
     "output_type": "stream",
     "text": [
      "WARNING:tensorflow:`period` argument is deprecated. Please use `save_freq` to specify the frequency in number of batches seen.\n",
      "Epoch 1/3\n",
      "45/45 [==============================] - ETA: 0s - loss: 1.8191 - categorical_accuracy: 0.3680\n",
      "Epoch 00001: saving model to model_init_2023-05-2813_38_16.812671/model-00001-1.81913-0.36802-1.60271-0.21000.h5\n",
      "45/45 [==============================] - 108s 2s/step - loss: 1.8191 - categorical_accuracy: 0.3680 - val_loss: 1.6027 - val_categorical_accuracy: 0.2100 - lr: 0.0010\n",
      "Epoch 2/3\n",
      "45/45 [==============================] - ETA: 0s - loss: 1.4955 - categorical_accuracy: 0.4615\n",
      "Epoch 00002: saving model to model_init_2023-05-2813_38_16.812671/model-00002-1.49546-0.46154-3.00571-0.17000.h5\n",
      "45/45 [==============================] - 106s 2s/step - loss: 1.4955 - categorical_accuracy: 0.4615 - val_loss: 3.0057 - val_categorical_accuracy: 0.1700 - lr: 0.0010\n",
      "Epoch 3/3\n",
      "45/45 [==============================] - ETA: 0s - loss: 1.2394 - categorical_accuracy: 0.4962\n",
      "Epoch 00003: saving model to model_init_2023-05-2813_38_16.812671/model-00003-1.23939-0.49623-3.23694-0.23000.h5\n",
      "45/45 [==============================] - 106s 2s/step - loss: 1.2394 - categorical_accuracy: 0.4962 - val_loss: 3.2369 - val_categorical_accuracy: 0.2300 - lr: 0.0010\n",
      "Total Params: 907301\n",
      "Total time taken for training:  321.84  secs\n"
     ]
    }
   ],
   "source": [
    "## Experimenting with batch size = 15, image size = 100 X 100, sample frames = 20\n",
    "\n",
    "import time\n",
    "start = time.time()\n",
    "\n",
    "conv_obj = Conv3D_Model()\n",
    "conv_obj.initialize_path(project_folder)\n",
    "conv_obj.initialize_properties(img_height=100, img_width=100)\n",
    "conv_obj.initialize_hyperparameters(frames_to_sample=20, batch_size=15, epochs=3)\n",
    "conv_obj_model = conv_obj.init_Model()\n",
    "conv_obj.training_model(conv_obj_model)\n",
    "\n",
    "end = time.time()\n",
    "\n",
    "print(\"Total Params:\", conv_obj_model.count_params())\n",
    "print(\"Total time taken for training: \", \"{:.2f}\".format((end-start)), \" secs\")"
   ]
  },
  {
   "cell_type": "code",
   "execution_count": null,
   "metadata": {
    "colab": {
     "base_uri": "https://localhost:8080/"
    },
    "id": "1iM1upwt48g_",
    "outputId": "78d8efbc-5c27-43bb-a2d0-64297e4a4bed"
   },
   "outputs": [
    {
     "name": "stdout",
     "output_type": "stream",
     "text": [
      "WARNING:tensorflow:`period` argument is deprecated. Please use `save_freq` to specify the frequency in number of batches seen.\n"
     ]
    },
    {
     "name": "stderr",
     "output_type": "stream",
     "text": [
      "2023-05-28 13:38:36.788368: W tensorflow/core/common_runtime/gpu/gpu_bfc_allocator.cc:39] Overriding allow_growth setting because the TF_FORCE_GPU_ALLOW_GROWTH environment variable is set. Original config value was 0.\n",
      "2023-05-28 13:38:36.788427: I tensorflow/core/common_runtime/gpu/gpu_device.cc:1525] Created device /job:localhost/replica:0/task:0/device:GPU:0 with 14802 MB memory:  -> device: 0, name: Quadro RTX 5000, pci bus id: 0000:3f:00.0, compute capability: 7.5\n"
     ]
    },
    {
     "name": "stdout",
     "output_type": "stream",
     "text": [
      "Epoch 1/3\n"
     ]
    },
    {
     "name": "stderr",
     "output_type": "stream",
     "text": [
      "2023-05-28 13:38:41.458537: I tensorflow/stream_executor/cuda/cuda_dnn.cc:377] Loaded cuDNN version 8302\n"
     ]
    },
    {
     "name": "stdout",
     "output_type": "stream",
     "text": [
      "45/45 [==============================] - ETA: 0s - loss: 1.7361 - categorical_accuracy: 0.3529\n",
      "Epoch 00001: saving model to model_init_2023-05-2813_38_16.812671/model-00001-1.73615-0.35294-2.70842-0.22000.h5\n",
      "45/45 [==============================] - 124s 3s/step - loss: 1.7361 - categorical_accuracy: 0.3529 - val_loss: 2.7084 - val_categorical_accuracy: 0.2200 - lr: 0.0010\n",
      "Epoch 2/3\n",
      "45/45 [==============================] - ETA: 0s - loss: 1.3358 - categorical_accuracy: 0.4902\n",
      "Epoch 00002: saving model to model_init_2023-05-2813_38_16.812671/model-00002-1.33581-0.49020-3.75887-0.16000.h5\n",
      "45/45 [==============================] - 121s 3s/step - loss: 1.3358 - categorical_accuracy: 0.4902 - val_loss: 3.7589 - val_categorical_accuracy: 0.1600 - lr: 0.0010\n",
      "Epoch 3/3\n",
      "45/45 [==============================] - ETA: 0s - loss: 1.1963 - categorical_accuracy: 0.5551\n",
      "Epoch 00003: saving model to model_init_2023-05-2813_38_16.812671/model-00003-1.19629-0.55505-3.07240-0.11000.h5\n",
      "45/45 [==============================] - 121s 3s/step - loss: 1.1963 - categorical_accuracy: 0.5551 - val_loss: 3.0724 - val_categorical_accuracy: 0.1100 - lr: 0.0010\n",
      "Total Params: 1955877\n",
      "Total time taken for training:  369.22  secs\n"
     ]
    }
   ],
   "source": [
    "## Experimenting with batch size = 15, image size = 160 X 160, sample frames = 20\n",
    "import time\n",
    "start = time.time()\n",
    "\n",
    "conv_obj = Conv3D_Model()\n",
    "conv_obj.initialize_path(project_folder)\n",
    "conv_obj.initialize_properties(img_height=160, img_width=160)\n",
    "conv_obj.initialize_hyperparameters(frames_to_sample=20, batch_size=15, epochs=3)\n",
    "conv_obj_model = conv_obj.init_Model()\n",
    "conv_obj.training_model(conv_obj_model)\n",
    "\n",
    "end = time.time()\n",
    "\n",
    "print(\"Total Params:\", conv_obj_model.count_params())\n",
    "print(\"Total time taken for training: \", \"{:.2f}\".format((end-start)), \" secs\")"
   ]
  },
  {
   "cell_type": "code",
   "execution_count": null,
   "metadata": {
    "id": "q3ebABL1gywI",
    "outputId": "1f4a6bbd-76f9-402d-af5e-6a2771678a3e"
   },
   "outputs": [
    {
     "name": "stderr",
     "output_type": "stream",
     "text": [
      "2023-05-28 17:10:19.807868: W tensorflow/core/common_runtime/gpu/gpu_bfc_allocator.cc:39] Overriding allow_growth setting because the TF_FORCE_GPU_ALLOW_GROWTH environment variable is set. Original config value was 0.\n",
      "2023-05-28 17:10:19.807942: I tensorflow/core/common_runtime/gpu/gpu_device.cc:1525] Created device /job:localhost/replica:0/task:0/device:GPU:0 with 22851 MB memory:  -> device: 0, name: Quadro RTX 6000, pci bus id: 0000:1c:00.0, compute capability: 7.5\n"
     ]
    },
    {
     "name": "stdout",
     "output_type": "stream",
     "text": [
      "WARNING:tensorflow:`period` argument is deprecated. Please use `save_freq` to specify the frequency in number of batches seen.\n",
      "Epoch 1/3\n"
     ]
    },
    {
     "name": "stderr",
     "output_type": "stream",
     "text": [
      "2023-05-28 17:10:27.538886: I tensorflow/stream_executor/cuda/cuda_dnn.cc:377] Loaded cuDNN version 8302\n"
     ]
    },
    {
     "name": "stdout",
     "output_type": "stream",
     "text": [
      "34/34 [==============================] - ETA: 0s - loss: 1.7885 - categorical_accuracy: 0.3741\n",
      "Epoch 00001: saving model to model_init_2023-05-2817_09_52.050892/model-00001-1.78851-0.37406-2.18651-0.27000.h5\n",
      "34/34 [==============================] - 142s 4s/step - loss: 1.7885 - categorical_accuracy: 0.3741 - val_loss: 2.1865 - val_categorical_accuracy: 0.2700 - lr: 0.0010\n",
      "Epoch 2/3\n",
      "34/34 [==============================] - ETA: 0s - loss: 1.3397 - categorical_accuracy: 0.4781\n",
      "Epoch 00002: saving model to model_init_2023-05-2817_09_52.050892/model-00002-1.33971-0.47813-2.43784-0.30000.h5\n",
      "34/34 [==============================] - 118s 4s/step - loss: 1.3397 - categorical_accuracy: 0.4781 - val_loss: 2.4378 - val_categorical_accuracy: 0.3000 - lr: 0.0010\n",
      "Epoch 3/3\n",
      "34/34 [==============================] - ETA: 0s - loss: 1.1164 - categorical_accuracy: 0.5777\n",
      "Epoch 00003: saving model to model_init_2023-05-2817_09_52.050892/model-00003-1.11639-0.57768-4.81199-0.13000.h5\n",
      "34/34 [==============================] - 116s 4s/step - loss: 1.1164 - categorical_accuracy: 0.5777 - val_loss: 4.8120 - val_categorical_accuracy: 0.1300 - lr: 0.0010\n",
      "Total Params: 1955877\n",
      "Total time taken for training:  383.27  secs\n"
     ]
    }
   ],
   "source": [
    "## Experimenting with batch size = 20, image size = 160 X 160, sample frames = 20\n",
    "\n",
    "start = time.time()\n",
    "\n",
    "conv_obj = Conv3D_Model()\n",
    "conv_obj.initialize_path(project_folder)\n",
    "conv_obj.initialize_properties(img_height=160, img_width=160)\n",
    "conv_obj.initialize_hyperparameters(frames_to_sample=20, batch_size=20, epochs=3)\n",
    "conv_obj_model = conv_obj.init_Model()\n",
    "conv_obj.training_model(conv_obj_model)\n",
    "\n",
    "end = time.time()\n",
    "\n",
    "print(\"Total Params:\", conv_obj_model.count_params())\n",
    "print(\"Total time taken for training: \", \"{:.2f}\".format((end-start)), \" secs\")"
   ]
  },
  {
   "cell_type": "code",
   "execution_count": null,
   "metadata": {
    "id": "pMqCOcYe48kB",
    "outputId": "370f494d-a3b8-4bb3-a6b2-3cad41266b0d"
   },
   "outputs": [
    {
     "name": "stdout",
     "output_type": "stream",
     "text": [
      "WARNING:tensorflow:`period` argument is deprecated. Please use `save_freq` to specify the frequency in number of batches seen.\n",
      "Epoch 1/3\n",
      "34/34 [==============================] - ETA: 0s - loss: 1.5525 - categorical_accuracy: 0.4268\n",
      "Epoch 00001: saving model to model_init_2023-05-2817_17_18.506936/model-00001-1.55247-0.42685-1.87936-0.17000.h5\n",
      "34/34 [==============================] - 181s 5s/step - loss: 1.5525 - categorical_accuracy: 0.4268 - val_loss: 1.8794 - val_categorical_accuracy: 0.1700 - lr: 0.0010\n",
      "Epoch 2/3\n",
      "34/34 [==============================] - ETA: 0s - loss: 1.1610 - categorical_accuracy: 0.5732\n",
      "Epoch 00002: saving model to model_init_2023-05-2817_17_18.506936/model-00002-1.16101-0.57315-3.85353-0.33000.h5\n",
      "34/34 [==============================] - 176s 5s/step - loss: 1.1610 - categorical_accuracy: 0.5732 - val_loss: 3.8535 - val_categorical_accuracy: 0.3300 - lr: 0.0010\n",
      "Epoch 3/3\n",
      "34/34 [==============================] - ETA: 0s - loss: 1.0784 - categorical_accuracy: 0.5852\n",
      "Epoch 00003: saving model to model_init_2023-05-2817_17_18.506936/model-00003-1.07837-0.58522-2.89109-0.33000.h5\n",
      "34/34 [==============================] - 173s 5s/step - loss: 1.0784 - categorical_accuracy: 0.5852 - val_loss: 2.8911 - val_categorical_accuracy: 0.3300 - lr: 0.0010\n",
      "Total Params: 1955877\n",
      "Total time taken for training:  534.01  secs\n"
     ]
    }
   ],
   "source": [
    "## Experimenting with batch size = 20, image size = 160 X 160, sample frames = 30 \n",
    "\n",
    "start = time.time()\n",
    "\n",
    "conv_obj = Conv3D_Model()\n",
    "conv_obj.initialize_path(project_folder)\n",
    "conv_obj.initialize_properties(img_height=160, img_width=160)\n",
    "conv_obj.initialize_hyperparameters(frames_to_sample=30, batch_size=20, epochs=3)\n",
    "conv_obj_model = conv_obj.init_Model()\n",
    "conv_obj.training_model(conv_obj_model)\n",
    "\n",
    "end = time.time()\n",
    "\n",
    "print(\"Total Params:\", conv_obj_model.count_params())\n",
    "print(\"Total time taken for training: \", \"{:.2f}\".format((end-start)), \" secs\")"
   ]
  },
  {
   "cell_type": "code",
   "execution_count": null,
   "metadata": {
    "id": "h4aHsOP6lamg",
    "outputId": "54f0ebce-ca20-4f49-df15-07d1e68e2b9e"
   },
   "outputs": [
    {
     "name": "stdout",
     "output_type": "stream",
     "text": [
      "WARNING:tensorflow:`period` argument is deprecated. Please use `save_freq` to specify the frequency in number of batches seen.\n",
      "Epoch 1/3\n",
      "23/23 [==============================] - ETA: 0s - loss: 1.6050 - categorical_accuracy: 0.4087\n",
      "Epoch 00001: saving model to model_init_2023-05-2817_17_18.506936/model-00001-1.60499-0.40875-1.62513-0.23000.h5\n",
      "23/23 [==============================] - 174s 8s/step - loss: 1.6050 - categorical_accuracy: 0.4087 - val_loss: 1.6251 - val_categorical_accuracy: 0.2300 - lr: 0.0010\n",
      "Epoch 2/3\n",
      "23/23 [==============================] - ETA: 0s - loss: 1.1664 - categorical_accuracy: 0.5747\n",
      "Epoch 00002: saving model to model_init_2023-05-2817_17_18.506936/model-00002-1.16637-0.57466-4.17211-0.21000.h5\n",
      "23/23 [==============================] - 174s 8s/step - loss: 1.1664 - categorical_accuracy: 0.5747 - val_loss: 4.1721 - val_categorical_accuracy: 0.2100 - lr: 0.0010\n",
      "Epoch 3/3\n",
      "23/23 [==============================] - ETA: 0s - loss: 1.0898 - categorical_accuracy: 0.5656\n",
      "Epoch 00003: saving model to model_init_2023-05-2817_17_18.506936/model-00003-1.08980-0.56561-3.18687-0.16000.h5\n",
      "23/23 [==============================] - 171s 8s/step - loss: 1.0898 - categorical_accuracy: 0.5656 - val_loss: 3.1869 - val_categorical_accuracy: 0.1600 - lr: 0.0010\n",
      "Total Params: 1955877\n",
      "Total time taken for training:  526.42  secs\n"
     ]
    }
   ],
   "source": [
    "## Experimenting with batch size = 30, image size = 160 X 160, sample frames = 30\n",
    "\n",
    "start = time.time()\n",
    "\n",
    "conv_obj = Conv3D_Model()\n",
    "conv_obj.initialize_path(project_folder)\n",
    "conv_obj.initialize_properties(img_height=160, img_width=160)\n",
    "conv_obj.initialize_hyperparameters(frames_to_sample=30, batch_size=30, epochs=3)\n",
    "conv_obj_model = conv_obj.init_Model()\n",
    "conv_obj.training_model(conv_obj_model)\n",
    "\n",
    "end = time.time()\n",
    "\n",
    "print(\"Total Params:\", conv_obj_model.count_params())\n",
    "print(\"Total time taken for training: \", \"{:.2f}\".format((end-start)), \" secs\")"
   ]
  },
  {
   "cell_type": "markdown",
   "metadata": {
    "id": "y0UXh84awgTc"
   },
   "source": [
    "### Experiment Summary\n",
    "\n",
    "* Experiment 1 (Batch size = 15, image size = 100 X 100, sample frames = 20) -> 321.84  secs\n",
    "* Experiment 2 (Batch size = 15, image size = 160 X 160, sample frames = 20) -> 369.22  secs\n",
    "* Experiment 3 (Batch size = 20, image size = 160 X 160, sample frames = 20) -> 383.27  secs\n",
    "* Experiment 4 (Batch size = 20, image size = 160 X 160, sample frames = 30) -> 534.01  secs\n",
    "* Experiment 5 (Batch size = 30, image size = 160 X 160, sample frames = 30) -> 526.42  secs\n",
    "\n",
    "We experimented with batch sizes from 15 to 30 and image resolution 100 X 100 and 160 X 160.\n",
    "From above summary, we can clearly observe that the increase in sample frames and image sizes results in more time increase than increasing the batch sizes.\n",
    "\n"
   ]
  },
  {
   "cell_type": "markdown",
   "metadata": {
    "id": "Ti7reTy90S9i"
   },
   "source": [
    "### Model 1\n",
    "\n",
    "Batch Size = 35 and No of Epochs = 16"
   ]
  },
  {
   "cell_type": "code",
   "execution_count": null,
   "metadata": {
    "id": "YNquzqn5nFui"
   },
   "outputs": [],
   "source": [
    "class Conv3D_Model1(ModelBuilder) :\n",
    "  def init_Model(self, kernelSize = (3, 3, 3), dropout = 0.3, dense_Neurons = 64) :\n",
    "\n",
    "    model = Sequential()\n",
    "    model.add(Conv3D(32, kernelSize, input_shape=(self.frames_to_sample, self.img_height, self.img_width, self.channels), padding='same',\n",
    "                    activation='relu'))\n",
    "    model.add(MaxPooling3D(pool_size=(2,2,2)))\n",
    "    model.add(BatchNormalization())\n",
    "\n",
    "    #Second Convulation Layer\n",
    "    model.add(Conv3D(32, kernelSize,  activation='relu', padding='same'))\n",
    "    model.add(BatchNormalization())\n",
    "    model.add(MaxPooling3D(pool_size=(2, 2, 2)))\n",
    "\n",
    "    #Third Convulation Layer\n",
    "    model.add(Conv3D(64, kernelSize,  activation='relu', padding='same'))\n",
    "    model.add(BatchNormalization())\n",
    "    model.add(MaxPooling3D(pool_size=(2, 2, 2)))\n",
    "\n",
    "    #Fourth Convulation Layer\n",
    "    model.add(Conv3D(128, kernelSize,  activation='relu', padding='same'))\n",
    "    model.add(BatchNormalization())\n",
    "    model.add(MaxPooling3D(pool_size=(2, 2, 2)))\n",
    "\n",
    "    #Dropout layer with 30% Fraction of the input units to drop.\n",
    "    model.add(Dropout(dropout))\n",
    "\n",
    "    #Flatten Layer\n",
    "    model.add(Flatten())\n",
    "    model.add(Dense(128, activation='relu'))\n",
    "    model.add(BatchNormalization())\n",
    "    model.add(Dropout(dropout))\n",
    "\n",
    "    model.add(Dense(dense_Neurons,activation='relu'))\n",
    "    model.add(BatchNormalization())\n",
    "    model.add(Dropout(dropout))\n",
    "\n",
    "    #Dense Layer with softmax activation function.\n",
    "    #Softmax is an activation function that scales numbers/logits into probabilities.\n",
    "    model.add(Dense(self.num_of_classes, activation='softmax'))\n",
    "\n",
    "    model.compile(optimizer = 'adam', loss = 'categorical_crossentropy', metrics=[\"categorical_accuracy\"])\n",
    "    return model                  "
   ]
  },
  {
   "cell_type": "code",
   "execution_count": null,
   "metadata": {
    "id": "lodk4EyknFyW",
    "outputId": "eeb6a5ff-0379-4e6f-c371-c0bec9258c7c"
   },
   "outputs": [
    {
     "name": "stdout",
     "output_type": "stream",
     "text": [
      "Model: \"sequential_5\"\n",
      "_________________________________________________________________\n",
      " Layer (type)                Output Shape              Param #   \n",
      "=================================================================\n",
      " conv3d_20 (Conv3D)          (None, 20, 160, 160, 32)  2624      \n",
      "                                                                 \n",
      " max_pooling3d_20 (MaxPoolin  (None, 10, 80, 80, 32)   0         \n",
      " g3D)                                                            \n",
      "                                                                 \n",
      " batch_normalization_30 (Bat  (None, 10, 80, 80, 32)   128       \n",
      " chNormalization)                                                \n",
      "                                                                 \n",
      " conv3d_21 (Conv3D)          (None, 10, 80, 80, 32)    27680     \n",
      "                                                                 \n",
      " batch_normalization_31 (Bat  (None, 10, 80, 80, 32)   128       \n",
      " chNormalization)                                                \n",
      "                                                                 \n",
      " max_pooling3d_21 (MaxPoolin  (None, 5, 40, 40, 32)    0         \n",
      " g3D)                                                            \n",
      "                                                                 \n",
      " conv3d_22 (Conv3D)          (None, 5, 40, 40, 64)     55360     \n",
      "                                                                 \n",
      " batch_normalization_32 (Bat  (None, 5, 40, 40, 64)    256       \n",
      " chNormalization)                                                \n",
      "                                                                 \n",
      " max_pooling3d_22 (MaxPoolin  (None, 2, 20, 20, 64)    0         \n",
      " g3D)                                                            \n",
      "                                                                 \n",
      " conv3d_23 (Conv3D)          (None, 2, 20, 20, 128)    221312    \n",
      "                                                                 \n",
      " batch_normalization_33 (Bat  (None, 2, 20, 20, 128)   512       \n",
      " chNormalization)                                                \n",
      "                                                                 \n",
      " max_pooling3d_23 (MaxPoolin  (None, 1, 10, 10, 128)   0         \n",
      " g3D)                                                            \n",
      "                                                                 \n",
      " dropout_15 (Dropout)        (None, 1, 10, 10, 128)    0         \n",
      "                                                                 \n",
      " flatten_5 (Flatten)         (None, 12800)             0         \n",
      "                                                                 \n",
      " dense_15 (Dense)            (None, 128)               1638528   \n",
      "                                                                 \n",
      " batch_normalization_34 (Bat  (None, 128)              512       \n",
      " chNormalization)                                                \n",
      "                                                                 \n",
      " dropout_16 (Dropout)        (None, 128)               0         \n",
      "                                                                 \n",
      " dense_16 (Dense)            (None, 64)                8256      \n",
      "                                                                 \n",
      " batch_normalization_35 (Bat  (None, 64)               256       \n",
      " chNormalization)                                                \n",
      "                                                                 \n",
      " dropout_17 (Dropout)        (None, 64)                0         \n",
      "                                                                 \n",
      " dense_17 (Dense)            (None, 5)                 325       \n",
      "                                                                 \n",
      "=================================================================\n",
      "Total params: 1,955,877\n",
      "Trainable params: 1,954,981\n",
      "Non-trainable params: 896\n",
      "_________________________________________________________________\n"
     ]
    }
   ],
   "source": [
    "conv_obj = Conv3D_Model1()\n",
    "conv_obj.initialize_path(project_folder)\n",
    "conv_obj.initialize_properties(img_height=160, img_width=160)\n",
    "conv_obj.initialize_hyperparameters(frames_to_sample=20, batch_size=35, epochs=16)\n",
    "conv_obj_model = conv_obj.init_Model()\n",
    "conv_obj_model.summary()"
   ]
  },
  {
   "cell_type": "code",
   "execution_count": null,
   "metadata": {
    "id": "12TZbVK9nF3F",
    "outputId": "0a8bf235-d765-4ec6-d06d-46dd5f553bd1"
   },
   "outputs": [
    {
     "name": "stdout",
     "output_type": "stream",
     "text": [
      "WARNING:tensorflow:`period` argument is deprecated. Please use `save_freq` to specify the frequency in number of batches seen.\n",
      "Epoch 1/16\n",
      "19/19 [==============================] - ETA: 0s - loss: 1.5385 - categorical_accuracy: 0.4434\n",
      "Epoch 00001: saving model to model_init_2023-05-2817_44_38.543834/model-00001-1.53847-0.44344-1.51016-0.29000.h5\n",
      "19/19 [==============================] - 122s 7s/step - loss: 1.5385 - categorical_accuracy: 0.4434 - val_loss: 1.5102 - val_categorical_accuracy: 0.2900 - lr: 0.0010\n",
      "Epoch 2/16\n",
      "19/19 [==============================] - ETA: 0s - loss: 0.9618 - categorical_accuracy: 0.6380\n",
      "Epoch 00002: saving model to model_init_2023-05-2817_44_38.543834/model-00002-0.96182-0.63801-2.80236-0.14000.h5\n",
      "19/19 [==============================] - 119s 7s/step - loss: 0.9618 - categorical_accuracy: 0.6380 - val_loss: 2.8024 - val_categorical_accuracy: 0.1400 - lr: 0.0010\n",
      "Epoch 3/16\n",
      "19/19 [==============================] - ETA: 0s - loss: 0.6471 - categorical_accuracy: 0.7602\n",
      "Epoch 00003: saving model to model_init_2023-05-2817_44_38.543834/model-00003-0.64707-0.76018-4.39642-0.17000.h5\n",
      "19/19 [==============================] - 117s 6s/step - loss: 0.6471 - categorical_accuracy: 0.7602 - val_loss: 4.3964 - val_categorical_accuracy: 0.1700 - lr: 0.0010\n",
      "Epoch 4/16\n",
      "19/19 [==============================] - ETA: 0s - loss: 0.4919 - categorical_accuracy: 0.8175\n",
      "Epoch 00004: saving model to model_init_2023-05-2817_44_38.543834/model-00004-0.49185-0.81750-4.04081-0.16000.h5\n",
      "19/19 [==============================] - 117s 7s/step - loss: 0.4919 - categorical_accuracy: 0.8175 - val_loss: 4.0408 - val_categorical_accuracy: 0.1600 - lr: 0.0010\n",
      "Epoch 5/16\n",
      "19/19 [==============================] - ETA: 0s - loss: 0.3584 - categorical_accuracy: 0.8793\n",
      "Epoch 00005: saving model to model_init_2023-05-2817_44_38.543834/model-00005-0.35839-0.87934-3.76422-0.14000.h5\n",
      "\n",
      "Epoch 00005: ReduceLROnPlateau reducing learning rate to 0.00020000000949949026.\n",
      "19/19 [==============================] - 119s 7s/step - loss: 0.3584 - categorical_accuracy: 0.8793 - val_loss: 3.7642 - val_categorical_accuracy: 0.1400 - lr: 0.0010\n",
      "Epoch 6/16\n",
      "19/19 [==============================] - ETA: 0s - loss: 0.2658 - categorical_accuracy: 0.9231\n",
      "Epoch 00006: saving model to model_init_2023-05-2817_44_38.543834/model-00006-0.26576-0.92308-4.07145-0.17000.h5\n",
      "19/19 [==============================] - 118s 7s/step - loss: 0.2658 - categorical_accuracy: 0.9231 - val_loss: 4.0714 - val_categorical_accuracy: 0.1700 - lr: 2.0000e-04\n",
      "Epoch 7/16\n",
      "19/19 [==============================] - ETA: 0s - loss: 0.2583 - categorical_accuracy: 0.9170\n",
      "Epoch 00007: saving model to model_init_2023-05-2817_44_38.543834/model-00007-0.25834-0.91704-4.17431-0.15000.h5\n",
      "19/19 [==============================] - 120s 7s/step - loss: 0.2583 - categorical_accuracy: 0.9170 - val_loss: 4.1743 - val_categorical_accuracy: 0.1500 - lr: 2.0000e-04\n",
      "Epoch 8/16\n",
      "19/19 [==============================] - ETA: 0s - loss: 0.1996 - categorical_accuracy: 0.9457\n",
      "Epoch 00008: saving model to model_init_2023-05-2817_44_38.543834/model-00008-0.19955-0.94570-4.21256-0.21000.h5\n",
      "19/19 [==============================] - 121s 7s/step - loss: 0.1996 - categorical_accuracy: 0.9457 - val_loss: 4.2126 - val_categorical_accuracy: 0.2100 - lr: 2.0000e-04\n",
      "Epoch 9/16\n",
      "19/19 [==============================] - ETA: 0s - loss: 0.1863 - categorical_accuracy: 0.9517\n",
      "Epoch 00009: saving model to model_init_2023-05-2817_44_38.543834/model-00009-0.18627-0.95173-4.05300-0.15000.h5\n",
      "\n",
      "Epoch 00009: ReduceLROnPlateau reducing learning rate to 4.0000001899898055e-05.\n",
      "19/19 [==============================] - 118s 7s/step - loss: 0.1863 - categorical_accuracy: 0.9517 - val_loss: 4.0530 - val_categorical_accuracy: 0.1500 - lr: 2.0000e-04\n",
      "Epoch 10/16\n",
      "19/19 [==============================] - ETA: 0s - loss: 0.1851 - categorical_accuracy: 0.9412\n",
      "Epoch 00010: saving model to model_init_2023-05-2817_44_38.543834/model-00010-0.18512-0.94118-3.66627-0.16000.h5\n",
      "19/19 [==============================] - 130s 7s/step - loss: 0.1851 - categorical_accuracy: 0.9412 - val_loss: 3.6663 - val_categorical_accuracy: 0.1600 - lr: 4.0000e-05\n",
      "Epoch 11/16\n",
      "19/19 [==============================] - ETA: 0s - loss: 0.1666 - categorical_accuracy: 0.9653\n",
      "Epoch 00011: saving model to model_init_2023-05-2817_44_38.543834/model-00011-0.16656-0.96531-3.30416-0.18000.h5\n",
      "19/19 [==============================] - 119s 7s/step - loss: 0.1666 - categorical_accuracy: 0.9653 - val_loss: 3.3042 - val_categorical_accuracy: 0.1800 - lr: 4.0000e-05\n",
      "Epoch 00011: early stopping\n"
     ]
    }
   ],
   "source": [
    "model_1_History = conv_obj.training_model(conv_obj_model)"
   ]
  },
  {
   "cell_type": "code",
   "execution_count": 10,
   "metadata": {
    "id": "P5cAWN7mnF5L"
   },
   "outputs": [],
   "source": [
    "## User defined method to plot the Accuracy and Validation Plots\n",
    "\n",
    "def plot_accuracyAndLoss(history) :\n",
    "    fig, axes = plt.subplots(nrows=1, ncols=2, figsize=(16, 5))\n",
    "    axes[0].plot(history.history['loss'])   \n",
    "    axes[0].plot(history.history['val_loss'])\n",
    "    axes[0].legend(['loss','val_loss'])\n",
    "    \n",
    "    axes[1].plot(history.history['categorical_accuracy'])   \n",
    "    axes[1].plot(history.history['val_categorical_accuracy'])\n",
    "    axes[1].legend(['categorical_accuracy','val_categorical_accuracy'])\n",
    "    \n",
    "    plt.title('Training and Accuracy and Loss')\n",
    "    plt.grid(color = 'teal', linestyle = '--', linewidth = 0.5)\n",
    "    plt.show()   "
   ]
  },
  {
   "cell_type": "code",
   "execution_count": null,
   "metadata": {
    "id": "YGBme4IA6kKj",
    "outputId": "6f28283c-bf10-4dfd-abdf-539d6a893f8d"
   },
   "outputs": [
    {
     "data": {
      "image/png": "[encoded data removed]",
      "text/plain": [
       "<Figure size 1080x288 with 2 Axes>"
      ]
     },
     "metadata": {
      "needs_background": "light"
     },
     "output_type": "display_data"
    }
   ],
   "source": [
    "plot_accuracyAndLoss(model_1_History)"
   ]
  },
  {
   "cell_type": "markdown",
   "metadata": {
    "id": "B4e4SsSJ7Kk1"
   },
   "source": [
    "### Model 1 - Observations\n",
    "\n",
    "We can observe that the model above is underfitting"
   ]
  },
  {
   "cell_type": "markdown",
   "metadata": {
    "id": "zqwfRg1dTxLX"
   },
   "source": [
    "### Model 2\n",
    "\n",
    "Reducing the Image resolution to 120 X 120, batch to 25, kernel size = (2,2,2) and increasing epochs to 20."
   ]
  },
  {
   "cell_type": "code",
   "execution_count": null,
   "metadata": {
    "id": "bf52lUOqTvoB",
    "outputId": "fea58c21-2929-4a6c-ace4-7821dbfd7ca6"
   },
   "outputs": [
    {
     "name": "stdout",
     "output_type": "stream",
     "text": [
      "Model: \"sequential_6\"\n",
      "_________________________________________________________________\n",
      " Layer (type)                Output Shape              Param #   \n",
      "=================================================================\n",
      " conv3d_24 (Conv3D)          (None, 20, 120, 120, 32)  800       \n",
      "                                                                 \n",
      " max_pooling3d_24 (MaxPoolin  (None, 10, 60, 60, 32)   0         \n",
      " g3D)                                                            \n",
      "                                                                 \n",
      " batch_normalization_36 (Bat  (None, 10, 60, 60, 32)   128       \n",
      " chNormalization)                                                \n",
      "                                                                 \n",
      " conv3d_25 (Conv3D)          (None, 10, 60, 60, 32)    8224      \n",
      "                                                                 \n",
      " batch_normalization_37 (Bat  (None, 10, 60, 60, 32)   128       \n",
      " chNormalization)                                                \n",
      "                                                                 \n",
      " max_pooling3d_25 (MaxPoolin  (None, 5, 30, 30, 32)    0         \n",
      " g3D)                                                            \n",
      "                                                                 \n",
      " conv3d_26 (Conv3D)          (None, 5, 30, 30, 64)     16448     \n",
      "                                                                 \n",
      " batch_normalization_38 (Bat  (None, 5, 30, 30, 64)    256       \n",
      " chNormalization)                                                \n",
      "                                                                 \n",
      " max_pooling3d_26 (MaxPoolin  (None, 2, 15, 15, 64)    0         \n",
      " g3D)                                                            \n",
      "                                                                 \n",
      " conv3d_27 (Conv3D)          (None, 2, 15, 15, 128)    65664     \n",
      "                                                                 \n",
      " batch_normalization_39 (Bat  (None, 2, 15, 15, 128)   512       \n",
      " chNormalization)                                                \n",
      "                                                                 \n",
      " max_pooling3d_27 (MaxPoolin  (None, 1, 7, 7, 128)     0         \n",
      " g3D)                                                            \n",
      "                                                                 \n",
      " dropout_18 (Dropout)        (None, 1, 7, 7, 128)      0         \n",
      "                                                                 \n",
      " flatten_6 (Flatten)         (None, 6272)              0         \n",
      "                                                                 \n",
      " dense_18 (Dense)            (None, 128)               802944    \n",
      "                                                                 \n",
      " batch_normalization_40 (Bat  (None, 128)              512       \n",
      " chNormalization)                                                \n",
      "                                                                 \n",
      " dropout_19 (Dropout)        (None, 128)               0         \n",
      "                                                                 \n",
      " dense_19 (Dense)            (None, 128)               16512     \n",
      "                                                                 \n",
      " batch_normalization_41 (Bat  (None, 128)              512       \n",
      " chNormalization)                                                \n",
      "                                                                 \n",
      " dropout_20 (Dropout)        (None, 128)               0         \n",
      "                                                                 \n",
      " dense_20 (Dense)            (None, 5)                 645       \n",
      "                                                                 \n",
      "=================================================================\n",
      "Total params: 913,285\n",
      "Trainable params: 912,261\n",
      "Non-trainable params: 1,024\n",
      "_________________________________________________________________\n"
     ]
    }
   ],
   "source": [
    "conv_obj_2 = Conv3D_Model1()\n",
    "conv_obj_2.initialize_path(project_folder)\n",
    "conv_obj_2.initialize_properties(img_height=120, img_width=120)\n",
    "conv_obj_2.initialize_hyperparameters(frames_to_sample=20, batch_size=25, epochs=20)\n",
    "conv_obj_model_2 = conv_obj_2.init_Model(kernelSize = (2, 2, 2), dropout=0.5, dense_Neurons=128)\n",
    "conv_obj_model_2.summary()"
   ]
  },
  {
   "cell_type": "code",
   "execution_count": null,
   "metadata": {
    "id": "9ZbB9CuyTvq6",
    "outputId": "1ad03fc6-319f-4aab-d395-085ea991d4bc"
   },
   "outputs": [
    {
     "name": "stdout",
     "output_type": "stream",
     "text": [
      "WARNING:tensorflow:`period` argument is deprecated. Please use `save_freq` to specify the frequency in number of batches seen.\n",
      "Epoch 1/20\n",
      "27/27 [==============================] - ETA: 0s - loss: 2.0325 - categorical_accuracy: 0.3152\n",
      "Epoch 00001: saving model to model_init_2023-05-2817_44_38.543834/model-00001-2.03248-0.31523-2.67661-0.21000.h5\n",
      "27/27 [==============================] - 107s 4s/step - loss: 2.0325 - categorical_accuracy: 0.3152 - val_loss: 2.6766 - val_categorical_accuracy: 0.2100 - lr: 0.0010\n",
      "Epoch 2/20\n",
      "27/27 [==============================] - ETA: 0s - loss: 1.4426 - categorical_accuracy: 0.5053\n",
      "Epoch 00002: saving model to model_init_2023-05-2817_44_38.543834/model-00002-1.44256-0.50528-5.23074-0.21000.h5\n",
      "27/27 [==============================] - 106s 4s/step - loss: 1.4426 - categorical_accuracy: 0.5053 - val_loss: 5.2307 - val_categorical_accuracy: 0.2100 - lr: 0.0010\n",
      "Epoch 3/20\n",
      "27/27 [==============================] - ETA: 0s - loss: 1.1616 - categorical_accuracy: 0.5958\n",
      "Epoch 00003: saving model to model_init_2023-05-2817_44_38.543834/model-00003-1.16162-0.59578-7.53282-0.16000.h5\n",
      "27/27 [==============================] - 105s 4s/step - loss: 1.1616 - categorical_accuracy: 0.5958 - val_loss: 7.5328 - val_categorical_accuracy: 0.1600 - lr: 0.0010\n",
      "Epoch 4/20\n",
      "27/27 [==============================] - ETA: 0s - loss: 1.0010 - categorical_accuracy: 0.6154\n",
      "Epoch 00004: saving model to model_init_2023-05-2817_44_38.543834/model-00004-1.00096-0.61538-7.62183-0.25000.h5\n",
      "27/27 [==============================] - 107s 4s/step - loss: 1.0010 - categorical_accuracy: 0.6154 - val_loss: 7.6218 - val_categorical_accuracy: 0.2500 - lr: 0.0010\n",
      "Epoch 5/20\n",
      "27/27 [==============================] - ETA: 0s - loss: 0.7845 - categorical_accuracy: 0.7074\n",
      "Epoch 00005: saving model to model_init_2023-05-2817_44_38.543834/model-00005-0.78455-0.70739-7.82395-0.21000.h5\n",
      "\n",
      "Epoch 00005: ReduceLROnPlateau reducing learning rate to 0.00020000000949949026.\n",
      "27/27 [==============================] - 106s 4s/step - loss: 0.7845 - categorical_accuracy: 0.7074 - val_loss: 7.8240 - val_categorical_accuracy: 0.2100 - lr: 0.0010\n",
      "Epoch 6/20\n",
      "27/27 [==============================] - ETA: 0s - loss: 0.7072 - categorical_accuracy: 0.7300\n",
      "Epoch 00006: saving model to model_init_2023-05-2817_44_38.543834/model-00006-0.70716-0.73002-8.87485-0.15000.h5\n",
      "27/27 [==============================] - 106s 4s/step - loss: 0.7072 - categorical_accuracy: 0.7300 - val_loss: 8.8749 - val_categorical_accuracy: 0.1500 - lr: 2.0000e-04\n",
      "Epoch 7/20\n",
      "27/27 [==============================] - ETA: 0s - loss: 0.6951 - categorical_accuracy: 0.7179\n",
      "Epoch 00007: saving model to model_init_2023-05-2817_44_38.543834/model-00007-0.69506-0.71795-7.67483-0.25000.h5\n",
      "27/27 [==============================] - 105s 4s/step - loss: 0.6951 - categorical_accuracy: 0.7179 - val_loss: 7.6748 - val_categorical_accuracy: 0.2500 - lr: 2.0000e-04\n",
      "Epoch 8/20\n",
      "27/27 [==============================] - ETA: 0s - loss: 0.6269 - categorical_accuracy: 0.7662\n",
      "Epoch 00008: saving model to model_init_2023-05-2817_44_38.543834/model-00008-0.62691-0.76621-7.87263-0.23000.h5\n",
      "27/27 [==============================] - 104s 4s/step - loss: 0.6269 - categorical_accuracy: 0.7662 - val_loss: 7.8726 - val_categorical_accuracy: 0.2300 - lr: 2.0000e-04\n",
      "Epoch 9/20\n",
      "27/27 [==============================] - ETA: 0s - loss: 0.5537 - categorical_accuracy: 0.7994\n",
      "Epoch 00009: saving model to model_init_2023-05-2817_44_38.543834/model-00009-0.55369-0.79940-6.72103-0.21000.h5\n",
      "\n",
      "Epoch 00009: ReduceLROnPlateau reducing learning rate to 4.0000001899898055e-05.\n",
      "27/27 [==============================] - 106s 4s/step - loss: 0.5537 - categorical_accuracy: 0.7994 - val_loss: 6.7210 - val_categorical_accuracy: 0.2100 - lr: 2.0000e-04\n",
      "Epoch 10/20\n",
      "27/27 [==============================] - ETA: 0s - loss: 0.4539 - categorical_accuracy: 0.8235\n",
      "Epoch 00010: saving model to model_init_2023-05-2817_44_38.543834/model-00010-0.45394-0.82353-5.89460-0.19000.h5\n",
      "27/27 [==============================] - 105s 4s/step - loss: 0.4539 - categorical_accuracy: 0.8235 - val_loss: 5.8946 - val_categorical_accuracy: 0.1900 - lr: 4.0000e-05\n",
      "Epoch 11/20\n",
      "27/27 [==============================] - ETA: 0s - loss: 0.5627 - categorical_accuracy: 0.7979\n",
      "Epoch 00011: saving model to model_init_2023-05-2817_44_38.543834/model-00011-0.56273-0.79789-6.01082-0.20000.h5\n",
      "27/27 [==============================] - 106s 4s/step - loss: 0.5627 - categorical_accuracy: 0.7979 - val_loss: 6.0108 - val_categorical_accuracy: 0.2000 - lr: 4.0000e-05\n",
      "Epoch 00011: early stopping\n"
     ]
    }
   ],
   "source": [
    "model_2_History = conv_obj_2.training_model(conv_obj_model_2)"
   ]
  },
  {
   "cell_type": "code",
   "execution_count": null,
   "metadata": {
    "id": "WRyHmzn8Tv3S",
    "outputId": "08bf84f2-2b51-4ecd-a3ce-312d437e8f1c"
   },
   "outputs": [
    {
     "data": {
      "image/png": "[encoded data removed]",
      "text/plain": [
       "<Figure size 1080x288 with 2 Axes>"
      ]
     },
     "metadata": {
      "needs_background": "light"
     },
     "output_type": "display_data"
    }
   ],
   "source": [
    "plot_accuracyAndLoss(model_2_History)"
   ]
  },
  {
   "cell_type": "markdown",
   "metadata": {
    "id": "waaWquZLSX2k"
   },
   "source": [
    "### Model 2 - Observations\n",
    "\n",
    "We can clearly see, performance has not been increased"
   ]
  },
  {
   "cell_type": "markdown",
   "metadata": {
    "id": "kxv7FyFM7Scv"
   },
   "source": [
    "### Model 3\n",
    "\n",
    "Inreasing the dropout from 0.3 to 0.5 and epochs = 20 reducing the batch size from 35 to 20. We will augment the data for this model"
   ]
  },
  {
   "cell_type": "code",
   "execution_count": null,
   "metadata": {
    "id": "pXJw3cMP6kNT",
    "outputId": "b2fb068d-3dd0-4ae9-ae7e-bd0f8b3473e5"
   },
   "outputs": [
    {
     "name": "stderr",
     "output_type": "stream",
     "text": [
      "2023-05-28 19:16:02.987611: W tensorflow/core/common_runtime/gpu/gpu_bfc_allocator.cc:39] Overriding allow_growth setting because the TF_FORCE_GPU_ALLOW_GROWTH environment variable is set. Original config value was 0.\n",
      "2023-05-28 19:16:02.987689: I tensorflow/core/common_runtime/gpu/gpu_device.cc:1525] Created device /job:localhost/replica:0/task:0/device:GPU:0 with 22851 MB memory:  -> device: 0, name: Quadro RTX 6000, pci bus id: 0000:1c:00.0, compute capability: 7.5\n"
     ]
    },
    {
     "name": "stdout",
     "output_type": "stream",
     "text": [
      "Model: \"sequential\"\n",
      "_________________________________________________________________\n",
      " Layer (type)                Output Shape              Param #   \n",
      "=================================================================\n",
      " conv3d (Conv3D)             (None, 20, 160, 160, 32)  2624      \n",
      "                                                                 \n",
      " max_pooling3d (MaxPooling3D  (None, 10, 80, 80, 32)   0         \n",
      " )                                                               \n",
      "                                                                 \n",
      " batch_normalization (BatchN  (None, 10, 80, 80, 32)   128       \n",
      " ormalization)                                                   \n",
      "                                                                 \n",
      " conv3d_1 (Conv3D)           (None, 10, 80, 80, 32)    27680     \n",
      "                                                                 \n",
      " batch_normalization_1 (Batc  (None, 10, 80, 80, 32)   128       \n",
      " hNormalization)                                                 \n",
      "                                                                 \n",
      " max_pooling3d_1 (MaxPooling  (None, 5, 40, 40, 32)    0         \n",
      " 3D)                                                             \n",
      "                                                                 \n",
      " conv3d_2 (Conv3D)           (None, 5, 40, 40, 64)     55360     \n",
      "                                                                 \n",
      " batch_normalization_2 (Batc  (None, 5, 40, 40, 64)    256       \n",
      " hNormalization)                                                 \n",
      "                                                                 \n",
      " max_pooling3d_2 (MaxPooling  (None, 2, 20, 20, 64)    0         \n",
      " 3D)                                                             \n",
      "                                                                 \n",
      " conv3d_3 (Conv3D)           (None, 2, 20, 20, 128)    221312    \n",
      "                                                                 \n",
      " batch_normalization_3 (Batc  (None, 2, 20, 20, 128)   512       \n",
      " hNormalization)                                                 \n",
      "                                                                 \n",
      " max_pooling3d_3 (MaxPooling  (None, 1, 10, 10, 128)   0         \n",
      " 3D)                                                             \n",
      "                                                                 \n",
      " dropout (Dropout)           (None, 1, 10, 10, 128)    0         \n",
      "                                                                 \n",
      " flatten (Flatten)           (None, 12800)             0         \n",
      "                                                                 \n",
      " dense (Dense)               (None, 128)               1638528   \n",
      "                                                                 \n",
      " batch_normalization_4 (Batc  (None, 128)              512       \n",
      " hNormalization)                                                 \n",
      "                                                                 \n",
      " dropout_1 (Dropout)         (None, 128)               0         \n",
      "                                                                 \n",
      " dense_1 (Dense)             (None, 128)               16512     \n",
      "                                                                 \n",
      " batch_normalization_5 (Batc  (None, 128)              512       \n",
      " hNormalization)                                                 \n",
      "                                                                 \n",
      " dropout_2 (Dropout)         (None, 128)               0         \n",
      "                                                                 \n",
      " dense_2 (Dense)             (None, 5)                 645       \n",
      "                                                                 \n",
      "=================================================================\n",
      "Total params: 1,964,709\n",
      "Trainable params: 1,963,685\n",
      "Non-trainable params: 1,024\n",
      "_________________________________________________________________\n"
     ]
    }
   ],
   "source": [
    "conv_obj_3 = Conv3D_Model1()\n",
    "conv_obj_3.initialize_path(project_folder)\n",
    "conv_obj_3.initialize_properties(img_height=160, img_width=160)\n",
    "conv_obj_3.initialize_hyperparameters(frames_to_sample=20, batch_size=20, epochs=20)\n",
    "conv_obj_model_3 = conv_obj_3.init_Model(dropout=0.5, dense_Neurons=128)\n",
    "conv_obj_model_3.summary()"
   ]
  },
  {
   "cell_type": "code",
   "execution_count": null,
   "metadata": {
    "id": "83zSMwmw6kRB",
    "outputId": "41a2ae6d-f790-43c6-a957-c46e533a6051"
   },
   "outputs": [
    {
     "name": "stdout",
     "output_type": "stream",
     "text": [
      "WARNING:tensorflow:`period` argument is deprecated. Please use `save_freq` to specify the frequency in number of batches seen.\n",
      "Epoch 1/20\n",
      "34/34 [==============================] - ETA: 0s - loss: 1.3550 - categorical_accuracy: 0.5000\n",
      "Epoch 00001: saving model to model_init_2023-05-2819_14_04.106807/model-00001-1.35503-0.50000-2.59840-0.32000.h5\n",
      "34/34 [==============================] - 212s 6s/step - loss: 1.3550 - categorical_accuracy: 0.5000 - val_loss: 2.5984 - val_categorical_accuracy: 0.3200 - lr: 0.0010\n",
      "Epoch 2/20\n",
      "34/34 [==============================] - ETA: 0s - loss: 1.1664 - categorical_accuracy: 0.5724\n",
      "Epoch 00002: saving model to model_init_2023-05-2819_14_04.106807/model-00002-1.16636-0.57240-2.81094-0.33000.h5\n",
      "34/34 [==============================] - 210s 6s/step - loss: 1.1664 - categorical_accuracy: 0.5724 - val_loss: 2.8109 - val_categorical_accuracy: 0.3300 - lr: 0.0010\n",
      "Epoch 3/20\n",
      "34/34 [==============================] - ETA: 0s - loss: 0.9599 - categorical_accuracy: 0.6425\n",
      "Epoch 00003: saving model to model_init_2023-05-2819_14_04.106807/model-00003-0.95990-0.64253-3.74082-0.28000.h5\n",
      "34/34 [==============================] - 213s 6s/step - loss: 0.9599 - categorical_accuracy: 0.6425 - val_loss: 3.7408 - val_categorical_accuracy: 0.2800 - lr: 0.0010\n",
      "Epoch 4/20\n",
      "34/34 [==============================] - ETA: 0s - loss: 0.8565 - categorical_accuracy: 0.6817\n",
      "Epoch 00004: saving model to model_init_2023-05-2819_14_04.106807/model-00004-0.85646-0.68175-3.90903-0.27000.h5\n",
      "34/34 [==============================] - 211s 6s/step - loss: 0.8565 - categorical_accuracy: 0.6817 - val_loss: 3.9090 - val_categorical_accuracy: 0.2700 - lr: 0.0010\n",
      "Epoch 5/20\n",
      "34/34 [==============================] - ETA: 0s - loss: 0.9152 - categorical_accuracy: 0.6569\n",
      "Epoch 00005: saving model to model_init_2023-05-2819_14_04.106807/model-00005-0.91524-0.65686-3.33509-0.27000.h5\n",
      "\n",
      "Epoch 00005: ReduceLROnPlateau reducing learning rate to 0.00020000000949949026.\n",
      "34/34 [==============================] - 219s 7s/step - loss: 0.9152 - categorical_accuracy: 0.6569 - val_loss: 3.3351 - val_categorical_accuracy: 0.2700 - lr: 0.0010\n",
      "Epoch 6/20\n",
      "34/34 [==============================] - ETA: 0s - loss: 0.7116 - categorical_accuracy: 0.7240\n",
      "Epoch 00006: saving model to model_init_2023-05-2819_14_04.106807/model-00006-0.71162-0.72398-3.65172-0.26000.h5\n",
      "34/34 [==============================] - 217s 7s/step - loss: 0.7116 - categorical_accuracy: 0.7240 - val_loss: 3.6517 - val_categorical_accuracy: 0.2600 - lr: 2.0000e-04\n",
      "Epoch 7/20\n",
      "34/34 [==============================] - ETA: 0s - loss: 0.6814 - categorical_accuracy: 0.7413\n",
      "Epoch 00007: saving model to model_init_2023-05-2819_14_04.106807/model-00007-0.68139-0.74133-2.69102-0.28000.h5\n",
      "34/34 [==============================] - 217s 7s/step - loss: 0.6814 - categorical_accuracy: 0.7413 - val_loss: 2.6910 - val_categorical_accuracy: 0.2800 - lr: 2.0000e-04\n",
      "Epoch 8/20\n",
      "34/34 [==============================] - ETA: 0s - loss: 0.6229 - categorical_accuracy: 0.7519\n",
      "Epoch 00008: saving model to model_init_2023-05-2819_14_04.106807/model-00008-0.62288-0.75189-2.66506-0.35000.h5\n",
      "34/34 [==============================] - 214s 6s/step - loss: 0.6229 - categorical_accuracy: 0.7519 - val_loss: 2.6651 - val_categorical_accuracy: 0.3500 - lr: 2.0000e-04\n",
      "Epoch 9/20\n",
      "34/34 [==============================] - ETA: 0s - loss: 0.6385 - categorical_accuracy: 0.7436\n",
      "Epoch 00009: saving model to model_init_2023-05-2819_14_04.106807/model-00009-0.63846-0.74359-2.98053-0.29000.h5\n",
      "\n",
      "Epoch 00009: ReduceLROnPlateau reducing learning rate to 4.0000001899898055e-05.\n",
      "34/34 [==============================] - 213s 6s/step - loss: 0.6385 - categorical_accuracy: 0.7436 - val_loss: 2.9805 - val_categorical_accuracy: 0.2900 - lr: 2.0000e-04\n",
      "Epoch 10/20\n",
      "34/34 [==============================] - ETA: 0s - loss: 0.5824 - categorical_accuracy: 0.7821\n",
      "Epoch 00010: saving model to model_init_2023-05-2819_14_04.106807/model-00010-0.58235-0.78205-2.48390-0.32000.h5\n",
      "34/34 [==============================] - 215s 7s/step - loss: 0.5824 - categorical_accuracy: 0.7821 - val_loss: 2.4839 - val_categorical_accuracy: 0.3200 - lr: 4.0000e-05\n",
      "Epoch 11/20\n",
      "34/34 [==============================] - ETA: 0s - loss: 0.5408 - categorical_accuracy: 0.8220\n",
      "Epoch 00011: saving model to model_init_2023-05-2819_14_04.106807/model-00011-0.54083-0.82202-2.01098-0.37000.h5\n",
      "34/34 [==============================] - 212s 6s/step - loss: 0.5408 - categorical_accuracy: 0.8220 - val_loss: 2.0110 - val_categorical_accuracy: 0.3700 - lr: 4.0000e-05\n",
      "Epoch 12/20\n",
      "34/34 [==============================] - ETA: 0s - loss: 0.5330 - categorical_accuracy: 0.8115\n",
      "Epoch 00012: saving model to model_init_2023-05-2819_14_04.106807/model-00012-0.53298-0.81146-1.56905-0.50000.h5\n",
      "34/34 [==============================] - 212s 6s/step - loss: 0.5330 - categorical_accuracy: 0.8115 - val_loss: 1.5691 - val_categorical_accuracy: 0.5000 - lr: 4.0000e-05\n",
      "Epoch 13/20\n",
      "34/34 [==============================] - ETA: 0s - loss: 0.5578 - categorical_accuracy: 0.7934\n",
      "Epoch 00013: saving model to model_init_2023-05-2819_14_04.106807/model-00013-0.55776-0.79336-1.30741-0.53000.h5\n",
      "34/34 [==============================] - 211s 6s/step - loss: 0.5578 - categorical_accuracy: 0.7934 - val_loss: 1.3074 - val_categorical_accuracy: 0.5300 - lr: 4.0000e-05\n",
      "Epoch 14/20\n",
      "34/34 [==============================] - ETA: 0s - loss: 0.5425 - categorical_accuracy: 0.7964\n",
      "Epoch 00014: saving model to model_init_2023-05-2819_14_04.106807/model-00014-0.54251-0.79638-0.98226-0.69000.h5\n",
      "34/34 [==============================] - 213s 6s/step - loss: 0.5425 - categorical_accuracy: 0.7964 - val_loss: 0.9823 - val_categorical_accuracy: 0.6900 - lr: 4.0000e-05\n",
      "Epoch 15/20\n",
      "34/34 [==============================] - ETA: 0s - loss: 0.5539 - categorical_accuracy: 0.7828\n",
      "Epoch 00015: saving model to model_init_2023-05-2819_14_04.106807/model-00015-0.55393-0.78281-0.82286-0.70000.h5\n",
      "34/34 [==============================] - 212s 6s/step - loss: 0.5539 - categorical_accuracy: 0.7828 - val_loss: 0.8229 - val_categorical_accuracy: 0.7000 - lr: 4.0000e-05\n",
      "Epoch 16/20\n",
      "34/34 [==============================] - ETA: 0s - loss: 0.5074 - categorical_accuracy: 0.8062\n",
      "Epoch 00016: saving model to model_init_2023-05-2819_14_04.106807/model-00016-0.50742-0.80618-0.61140-0.75000.h5\n",
      "34/34 [==============================] - 211s 6s/step - loss: 0.5074 - categorical_accuracy: 0.8062 - val_loss: 0.6114 - val_categorical_accuracy: 0.7500 - lr: 4.0000e-05\n",
      "Epoch 17/20\n",
      "34/34 [==============================] - ETA: 0s - loss: 0.5441 - categorical_accuracy: 0.8024\n",
      "Epoch 00017: saving model to model_init_2023-05-2819_14_04.106807/model-00017-0.54415-0.80241-0.62119-0.79000.h5\n",
      "34/34 [==============================] - 212s 6s/step - loss: 0.5441 - categorical_accuracy: 0.8024 - val_loss: 0.6212 - val_categorical_accuracy: 0.7900 - lr: 4.0000e-05\n",
      "Epoch 18/20\n",
      "34/34 [==============================] - ETA: 0s - loss: 0.5431 - categorical_accuracy: 0.7911\n",
      "Epoch 00018: saving model to model_init_2023-05-2819_14_04.106807/model-00018-0.54313-0.79110-0.55639-0.82000.h5\n",
      "34/34 [==============================] - 212s 6s/step - loss: 0.5431 - categorical_accuracy: 0.7911 - val_loss: 0.5564 - val_categorical_accuracy: 0.8200 - lr: 4.0000e-05\n",
      "Epoch 19/20\n",
      "34/34 [==============================] - ETA: 0s - loss: 0.5315 - categorical_accuracy: 0.8017\n",
      "Epoch 00019: saving model to model_init_2023-05-2819_14_04.106807/model-00019-0.53151-0.80166-0.47973-0.86000.h5\n",
      "34/34 [==============================] - 214s 6s/step - loss: 0.5315 - categorical_accuracy: 0.8017 - val_loss: 0.4797 - val_categorical_accuracy: 0.8600 - lr: 4.0000e-05\n",
      "Epoch 20/20\n",
      "34/34 [==============================] - ETA: 0s - loss: 0.5140 - categorical_accuracy: 0.8062\n",
      "Epoch 00020: saving model to model_init_2023-05-2819_14_04.106807/model-00020-0.51403-0.80618-0.45649-0.85000.h5\n",
      "34/34 [==============================] - 212s 6s/step - loss: 0.5140 - categorical_accuracy: 0.8062 - val_loss: 0.4565 - val_categorical_accuracy: 0.8500 - lr: 4.0000e-05\n"
     ]
    }
   ],
   "source": [
    "model_3_History = conv_obj_3.training_model(conv_obj_model_3, augment_data=True)"
   ]
  },
  {
   "cell_type": "code",
   "execution_count": null,
   "metadata": {
    "id": "_Ba1nU0W6kTr",
    "outputId": "c79bf3dc-41cc-4d40-ed38-ed3c85b1516f"
   },
   "outputs": [
    {
     "data": {
      "image/png": "[encoded data removed]",
      "text/plain": [
       "<Figure size 1152x360 with 2 Axes>"
      ]
     },
     "metadata": {
      "needs_background": "light"
     },
     "output_type": "display_data"
    }
   ],
   "source": [
    "plot_accuracyAndLoss(model_3_History)"
   ]
  },
  {
   "cell_type": "markdown",
   "metadata": {
    "id": "WbBCo5D2AWjb"
   },
   "source": [
    "### Model 3 - Observations\n",
    "\n",
    "The above model seems to understand the trends better than the prior models. Let us define our model again for better results"
   ]
  },
  {
   "cell_type": "markdown",
   "metadata": {
    "id": "ry8fK17JRL5e"
   },
   "source": [
    "### Model 4\n",
    "\n",
    "Adding more layers to the above models"
   ]
  },
  {
   "cell_type": "code",
   "execution_count": 17,
   "metadata": {
    "id": "iIHYTIKp6kYh"
   },
   "outputs": [],
   "source": [
    "class Conv3D_Model4(ModelBuilder) :\n",
    "  def init_Model(self, kernelSize = (3, 3, 3), dropout = 0.25, dense_Neurons = 64) :\n",
    "\n",
    "    model = Sequential()\n",
    "    model.add(Conv3D(16, kernelSize, input_shape=(self.frames_to_sample, self.img_height, self.img_width, self.channels), padding='same',\n",
    "                    activation='relu'))\n",
    "    model.add(Conv3D(32, kernelSize, activation='relu', padding='same'))\n",
    "    model.add(MaxPooling3D(pool_size=(2, 2, 2)))\n",
    "    model.add(BatchNormalization())\n",
    "\n",
    "    #Second Convulation Layer\n",
    "    model.add(Conv3D(32, kernelSize,  activation='relu', padding='same'))\n",
    "    model.add(Conv3D(64, kernelSize,  activation='relu', padding='same'))\n",
    "    model.add(BatchNormalization())\n",
    "\n",
    "    #Third Convulation Layer\n",
    "    model.add(Conv3D(64, kernelSize,  activation='relu', padding='same'))\n",
    "    model.add(BatchNormalization())\n",
    "    model.add(MaxPooling3D(pool_size=(2, 2, 2)))\n",
    "\n",
    "    #Fourth Convulation Layer\n",
    "    model.add(Conv3D(64, kernelSize,  activation='relu', padding='same'))\n",
    "    model.add(Conv3D(128, kernelSize,  activation='relu', padding='same'))\n",
    "    model.add(BatchNormalization())\n",
    "    model.add(MaxPooling3D(pool_size=(2, 2, 2)))\n",
    "    \n",
    "    #Dropout layer with 25% Fraction of the input units to drop.\n",
    "    model.add(Dropout(dropout))\n",
    "    \n",
    "    #Fifth Convulation Layer\n",
    "    model.add(Conv3D(128, kernelSize,  activation='relu', padding='same'))\n",
    "    model.add(Conv3D(128, kernelSize,  activation='relu', padding='same'))\n",
    "    model.add(BatchNormalization())\n",
    "    model.add(MaxPooling3D(pool_size=(2, 2, 2)))\n",
    "\n",
    "    #Dropout layer with 25% Fraction of the input units to drop.\n",
    "    model.add(Dropout(dropout))\n",
    "\n",
    "    #Flatten Layer\n",
    "    model.add(Flatten())\n",
    "    model.add(Dense(dense_Neurons, activation='relu'))\n",
    "    model.add(BatchNormalization())\n",
    "    model.add(Dropout(dropout))\n",
    "\n",
    "    model.add(Dense(dense_Neurons,activation='relu'))\n",
    "    model.add(BatchNormalization())\n",
    "    model.add(Dropout(dropout))\n",
    "\n",
    "    #Dense Layer with softmax activation function.\n",
    "    #Softmax is an activation function that scales numbers/logits into probabilities.\n",
    "    model.add(Dense(self.num_of_classes, activation='softmax'))\n",
    "    \n",
    "    model.compile(optimizer = 'adam', loss = 'categorical_crossentropy', metrics=[\"categorical_accuracy\"])\n",
    "    return model"
   ]
  },
  {
   "cell_type": "code",
   "execution_count": 18,
   "metadata": {
    "id": "0K-qI81B6kcC"
   },
   "outputs": [
    {
     "name": "stdout",
     "output_type": "stream",
     "text": [
      "Model: \"sequential_3\"\n",
      "_________________________________________________________________\n",
      " Layer (type)                Output Shape              Param #   \n",
      "=================================================================\n",
      " conv3d_13 (Conv3D)          (None, 20, 160, 160, 16)  1312      \n",
      "                                                                 \n",
      " conv3d_14 (Conv3D)          (None, 20, 160, 160, 32)  13856     \n",
      "                                                                 \n",
      " max_pooling3d_4 (MaxPooling  (None, 10, 80, 80, 32)   0         \n",
      " 3D)                                                             \n",
      "                                                                 \n",
      " batch_normalization_7 (Batc  (None, 10, 80, 80, 32)   128       \n",
      " hNormalization)                                                 \n",
      "                                                                 \n",
      " conv3d_15 (Conv3D)          (None, 10, 80, 80, 32)    27680     \n",
      "                                                                 \n",
      " conv3d_16 (Conv3D)          (None, 10, 80, 80, 64)    55360     \n",
      "                                                                 \n",
      " batch_normalization_8 (Batc  (None, 10, 80, 80, 64)   256       \n",
      " hNormalization)                                                 \n",
      "                                                                 \n",
      " conv3d_17 (Conv3D)          (None, 10, 80, 80, 64)    110656    \n",
      "                                                                 \n",
      " batch_normalization_9 (Batc  (None, 10, 80, 80, 64)   256       \n",
      " hNormalization)                                                 \n",
      "                                                                 \n",
      " max_pooling3d_5 (MaxPooling  (None, 5, 40, 40, 64)    0         \n",
      " 3D)                                                             \n",
      "                                                                 \n",
      " conv3d_18 (Conv3D)          (None, 5, 40, 40, 64)     110656    \n",
      "                                                                 \n",
      " conv3d_19 (Conv3D)          (None, 5, 40, 40, 128)    221312    \n",
      "                                                                 \n",
      " batch_normalization_10 (Bat  (None, 5, 40, 40, 128)   512       \n",
      " chNormalization)                                                \n",
      "                                                                 \n",
      " max_pooling3d_6 (MaxPooling  (None, 2, 20, 20, 128)   0         \n",
      " 3D)                                                             \n",
      "                                                                 \n",
      " dropout_4 (Dropout)         (None, 2, 20, 20, 128)    0         \n",
      "                                                                 \n",
      " conv3d_20 (Conv3D)          (None, 2, 20, 20, 128)    442496    \n",
      "                                                                 \n",
      " conv3d_21 (Conv3D)          (None, 2, 20, 20, 128)    442496    \n",
      "                                                                 \n",
      " batch_normalization_11 (Bat  (None, 2, 20, 20, 128)   512       \n",
      " chNormalization)                                                \n",
      "                                                                 \n",
      " max_pooling3d_7 (MaxPooling  (None, 1, 10, 10, 128)   0         \n",
      " 3D)                                                             \n",
      "                                                                 \n",
      " dropout_5 (Dropout)         (None, 1, 10, 10, 128)    0         \n",
      "                                                                 \n",
      " flatten_1 (Flatten)         (None, 12800)             0         \n",
      "                                                                 \n",
      " dense_3 (Dense)             (None, 128)               1638528   \n",
      "                                                                 \n",
      " batch_normalization_12 (Bat  (None, 128)              512       \n",
      " chNormalization)                                                \n",
      "                                                                 \n",
      " dropout_6 (Dropout)         (None, 128)               0         \n",
      "                                                                 \n",
      " dense_4 (Dense)             (None, 128)               16512     \n",
      "                                                                 \n",
      " batch_normalization_13 (Bat  (None, 128)              512       \n",
      " chNormalization)                                                \n",
      "                                                                 \n",
      " dropout_7 (Dropout)         (None, 128)               0         \n",
      "                                                                 \n",
      " dense_5 (Dense)             (None, 5)                 645       \n",
      "                                                                 \n",
      "=================================================================\n",
      "Total params: 3,084,197\n",
      "Trainable params: 3,082,853\n",
      "Non-trainable params: 1,344\n",
      "_________________________________________________________________\n"
     ]
    }
   ],
   "source": [
    "conv_obj_4 = Conv3D_Model4()\n",
    "conv_obj_4.initialize_path(project_folder)\n",
    "conv_obj_4.initialize_properties(img_height=160, img_width=160)\n",
    "conv_obj_4.initialize_hyperparameters(frames_to_sample=20, batch_size=20, epochs=25)\n",
    "conv_obj_model_4 = conv_obj_4.init_Model(dropout=0.5, dense_Neurons=128)\n",
    "conv_obj_model_4.summary()"
   ]
  },
  {
   "cell_type": "code",
   "execution_count": 20,
   "metadata": {
    "id": "a1XS12hZSX2o"
   },
   "outputs": [
    {
     "name": "stdout",
     "output_type": "stream",
     "text": [
      "WARNING:tensorflow:`period` argument is deprecated. Please use `save_freq` to specify the frequency in number of batches seen.\n",
      "Epoch 1/25\n"
     ]
    },
    {
     "name": "stderr",
     "output_type": "stream",
     "text": [
      "2023-05-29 18:27:33.707106: I tensorflow/stream_executor/cuda/cuda_dnn.cc:377] Loaded cuDNN version 8302\n"
     ]
    },
    {
     "name": "stdout",
     "output_type": "stream",
     "text": [
      "34/34 [==============================] - ETA: 0s - loss: 2.2509 - categorical_accuracy: 0.2858\n",
      "Epoch 00001: saving model to model_init_2023-05-2918_22_09.933637/model-00001-2.25087-0.28582-30.85339-0.23000.h5\n",
      "34/34 [==============================] - 233s 7s/step - loss: 2.2509 - categorical_accuracy: 0.2858 - val_loss: 30.8534 - val_categorical_accuracy: 0.2300 - lr: 0.0010\n",
      "Epoch 2/25\n",
      "34/34 [==============================] - ETA: 0s - loss: 1.9225 - categorical_accuracy: 0.3311\n",
      "Epoch 00002: saving model to model_init_2023-05-2918_22_09.933637/model-00002-1.92252-0.33107-9.25132-0.26000.h5\n",
      "34/34 [==============================] - 212s 6s/step - loss: 1.9225 - categorical_accuracy: 0.3311 - val_loss: 9.2513 - val_categorical_accuracy: 0.2600 - lr: 0.0010\n",
      "Epoch 3/25\n",
      "34/34 [==============================] - ETA: 0s - loss: 1.7457 - categorical_accuracy: 0.3560\n",
      "Epoch 00003: saving model to model_init_2023-05-2918_22_09.933637/model-00003-1.74567-0.35596-1.60506-0.39000.h5\n",
      "34/34 [==============================] - 215s 6s/step - loss: 1.7457 - categorical_accuracy: 0.3560 - val_loss: 1.6051 - val_categorical_accuracy: 0.3900 - lr: 0.0010\n",
      "Epoch 4/25\n",
      "34/34 [==============================] - ETA: 0s - loss: 1.6178 - categorical_accuracy: 0.3801\n",
      "Epoch 00004: saving model to model_init_2023-05-2918_22_09.933637/model-00004-1.61778-0.38009-2.01072-0.17000.h5\n",
      "34/34 [==============================] - 213s 6s/step - loss: 1.6178 - categorical_accuracy: 0.3801 - val_loss: 2.0107 - val_categorical_accuracy: 0.1700 - lr: 0.0010\n",
      "Epoch 5/25\n",
      "34/34 [==============================] - ETA: 0s - loss: 1.5390 - categorical_accuracy: 0.3997\n",
      "Epoch 00005: saving model to model_init_2023-05-2918_22_09.933637/model-00005-1.53896-0.39970-1.79870-0.33000.h5\n",
      "34/34 [==============================] - 216s 7s/step - loss: 1.5390 - categorical_accuracy: 0.3997 - val_loss: 1.7987 - val_categorical_accuracy: 0.3300 - lr: 0.0010\n",
      "Epoch 6/25\n",
      "34/34 [==============================] - ETA: 0s - loss: 1.4196 - categorical_accuracy: 0.4623\n",
      "Epoch 00006: saving model to model_init_2023-05-2918_22_09.933637/model-00006-1.41964-0.46229-2.31524-0.25000.h5\n",
      "34/34 [==============================] - 218s 7s/step - loss: 1.4196 - categorical_accuracy: 0.4623 - val_loss: 2.3152 - val_categorical_accuracy: 0.2500 - lr: 0.0010\n",
      "Epoch 7/25\n",
      "34/34 [==============================] - ETA: 0s - loss: 1.3339 - categorical_accuracy: 0.4683\n",
      "Epoch 00007: saving model to model_init_2023-05-2918_22_09.933637/model-00007-1.33389-0.46833-2.60354-0.31000.h5\n",
      "\n",
      "Epoch 00007: ReduceLROnPlateau reducing learning rate to 0.00020000000949949026.\n",
      "34/34 [==============================] - 217s 7s/step - loss: 1.3339 - categorical_accuracy: 0.4683 - val_loss: 2.6035 - val_categorical_accuracy: 0.3100 - lr: 0.0010\n",
      "Epoch 8/25\n",
      "34/34 [==============================] - ETA: 0s - loss: 1.2182 - categorical_accuracy: 0.4940\n",
      "Epoch 00008: saving model to model_init_2023-05-2918_22_09.933637/model-00008-1.21816-0.49397-2.60577-0.21000.h5\n",
      "34/34 [==============================] - 228s 7s/step - loss: 1.2182 - categorical_accuracy: 0.4940 - val_loss: 2.6058 - val_categorical_accuracy: 0.2100 - lr: 2.0000e-04\n",
      "Epoch 9/25\n",
      "34/34 [==============================] - ETA: 0s - loss: 1.1886 - categorical_accuracy: 0.5271\n",
      "Epoch 00009: saving model to model_init_2023-05-2918_22_09.933637/model-00009-1.18855-0.52715-1.61718-0.38000.h5\n",
      "34/34 [==============================] - 224s 7s/step - loss: 1.1886 - categorical_accuracy: 0.5271 - val_loss: 1.6172 - val_categorical_accuracy: 0.3800 - lr: 2.0000e-04\n",
      "Epoch 10/25\n",
      "34/34 [==============================] - ETA: 0s - loss: 1.1488 - categorical_accuracy: 0.5256\n",
      "Epoch 00010: saving model to model_init_2023-05-2918_22_09.933637/model-00010-1.14883-0.52564-1.73982-0.27000.h5\n",
      "34/34 [==============================] - 231s 7s/step - loss: 1.1488 - categorical_accuracy: 0.5256 - val_loss: 1.7398 - val_categorical_accuracy: 0.2700 - lr: 2.0000e-04\n",
      "Epoch 11/25\n",
      "34/34 [==============================] - ETA: 0s - loss: 1.1844 - categorical_accuracy: 0.5287\n",
      "Epoch 00011: saving model to model_init_2023-05-2918_22_09.933637/model-00011-1.18436-0.52866-1.29740-0.44000.h5\n",
      "34/34 [==============================] - 223s 7s/step - loss: 1.1844 - categorical_accuracy: 0.5287 - val_loss: 1.2974 - val_categorical_accuracy: 0.4400 - lr: 2.0000e-04\n",
      "Epoch 12/25\n",
      "34/34 [==============================] - ETA: 0s - loss: 1.1743 - categorical_accuracy: 0.5121\n",
      "Epoch 00012: saving model to model_init_2023-05-2918_22_09.933637/model-00012-1.17435-0.51207-1.48827-0.37000.h5\n",
      "34/34 [==============================] - 230s 7s/step - loss: 1.1743 - categorical_accuracy: 0.5121 - val_loss: 1.4883 - val_categorical_accuracy: 0.3700 - lr: 2.0000e-04\n",
      "Epoch 13/25\n",
      "34/34 [==============================] - ETA: 0s - loss: 1.0864 - categorical_accuracy: 0.5430\n",
      "Epoch 00013: saving model to model_init_2023-05-2918_22_09.933637/model-00013-1.08645-0.54299-1.28266-0.37000.h5\n",
      "34/34 [==============================] - 222s 7s/step - loss: 1.0864 - categorical_accuracy: 0.5430 - val_loss: 1.2827 - val_categorical_accuracy: 0.3700 - lr: 2.0000e-04\n",
      "Epoch 14/25\n",
      "34/34 [==============================] - ETA: 0s - loss: 1.0708 - categorical_accuracy: 0.5724\n",
      "Epoch 00014: saving model to model_init_2023-05-2918_22_09.933637/model-00014-1.07077-0.57240-1.35663-0.36000.h5\n",
      "34/34 [==============================] - 221s 7s/step - loss: 1.0708 - categorical_accuracy: 0.5724 - val_loss: 1.3566 - val_categorical_accuracy: 0.3600 - lr: 2.0000e-04\n",
      "Epoch 15/25\n",
      "34/34 [==============================] - ETA: 0s - loss: 1.0894 - categorical_accuracy: 0.5716\n",
      "Epoch 00015: saving model to model_init_2023-05-2918_22_09.933637/model-00015-1.08941-0.57164-1.50224-0.32000.h5\n",
      "34/34 [==============================] - 220s 7s/step - loss: 1.0894 - categorical_accuracy: 0.5716 - val_loss: 1.5022 - val_categorical_accuracy: 0.3200 - lr: 2.0000e-04\n",
      "Epoch 16/25\n",
      "34/34 [==============================] - ETA: 0s - loss: 1.0249 - categorical_accuracy: 0.5928\n",
      "Epoch 00016: saving model to model_init_2023-05-2918_22_09.933637/model-00016-1.02487-0.59276-1.59434-0.30000.h5\n",
      "34/34 [==============================] - 221s 7s/step - loss: 1.0249 - categorical_accuracy: 0.5928 - val_loss: 1.5943 - val_categorical_accuracy: 0.3000 - lr: 2.0000e-04\n",
      "Epoch 17/25\n",
      "34/34 [==============================] - ETA: 0s - loss: 1.0176 - categorical_accuracy: 0.6078\n",
      "Epoch 00017: saving model to model_init_2023-05-2918_22_09.933637/model-00017-1.01764-0.60784-2.05831-0.29000.h5\n",
      "\n",
      "Epoch 00017: ReduceLROnPlateau reducing learning rate to 4.0000001899898055e-05.\n",
      "34/34 [==============================] - 219s 7s/step - loss: 1.0176 - categorical_accuracy: 0.6078 - val_loss: 2.0583 - val_categorical_accuracy: 0.2900 - lr: 2.0000e-04\n",
      "Epoch 18/25\n",
      "34/34 [==============================] - ETA: 0s - loss: 0.9896 - categorical_accuracy: 0.5897\n",
      "Epoch 00018: saving model to model_init_2023-05-2918_22_09.933637/model-00018-0.98956-0.58974-1.78503-0.32000.h5\n",
      "34/34 [==============================] - 218s 7s/step - loss: 0.9896 - categorical_accuracy: 0.5897 - val_loss: 1.7850 - val_categorical_accuracy: 0.3200 - lr: 4.0000e-05\n",
      "Epoch 19/25\n",
      "34/34 [==============================] - ETA: 0s - loss: 0.9670 - categorical_accuracy: 0.6094\n",
      "Epoch 00019: saving model to model_init_2023-05-2918_22_09.933637/model-00019-0.96703-0.60935-1.42539-0.40000.h5\n",
      "34/34 [==============================] - 219s 7s/step - loss: 0.9670 - categorical_accuracy: 0.6094 - val_loss: 1.4254 - val_categorical_accuracy: 0.4000 - lr: 4.0000e-05\n",
      "Epoch 20/25\n",
      "34/34 [==============================] - ETA: 0s - loss: 0.9466 - categorical_accuracy: 0.5973\n",
      "Epoch 00020: saving model to model_init_2023-05-2918_22_09.933637/model-00020-0.94657-0.59729-1.15230-0.48000.h5\n",
      "34/34 [==============================] - 223s 7s/step - loss: 0.9466 - categorical_accuracy: 0.5973 - val_loss: 1.1523 - val_categorical_accuracy: 0.4800 - lr: 4.0000e-05\n",
      "Epoch 21/25\n",
      "34/34 [==============================] - ETA: 0s - loss: 0.9804 - categorical_accuracy: 0.6124\n",
      "Epoch 00021: saving model to model_init_2023-05-2918_22_09.933637/model-00021-0.98044-0.61237-1.11399-0.51000.h5\n",
      "34/34 [==============================] - 224s 7s/step - loss: 0.9804 - categorical_accuracy: 0.6124 - val_loss: 1.1140 - val_categorical_accuracy: 0.5100 - lr: 4.0000e-05\n",
      "Epoch 22/25\n",
      "34/34 [==============================] - ETA: 0s - loss: 1.0125 - categorical_accuracy: 0.5905\n",
      "Epoch 00022: saving model to model_init_2023-05-2918_22_09.933637/model-00022-1.01247-0.59050-0.97692-0.58000.h5\n",
      "34/34 [==============================] - 224s 7s/step - loss: 1.0125 - categorical_accuracy: 0.5905 - val_loss: 0.9769 - val_categorical_accuracy: 0.5800 - lr: 4.0000e-05\n",
      "Epoch 23/25\n",
      "34/34 [==============================] - ETA: 0s - loss: 0.9425 - categorical_accuracy: 0.6440\n",
      "Epoch 00023: saving model to model_init_2023-05-2918_22_09.933637/model-00023-0.94254-0.64404-0.93340-0.62000.h5\n",
      "34/34 [==============================] - 217s 7s/step - loss: 0.9425 - categorical_accuracy: 0.6440 - val_loss: 0.9334 - val_categorical_accuracy: 0.6200 - lr: 4.0000e-05\n",
      "Epoch 24/25\n",
      "34/34 [==============================] - ETA: 0s - loss: 0.9288 - categorical_accuracy: 0.6312\n",
      "Epoch 00024: saving model to model_init_2023-05-2918_22_09.933637/model-00024-0.92878-0.63122-0.92569-0.53000.h5\n",
      "34/34 [==============================] - 224s 7s/step - loss: 0.9288 - categorical_accuracy: 0.6312 - val_loss: 0.9257 - val_categorical_accuracy: 0.5300 - lr: 4.0000e-05\n",
      "Epoch 25/25\n",
      "34/34 [==============================] - ETA: 0s - loss: 0.9227 - categorical_accuracy: 0.6312\n",
      "Epoch 00025: saving model to model_init_2023-05-2918_22_09.933637/model-00025-0.92270-0.63122-0.92901-0.63000.h5\n",
      "34/34 [==============================] - 217s 7s/step - loss: 0.9227 - categorical_accuracy: 0.6312 - val_loss: 0.9290 - val_categorical_accuracy: 0.6300 - lr: 4.0000e-05\n"
     ]
    }
   ],
   "source": [
    "history_model4 = conv_obj_4.training_model(conv_obj_model_4,augment_data=True)"
   ]
  },
  {
   "cell_type": "code",
   "execution_count": 23,
   "metadata": {
    "id": "iAzhVu74SX2p"
   },
   "outputs": [
    {
     "data": {
      "image/png": "[encoded data removed]",
      "text/plain": [
       "<Figure size 1152x360 with 2 Axes>"
      ]
     },
     "metadata": {
      "needs_background": "light"
     },
     "output_type": "display_data"
    }
   ],
   "source": [
    "plot_accuracyAndLoss(history_model4)"
   ]
  },
  {
   "cell_type": "markdown",
   "metadata": {
    "id": "PP2_9SqYSX2p"
   },
   "source": [
    "### Model 4 - Observations\n",
    "\n",
    "Adding the layers was not much help with respect to the model performance. Let us try reducing and check the performance"
   ]
  },
  {
   "cell_type": "markdown",
   "metadata": {
    "id": "ZKDhhc-1SX2q"
   },
   "source": [
    "### Model 5\n",
    "\n",
    "Reducing the parameters"
   ]
  },
  {
   "cell_type": "code",
   "execution_count": 38,
   "metadata": {
    "id": "4az7DumASX2q"
   },
   "outputs": [],
   "source": [
    "class Conv3D_Model5(ModelBuilder) :\n",
    "  def init_Model(self, kernelSize = (3, 3, 3), dropout = 0.25, dense_Neurons = 64) :\n",
    "\n",
    "    model = Sequential()\n",
    "    model.add(Conv3D(32, kernelSize, input_shape=(self.frames_to_sample, self.img_height, self.img_width, self.channels), padding='same',\n",
    "                    activation='relu'))\n",
    "    model.add(MaxPooling3D(pool_size=(2,2,2)))\n",
    "    model.add(BatchNormalization())\n",
    "\n",
    "    #Second Convulation Layer\n",
    "    model.add(Conv3D(32, kernelSize,  activation='relu', padding='same'))\n",
    "    model.add(BatchNormalization())\n",
    "    model.add(MaxPooling3D(pool_size=(2, 2, 2)))\n",
    "\n",
    "    #Third Convulation Layer\n",
    "    model.add(Conv3D(64, kernelSize,  activation='relu', padding='same'))\n",
    "    model.add(BatchNormalization())\n",
    "    model.add(MaxPooling3D(pool_size=(2, 2, 2)))\n",
    "\n",
    "    #Fourth Convulation Layer\n",
    "    model.add(Conv3D(128, kernelSize,  activation='relu', padding='same'))\n",
    "    model.add(BatchNormalization())\n",
    "    model.add(MaxPooling3D(pool_size=(2, 2, 2)))\n",
    "\n",
    "    model.add(Dropout(dropout))\n",
    "\n",
    "    #Flatten Layer\n",
    "    model.add(Flatten())\n",
    "    model.add(Dense(128, activation='relu'))\n",
    "    model.add(BatchNormalization())\n",
    "    model.add(Dropout(dropout))\n",
    "\n",
    "    model.add(Dense(dense_Neurons,activation='relu'))\n",
    "    model.add(BatchNormalization())\n",
    "    model.add(Dropout(dropout))\n",
    "\n",
    "    model.add(Dense(self.num_of_classes, activation='softmax'))\n",
    "\n",
    "    model.compile(optimizer = 'adam', loss = 'categorical_crossentropy', metrics=[\"categorical_accuracy\"])\n",
    "    model.add(Dense(self.num_of_classes, activation='softmax'))\n",
    "    \n",
    "    return model"
   ]
  },
  {
   "cell_type": "code",
   "execution_count": 39,
   "metadata": {
    "id": "pdIWCjwpSX2r"
   },
   "outputs": [
    {
     "name": "stdout",
     "output_type": "stream",
     "text": [
      "Model: \"sequential_6\"\n",
      "_________________________________________________________________\n",
      " Layer (type)                Output Shape              Param #   \n",
      "=================================================================\n",
      " conv3d_30 (Conv3D)          (None, 18, 120, 120, 32)  2624      \n",
      "                                                                 \n",
      " max_pooling3d_20 (MaxPoolin  (None, 9, 60, 60, 32)    0         \n",
      " g3D)                                                            \n",
      "                                                                 \n",
      " batch_normalization_35 (Bat  (None, 9, 60, 60, 32)    128       \n",
      " chNormalization)                                                \n",
      "                                                                 \n",
      " conv3d_31 (Conv3D)          (None, 9, 60, 60, 32)     27680     \n",
      "                                                                 \n",
      " batch_normalization_36 (Bat  (None, 9, 60, 60, 32)    128       \n",
      " chNormalization)                                                \n",
      "                                                                 \n",
      " max_pooling3d_21 (MaxPoolin  (None, 4, 30, 30, 32)    0         \n",
      " g3D)                                                            \n",
      "                                                                 \n",
      " conv3d_32 (Conv3D)          (None, 4, 30, 30, 64)     55360     \n",
      "                                                                 \n",
      " batch_normalization_37 (Bat  (None, 4, 30, 30, 64)    256       \n",
      " chNormalization)                                                \n",
      "                                                                 \n",
      " max_pooling3d_22 (MaxPoolin  (None, 2, 15, 15, 64)    0         \n",
      " g3D)                                                            \n",
      "                                                                 \n",
      " conv3d_33 (Conv3D)          (None, 2, 15, 15, 128)    221312    \n",
      "                                                                 \n",
      " batch_normalization_38 (Bat  (None, 2, 15, 15, 128)   512       \n",
      " chNormalization)                                                \n",
      "                                                                 \n",
      " max_pooling3d_23 (MaxPoolin  (None, 1, 7, 7, 128)     0         \n",
      " g3D)                                                            \n",
      "                                                                 \n",
      " dropout_13 (Dropout)        (None, 1, 7, 7, 128)      0         \n",
      "                                                                 \n",
      " flatten_5 (Flatten)         (None, 6272)              0         \n",
      "                                                                 \n",
      " dense_15 (Dense)            (None, 128)               802944    \n",
      "                                                                 \n",
      " batch_normalization_39 (Bat  (None, 128)              512       \n",
      " chNormalization)                                                \n",
      "                                                                 \n",
      " dropout_14 (Dropout)        (None, 128)               0         \n",
      "                                                                 \n",
      " dense_16 (Dense)            (None, 128)               16512     \n",
      "                                                                 \n",
      " batch_normalization_40 (Bat  (None, 128)              512       \n",
      " chNormalization)                                                \n",
      "                                                                 \n",
      " dropout_15 (Dropout)        (None, 128)               0         \n",
      "                                                                 \n",
      " dense_17 (Dense)            (None, 5)                 645       \n",
      "                                                                 \n",
      " dense_18 (Dense)            (None, 5)                 30        \n",
      "                                                                 \n",
      "=================================================================\n",
      "Total params: 1,129,155\n",
      "Trainable params: 1,128,131\n",
      "Non-trainable params: 1,024\n",
      "_________________________________________________________________\n"
     ]
    }
   ],
   "source": [
    "conv_obj_5 = Conv3D_Model5()\n",
    "conv_obj_5.initialize_path(project_folder)\n",
    "conv_obj_5.initialize_properties(img_height=120, img_width=120)\n",
    "conv_obj_5.initialize_hyperparameters(frames_to_sample=18, batch_size=20, epochs=20)\n",
    "conv_obj_model_5 = conv_obj_5.init_Model(dropout=0.3, dense_Neurons=128)\n",
    "conv_obj_model_5.summary()"
   ]
  },
  {
   "cell_type": "code",
   "execution_count": 40,
   "metadata": {
    "id": "0wzT230eSX2r"
   },
   "outputs": [
    {
     "name": "stdout",
     "output_type": "stream",
     "text": [
      "WARNING:tensorflow:`period` argument is deprecated. Please use `save_freq` to specify the frequency in number of batches seen.\n",
      "Epoch 1/20\n",
      "34/34 [==============================] - ETA: 0s - loss: 1.4840 - categorical_accuracy: 0.3643\n",
      "Epoch 00001: saving model to model_init_2023-05-3005_51_55.659566/model-00001-1.48396-0.36425-1.70716-0.18000.h5\n",
      "34/34 [==============================] - 173s 5s/step - loss: 1.4840 - categorical_accuracy: 0.3643 - val_loss: 1.7072 - val_categorical_accuracy: 0.1800 - lr: 0.0010\n",
      "Epoch 2/20\n",
      "34/34 [==============================] - ETA: 0s - loss: 1.3911 - categorical_accuracy: 0.4223\n",
      "Epoch 00002: saving model to model_init_2023-05-3005_51_55.659566/model-00002-1.39108-0.42232-1.59679-0.22000.h5\n",
      "34/34 [==============================] - 169s 5s/step - loss: 1.3911 - categorical_accuracy: 0.4223 - val_loss: 1.5968 - val_categorical_accuracy: 0.2200 - lr: 0.0010\n",
      "Epoch 3/20\n",
      "34/34 [==============================] - ETA: 0s - loss: 1.3543 - categorical_accuracy: 0.4563\n",
      "Epoch 00003: saving model to model_init_2023-05-3005_51_55.659566/model-00003-1.35430-0.45626-1.47803-0.34000.h5\n",
      "34/34 [==============================] - 169s 5s/step - loss: 1.3543 - categorical_accuracy: 0.4563 - val_loss: 1.4780 - val_categorical_accuracy: 0.3400 - lr: 0.0010\n",
      "Epoch 4/20\n",
      "34/34 [==============================] - ETA: 0s - loss: 1.3339 - categorical_accuracy: 0.4653\n",
      "Epoch 00004: saving model to model_init_2023-05-3005_51_55.659566/model-00004-1.33388-0.46531-1.56290-0.25000.h5\n",
      "34/34 [==============================] - 171s 5s/step - loss: 1.3339 - categorical_accuracy: 0.4653 - val_loss: 1.5629 - val_categorical_accuracy: 0.2500 - lr: 0.0010\n",
      "Epoch 5/20\n",
      "34/34 [==============================] - ETA: 0s - loss: 1.2794 - categorical_accuracy: 0.4902\n",
      "Epoch 00005: saving model to model_init_2023-05-3005_51_55.659566/model-00005-1.27939-0.49020-1.65566-0.19000.h5\n",
      "34/34 [==============================] - 169s 5s/step - loss: 1.2794 - categorical_accuracy: 0.4902 - val_loss: 1.6557 - val_categorical_accuracy: 0.1900 - lr: 0.0010\n",
      "Epoch 6/20\n",
      "34/34 [==============================] - ETA: 0s - loss: 1.2570 - categorical_accuracy: 0.5008\n",
      "Epoch 00006: saving model to model_init_2023-05-3005_51_55.659566/model-00006-1.25702-0.50075-1.69432-0.26000.h5\n",
      "34/34 [==============================] - 169s 5s/step - loss: 1.2570 - categorical_accuracy: 0.5008 - val_loss: 1.6943 - val_categorical_accuracy: 0.2600 - lr: 0.0010\n",
      "Epoch 7/20\n",
      "34/34 [==============================] - ETA: 0s - loss: 1.2475 - categorical_accuracy: 0.4970\n",
      "Epoch 00007: saving model to model_init_2023-05-3005_51_55.659566/model-00007-1.24753-0.49698-1.75680-0.18000.h5\n",
      "\n",
      "Epoch 00007: ReduceLROnPlateau reducing learning rate to 0.00020000000949949026.\n",
      "34/34 [==============================] - 169s 5s/step - loss: 1.2475 - categorical_accuracy: 0.4970 - val_loss: 1.7568 - val_categorical_accuracy: 0.1800 - lr: 0.0010\n",
      "Epoch 8/20\n",
      "34/34 [==============================] - ETA: 0s - loss: 1.2156 - categorical_accuracy: 0.5204\n",
      "Epoch 00008: saving model to model_init_2023-05-3005_51_55.659566/model-00008-1.21562-0.52036-1.56234-0.26000.h5\n",
      "34/34 [==============================] - 170s 5s/step - loss: 1.2156 - categorical_accuracy: 0.5204 - val_loss: 1.5623 - val_categorical_accuracy: 0.2600 - lr: 2.0000e-04\n",
      "Epoch 9/20\n",
      "34/34 [==============================] - ETA: 0s - loss: 1.1997 - categorical_accuracy: 0.5347\n",
      "Epoch 00009: saving model to model_init_2023-05-3005_51_55.659566/model-00009-1.19966-0.53469-1.59696-0.22000.h5\n",
      "34/34 [==============================] - 169s 5s/step - loss: 1.1997 - categorical_accuracy: 0.5347 - val_loss: 1.5970 - val_categorical_accuracy: 0.2200 - lr: 2.0000e-04\n",
      "Epoch 10/20\n",
      "34/34 [==============================] - ETA: 0s - loss: 1.1937 - categorical_accuracy: 0.5377\n",
      "Epoch 00010: saving model to model_init_2023-05-3005_51_55.659566/model-00010-1.19366-0.53771-1.53130-0.27000.h5\n",
      "34/34 [==============================] - 169s 5s/step - loss: 1.1937 - categorical_accuracy: 0.5377 - val_loss: 1.5313 - val_categorical_accuracy: 0.2700 - lr: 2.0000e-04\n",
      "Epoch 11/20\n",
      "34/34 [==============================] - ETA: 0s - loss: 1.1942 - categorical_accuracy: 0.5309\n",
      "Epoch 00011: saving model to model_init_2023-05-3005_51_55.659566/model-00011-1.19416-0.53092-1.45931-0.29000.h5\n",
      "34/34 [==============================] - 170s 5s/step - loss: 1.1942 - categorical_accuracy: 0.5309 - val_loss: 1.4593 - val_categorical_accuracy: 0.2900 - lr: 2.0000e-04\n",
      "Epoch 12/20\n",
      "34/34 [==============================] - ETA: 0s - loss: 1.1803 - categorical_accuracy: 0.5445\n",
      "Epoch 00012: saving model to model_init_2023-05-3005_51_55.659566/model-00012-1.18031-0.54449-1.47625-0.34000.h5\n",
      "34/34 [==============================] - 172s 5s/step - loss: 1.1803 - categorical_accuracy: 0.5445 - val_loss: 1.4762 - val_categorical_accuracy: 0.3400 - lr: 2.0000e-04\n",
      "Epoch 13/20\n",
      "34/34 [==============================] - ETA: 0s - loss: 1.1728 - categorical_accuracy: 0.5498\n",
      "Epoch 00013: saving model to model_init_2023-05-3005_51_55.659566/model-00013-1.17284-0.54977-1.41979-0.35000.h5\n",
      "34/34 [==============================] - 169s 5s/step - loss: 1.1728 - categorical_accuracy: 0.5498 - val_loss: 1.4198 - val_categorical_accuracy: 0.3500 - lr: 2.0000e-04\n",
      "Epoch 14/20\n",
      "34/34 [==============================] - ETA: 0s - loss: 1.1655 - categorical_accuracy: 0.5505\n",
      "Epoch 00014: saving model to model_init_2023-05-3005_51_55.659566/model-00014-1.16546-0.55053-1.39630-0.41000.h5\n",
      "34/34 [==============================] - 171s 5s/step - loss: 1.1655 - categorical_accuracy: 0.5505 - val_loss: 1.3963 - val_categorical_accuracy: 0.4100 - lr: 2.0000e-04\n",
      "Epoch 15/20\n",
      "34/34 [==============================] - ETA: 0s - loss: 1.1809 - categorical_accuracy: 0.5468\n",
      "Epoch 00015: saving model to model_init_2023-05-3005_51_55.659566/model-00015-1.18095-0.54676-1.50504-0.36000.h5\n",
      "34/34 [==============================] - 168s 5s/step - loss: 1.1809 - categorical_accuracy: 0.5468 - val_loss: 1.5050 - val_categorical_accuracy: 0.3600 - lr: 2.0000e-04\n",
      "Epoch 16/20\n",
      "34/34 [==============================] - ETA: 0s - loss: 1.1654 - categorical_accuracy: 0.5588\n",
      "Epoch 00016: saving model to model_init_2023-05-3005_51_55.659566/model-00016-1.16544-0.55882-1.31332-0.45000.h5\n",
      "34/34 [==============================] - 170s 5s/step - loss: 1.1654 - categorical_accuracy: 0.5588 - val_loss: 1.3133 - val_categorical_accuracy: 0.4500 - lr: 2.0000e-04\n",
      "Epoch 17/20\n",
      "34/34 [==============================] - ETA: 0s - loss: 1.1557 - categorical_accuracy: 0.5596\n",
      "Epoch 00017: saving model to model_init_2023-05-3005_51_55.659566/model-00017-1.15570-0.55958-1.23287-0.50000.h5\n",
      "34/34 [==============================] - 169s 5s/step - loss: 1.1557 - categorical_accuracy: 0.5596 - val_loss: 1.2329 - val_categorical_accuracy: 0.5000 - lr: 2.0000e-04\n",
      "Epoch 18/20\n",
      "34/34 [==============================] - ETA: 0s - loss: 1.1524 - categorical_accuracy: 0.5558\n",
      "Epoch 00018: saving model to model_init_2023-05-3005_51_55.659566/model-00018-1.15242-0.55581-1.35139-0.44000.h5\n",
      "34/34 [==============================] - 169s 5s/step - loss: 1.1524 - categorical_accuracy: 0.5558 - val_loss: 1.3514 - val_categorical_accuracy: 0.4400 - lr: 2.0000e-04\n",
      "Epoch 19/20\n",
      "34/34 [==============================] - ETA: 0s - loss: 1.1373 - categorical_accuracy: 0.5664\n",
      "Epoch 00019: saving model to model_init_2023-05-3005_51_55.659566/model-00019-1.13732-0.56637-1.22429-0.43000.h5\n",
      "34/34 [==============================] - 169s 5s/step - loss: 1.1373 - categorical_accuracy: 0.5664 - val_loss: 1.2243 - val_categorical_accuracy: 0.4300 - lr: 2.0000e-04\n",
      "Epoch 20/20\n",
      "34/34 [==============================] - ETA: 0s - loss: 1.1327 - categorical_accuracy: 0.5709\n",
      "Epoch 00020: saving model to model_init_2023-05-3005_51_55.659566/model-00020-1.13269-0.57089-1.21721-0.48000.h5\n",
      "34/34 [==============================] - 168s 5s/step - loss: 1.1327 - categorical_accuracy: 0.5709 - val_loss: 1.2172 - val_categorical_accuracy: 0.4800 - lr: 2.0000e-04\n"
     ]
    }
   ],
   "source": [
    "history_model5 = conv_obj_5.training_model(conv_obj_model_5,augment_data=True)"
   ]
  },
  {
   "cell_type": "code",
   "execution_count": 41,
   "metadata": {
    "id": "BlhOXcTLSX2r"
   },
   "outputs": [
    {
     "data": {
      "image/png": "[encoded data removed]",
      "text/plain": [
       "<Figure size 1152x360 with 2 Axes>"
      ]
     },
     "metadata": {
      "needs_background": "light"
     },
     "output_type": "display_data"
    }
   ],
   "source": [
    "plot_accuracyAndLoss(history_model5)"
   ]
  },
  {
   "cell_type": "markdown",
   "metadata": {
    "id": "7VRO8SxmSX2s"
   },
   "source": [
    "### Model 5 - Observations\n",
    "\n",
    "The above model gave around 50% as best validation accuracy"
   ]
  },
  {
   "cell_type": "markdown",
   "metadata": {
    "id": "A_ON9KD7SX2s"
   },
   "source": [
    "### Model 6\n",
    "\n",
    "Reducing the number of parameters again"
   ]
  },
  {
   "cell_type": "code",
   "execution_count": 54,
   "metadata": {
    "id": "hdm7_pozSX2t"
   },
   "outputs": [],
   "source": [
    "class Conv3D_Model6(ModelBuilder) :\n",
    "  def init_Model(self, kernelSize = (3, 3, 3), dropout = 0.25, dense_Neurons = 64) :\n",
    "\n",
    "        model = Sequential()\n",
    "        model.add(Conv3D(16, kernelSize,  activation='relu', padding='same',\n",
    "                 input_shape=(self.frames_to_sample,self.img_height,self.img_width,self.channels)))\n",
    "        model.add(BatchNormalization())\n",
    "        model.add(MaxPooling3D(pool_size=(2, 2, 2)))\n",
    "\n",
    "        model.add(Conv3D(32, kernelSize,  activation='relu', padding='same'))\n",
    "        model.add(BatchNormalization())\n",
    "        model.add(MaxPooling3D(pool_size=(2, 2, 2)))\n",
    "\n",
    "        model.add(Conv3D(64, (2, 2, 2),  activation='relu', padding='same'))\n",
    "        model.add(BatchNormalization())\n",
    "        model.add(MaxPooling3D(pool_size=(2, 2, 2)))\n",
    "\n",
    "        model.add(Conv3D(128, (2, 2, 2),  activation='relu', padding='same'))\n",
    "        model.add(BatchNormalization())\n",
    "        model.add(MaxPooling3D(pool_size=(2, 2, 2)))\n",
    "        \n",
    "        model.add(Flatten())\n",
    "        model.add(Dense(dense_Neurons,activation='relu'))\n",
    "        model.add(BatchNormalization())\n",
    "        model.add(Dropout(dropout))\n",
    "\n",
    "        model.add(Dense(dense_Neurons,activation='relu'))\n",
    "        model.add(BatchNormalization())\n",
    "        model.add(Dropout(dropout))\n",
    "\n",
    "        model.add(Dense(self.num_of_classes,activation='softmax')) \n",
    "        optimiser = tf.keras.optimizers.Adam(lr=0.0002)\n",
    "        model.compile(optimizer = optimiser, loss = 'categorical_crossentropy', metrics=[\"categorical_accuracy\"])\n",
    "        return model"
   ]
  },
  {
   "cell_type": "code",
   "execution_count": 55,
   "metadata": {
    "id": "J1Z-TZ8dSX2t"
   },
   "outputs": [
    {
     "name": "stdout",
     "output_type": "stream",
     "text": [
      "Model: \"sequential_10\"\n",
      "_________________________________________________________________\n",
      " Layer (type)                Output Shape              Param #   \n",
      "=================================================================\n",
      " conv3d_42 (Conv3D)          (None, 18, 120, 120, 16)  1312      \n",
      "                                                                 \n",
      " batch_normalization_53 (Bat  (None, 18, 120, 120, 16)  64       \n",
      " chNormalization)                                                \n",
      "                                                                 \n",
      " max_pooling3d_32 (MaxPoolin  (None, 9, 60, 60, 16)    0         \n",
      " g3D)                                                            \n",
      "                                                                 \n",
      " conv3d_43 (Conv3D)          (None, 9, 60, 60, 32)     13856     \n",
      "                                                                 \n",
      " batch_normalization_54 (Bat  (None, 9, 60, 60, 32)    128       \n",
      " chNormalization)                                                \n",
      "                                                                 \n",
      " max_pooling3d_33 (MaxPoolin  (None, 4, 30, 30, 32)    0         \n",
      " g3D)                                                            \n",
      "                                                                 \n",
      " conv3d_44 (Conv3D)          (None, 4, 30, 30, 64)     16448     \n",
      "                                                                 \n",
      " batch_normalization_55 (Bat  (None, 4, 30, 30, 64)    256       \n",
      " chNormalization)                                                \n",
      "                                                                 \n",
      " max_pooling3d_34 (MaxPoolin  (None, 2, 15, 15, 64)    0         \n",
      " g3D)                                                            \n",
      "                                                                 \n",
      " conv3d_45 (Conv3D)          (None, 2, 15, 15, 128)    65664     \n",
      "                                                                 \n",
      " batch_normalization_56 (Bat  (None, 2, 15, 15, 128)   512       \n",
      " chNormalization)                                                \n",
      "                                                                 \n",
      " max_pooling3d_35 (MaxPoolin  (None, 1, 7, 7, 128)     0         \n",
      " g3D)                                                            \n",
      "                                                                 \n",
      " flatten_8 (Flatten)         (None, 6272)              0         \n",
      "                                                                 \n",
      " dense_24 (Dense)            (None, 64)                401472    \n",
      "                                                                 \n",
      " batch_normalization_57 (Bat  (None, 64)               256       \n",
      " chNormalization)                                                \n",
      "                                                                 \n",
      " dropout_21 (Dropout)        (None, 64)                0         \n",
      "                                                                 \n",
      " dense_25 (Dense)            (None, 64)                4160      \n",
      "                                                                 \n",
      " batch_normalization_58 (Bat  (None, 64)               256       \n",
      " chNormalization)                                                \n",
      "                                                                 \n",
      " dropout_22 (Dropout)        (None, 64)                0         \n",
      "                                                                 \n",
      " dense_26 (Dense)            (None, 5)                 325       \n",
      "                                                                 \n",
      "=================================================================\n",
      "Total params: 504,709\n",
      "Trainable params: 503,973\n",
      "Non-trainable params: 736\n",
      "_________________________________________________________________\n"
     ]
    }
   ],
   "source": [
    "conv_obj_6 = Conv3D_Model6()\n",
    "conv_obj_6.initialize_path(project_folder)\n",
    "conv_obj_6.initialize_properties(img_height=120, img_width=120)\n",
    "conv_obj_6.initialize_hyperparameters(frames_to_sample=18, batch_size=20, epochs=25)\n",
    "conv_obj_model_6 = conv_obj_6.init_Model(dropout=0.3, dense_Neurons=64)\n",
    "conv_obj_model_6.summary()"
   ]
  },
  {
   "cell_type": "code",
   "execution_count": null,
   "metadata": {
    "id": "JnSKWWd-SX2u"
   },
   "outputs": [
    {
     "name": "stdout",
     "output_type": "stream",
     "text": [
      "WARNING:tensorflow:`period` argument is deprecated. Please use `save_freq` to specify the frequency in number of batches seen.\n",
      "Epoch 1/25\n",
      "34/34 [==============================] - ETA: 0s - loss: 1.6488 - categorical_accuracy: 0.3952\n",
      "Epoch 00001: saving model to model_init_2023-05-3005_51_55.659566/model-00001-1.64883-0.39517-1.84886-0.21000.h5\n",
      "34/34 [==============================] - 171s 5s/step - loss: 1.6488 - categorical_accuracy: 0.3952 - val_loss: 1.8489 - val_categorical_accuracy: 0.2100 - lr: 2.0000e-04\n",
      "Epoch 2/25\n",
      "34/34 [==============================] - ETA: 0s - loss: 1.2911 - categorical_accuracy: 0.5332\n",
      "Epoch 00002: saving model to model_init_2023-05-3005_51_55.659566/model-00002-1.29108-0.53318-2.44567-0.14000.h5\n",
      "34/34 [==============================] - 171s 5s/step - loss: 1.2911 - categorical_accuracy: 0.5332 - val_loss: 2.4457 - val_categorical_accuracy: 0.1400 - lr: 2.0000e-04\n",
      "Epoch 3/25\n",
      "34/34 [==============================] - ETA: 0s - loss: 0.9997 - categorical_accuracy: 0.6063\n",
      "Epoch 00003: saving model to model_init_2023-05-3005_51_55.659566/model-00003-0.99969-0.60633-2.77916-0.23000.h5\n",
      "34/34 [==============================] - 170s 5s/step - loss: 0.9997 - categorical_accuracy: 0.6063 - val_loss: 2.7792 - val_categorical_accuracy: 0.2300 - lr: 2.0000e-04\n",
      "Epoch 4/25\n",
      "34/34 [==============================] - ETA: 0s - loss: 0.8665 - categorical_accuracy: 0.6637\n",
      "Epoch 00004: saving model to model_init_2023-05-3005_51_55.659566/model-00004-0.86653-0.66365-3.22736-0.25000.h5\n",
      "34/34 [==============================] - 171s 5s/step - loss: 0.8665 - categorical_accuracy: 0.6637 - val_loss: 3.2274 - val_categorical_accuracy: 0.2500 - lr: 2.0000e-04\n",
      "Epoch 5/25\n",
      "34/34 [==============================] - ETA: 0s - loss: 0.7796 - categorical_accuracy: 0.7172\n",
      "Epoch 00005: saving model to model_init_2023-05-3005_51_55.659566/model-00005-0.77961-0.71719-3.84295-0.22000.h5\n",
      "\n",
      "Epoch 00005: ReduceLROnPlateau reducing learning rate to 3.9999998989515007e-05.\n",
      "34/34 [==============================] - 170s 5s/step - loss: 0.7796 - categorical_accuracy: 0.7172 - val_loss: 3.8429 - val_categorical_accuracy: 0.2200 - lr: 2.0000e-04\n",
      "Epoch 6/25\n",
      "34/34 [==============================] - ETA: 0s - loss: 0.6669 - categorical_accuracy: 0.7466\n",
      "Epoch 00006: saving model to model_init_2023-05-3005_51_55.659566/model-00006-0.66689-0.74661-4.14567-0.21000.h5\n",
      "34/34 [==============================] - 169s 5s/step - loss: 0.6669 - categorical_accuracy: 0.7466 - val_loss: 4.1457 - val_categorical_accuracy: 0.2100 - lr: 4.0000e-05\n",
      "Epoch 7/25\n",
      "34/34 [==============================] - ETA: 0s - loss: 0.6232 - categorical_accuracy: 0.7594\n",
      "Epoch 00007: saving model to model_init_2023-05-3005_51_55.659566/model-00007-0.62318-0.75943-4.57474-0.20000.h5\n",
      "34/34 [==============================] - 171s 5s/step - loss: 0.6232 - categorical_accuracy: 0.7594 - val_loss: 4.5747 - val_categorical_accuracy: 0.2000 - lr: 4.0000e-05\n",
      "Epoch 8/25\n",
      "34/34 [==============================] - ETA: 0s - loss: 0.6122 - categorical_accuracy: 0.7632\n",
      "Epoch 00008: saving model to model_init_2023-05-3005_51_55.659566/model-00008-0.61217-0.76320-4.01796-0.25000.h5\n",
      "34/34 [==============================] - 170s 5s/step - loss: 0.6122 - categorical_accuracy: 0.7632 - val_loss: 4.0180 - val_categorical_accuracy: 0.2500 - lr: 4.0000e-05\n",
      "Epoch 9/25\n",
      "34/34 [==============================] - ETA: 0s - loss: 0.5821 - categorical_accuracy: 0.7934\n",
      "Epoch 00009: saving model to model_init_2023-05-3005_51_55.659566/model-00009-0.58212-0.79336-3.75802-0.24000.h5\n",
      "\n",
      "Epoch 00009: ReduceLROnPlateau reducing learning rate to 7.999999797903002e-06.\n",
      "34/34 [==============================] - 170s 5s/step - loss: 0.5821 - categorical_accuracy: 0.7934 - val_loss: 3.7580 - val_categorical_accuracy: 0.2400 - lr: 4.0000e-05\n",
      "Epoch 10/25\n",
      "29/34 [========================>.....] - ETA: 24s - loss: 0.5868 - categorical_accuracy: 0.7819"
     ]
    }
   ],
   "source": [
    "history_model6 = conv_obj_6.training_model(conv_obj_model_6,augment_data=True)"
   ]
  },
  {
   "cell_type": "code",
   "execution_count": null,
   "metadata": {
    "id": "hHGwBszYSX2u"
   },
   "outputs": [],
   "source": [
    "plot_accuracyAndLoss(history_model6)"
   ]
  },
  {
   "cell_type": "markdown",
   "metadata": {
    "id": "8EuQSpPdSX2v"
   },
   "source": [
    "### Model 6 - Observations"
   ]
  },
  {
   "cell_type": "markdown",
   "metadata": {
    "id": "AQA01IgtSX2v"
   },
   "source": [
    "### Model 7\n",
    "\n",
    "#### Let us now build CNN - LSTM Model"
   ]
  },
  {
   "cell_type": "code",
   "execution_count": 11,
   "metadata": {
    "id": "keFBw27DSX2v"
   },
   "outputs": [],
   "source": [
    "class Conv2D_LSTM(ModelBuilder) :\n",
    "  def init_Model(self, kernelSize = (3, 3), dropout = 0.25, dense_Neurons = 64, LSTM_neurons = 64) :\n",
    "\n",
    "    model = Sequential()\n",
    "    model.add(TimeDistributed(Conv2D(16, kernelSize, input_shape=(self.frames_to_sample, self.img_height, self.img_width, self.channels), padding='same',\n",
    "                    activation='relu')))\n",
    "    model.add(TimeDistributed(MaxPooling2D(pool_size=(2, 2))))\n",
    "    model.add(TimeDistributed(BatchNormalization()))\n",
    "\n",
    "    #Second Convulation Layer\n",
    "    model.add(TimeDistributed(Conv2D(32, kernelSize,  activation='relu', padding='same')))\n",
    "    model.add(TimeDistributed(BatchNormalization()))\n",
    "    model.add(TimeDistributed(MaxPooling2D(pool_size=(2, 2))))\n",
    "\n",
    "    #Third Convulation Layer\n",
    "    model.add(TimeDistributed(Conv2D(32, kernelSize,  activation='relu', padding='same')))\n",
    "    model.add(TimeDistributed(BatchNormalization()))\n",
    "    model.add(TimeDistributed(MaxPooling2D(pool_size=(2, 2))))\n",
    "\n",
    "    #Fourth Convulation Layer\n",
    "    model.add(TimeDistributed(Conv2D(64, kernelSize,  activation='relu', padding='same')))\n",
    "    model.add(TimeDistributed(BatchNormalization()))\n",
    "    model.add(TimeDistributed(MaxPooling2D(pool_size=(2, 2))))\n",
    "    \n",
    "    #Dropout layer with 25% Fraction of the input units to drop.\n",
    "    model.add(Dropout(dropout))\n",
    "    \n",
    "    #Fifth Convulation Layer\n",
    "    model.add(TimeDistributed(Conv2D(128, kernelSize,  activation='relu', padding='same')))\n",
    "    model.add(TimeDistributed(BatchNormalization()))\n",
    "    model.add(TimeDistributed(MaxPooling2D(pool_size=(2, 2))))\n",
    "\n",
    "    #Dropout layer with 25% Fraction of the input units to drop.\n",
    "    model.add(Dropout(dropout))\n",
    "\n",
    "    #Flatten Layer\n",
    "    model.add(TimeDistributed(Flatten()))\n",
    "\n",
    "    LSTM(LSTM_neurons)\n",
    "\n",
    "    model.add(Dense(dense_Neurons, activation='relu'))\n",
    "    model.add(BatchNormalization())\n",
    "    model.add(Dropout(dropout))\n",
    "\n",
    "    model.add(Dense(dense_Neurons,activation='relu'))\n",
    "    model.add(BatchNormalization())\n",
    "    model.add(Dropout(dropout))\n",
    "\n",
    "    #Dense Layer with softmax activation function.\n",
    "    #Softmax is an activation function that scales numbers/logits into probabilities.\n",
    "    model.add(Dense(self.num_of_classes, activation='softmax'))\n",
    "    \n",
    "    optimiser = tf.keras.optimizers.Adam()\n",
    "    model.compile(optimiser, loss = 'categorical_crossentropy', metrics=[\"categorical_accuracy\"])\n",
    "    return model"
   ]
  },
  {
   "cell_type": "code",
   "execution_count": 13,
   "metadata": {
    "id": "Ed3ieKXlSX2w"
   },
   "outputs": [
    {
     "ename": "ValueError",
     "evalue": "You must provide an `input_shape` argument.",
     "output_type": "error",
     "traceback": [
      "\u001b[0;31m---------------------------------------------------------------------------\u001b[0m",
      "\u001b[0;31mValueError\u001b[0m                                Traceback (most recent call last)",
      "\u001b[0;32m/tmp/ipykernel_303/1548185913.py\u001b[0m in \u001b[0;36m<module>\u001b[0;34m\u001b[0m\n\u001b[1;32m      4\u001b[0m \u001b[0mconv_obj_7\u001b[0m\u001b[0;34m.\u001b[0m\u001b[0minitialize_hyperparameters\u001b[0m\u001b[0;34m(\u001b[0m\u001b[0mframes_to_sample\u001b[0m\u001b[0;34m=\u001b[0m\u001b[0;36m18\u001b[0m\u001b[0;34m,\u001b[0m \u001b[0mbatch_size\u001b[0m\u001b[0;34m=\u001b[0m\u001b[0;36m20\u001b[0m\u001b[0;34m,\u001b[0m \u001b[0mepochs\u001b[0m\u001b[0;34m=\u001b[0m\u001b[0;36m20\u001b[0m\u001b[0;34m)\u001b[0m\u001b[0;34m\u001b[0m\u001b[0;34m\u001b[0m\u001b[0m\n\u001b[1;32m      5\u001b[0m \u001b[0mconv_obj_model_7\u001b[0m \u001b[0;34m=\u001b[0m \u001b[0mconv_obj_7\u001b[0m\u001b[0;34m.\u001b[0m\u001b[0minit_Model\u001b[0m\u001b[0;34m(\u001b[0m\u001b[0mdropout\u001b[0m\u001b[0;34m=\u001b[0m\u001b[0;36m0.25\u001b[0m\u001b[0;34m,\u001b[0m \u001b[0mdense_Neurons\u001b[0m\u001b[0;34m=\u001b[0m\u001b[0;36m128\u001b[0m\u001b[0;34m,\u001b[0m \u001b[0mLSTM_neurons\u001b[0m\u001b[0;34m=\u001b[0m\u001b[0;36m128\u001b[0m\u001b[0;34m)\u001b[0m\u001b[0;34m\u001b[0m\u001b[0;34m\u001b[0m\u001b[0m\n\u001b[0;32m----> 6\u001b[0;31m \u001b[0mconv_obj_model_7\u001b[0m\u001b[0;34m.\u001b[0m\u001b[0mbuild\u001b[0m\u001b[0;34m(\u001b[0m\u001b[0;34m)\u001b[0m\u001b[0;34m\u001b[0m\u001b[0;34m\u001b[0m\u001b[0m\n\u001b[0m\u001b[1;32m      7\u001b[0m \u001b[0mconv_obj_model_7\u001b[0m\u001b[0;34m.\u001b[0m\u001b[0msummary\u001b[0m\u001b[0;34m(\u001b[0m\u001b[0;34m)\u001b[0m\u001b[0;34m\u001b[0m\u001b[0;34m\u001b[0m\u001b[0m\n",
      "\u001b[0;32m/usr/local/lib/python3.8/dist-packages/keras/engine/sequential.py\u001b[0m in \u001b[0;36mbuild\u001b[0;34m(self, input_shape)\u001b[0m\n\u001b[1;32m    342\u001b[0m     \u001b[0;32melse\u001b[0m\u001b[0;34m:\u001b[0m\u001b[0;34m\u001b[0m\u001b[0;34m\u001b[0m\u001b[0m\n\u001b[1;32m    343\u001b[0m       \u001b[0;32mif\u001b[0m \u001b[0minput_shape\u001b[0m \u001b[0;32mis\u001b[0m \u001b[0;32mNone\u001b[0m\u001b[0;34m:\u001b[0m\u001b[0;34m\u001b[0m\u001b[0;34m\u001b[0m\u001b[0m\n\u001b[0;32m--> 344\u001b[0;31m         \u001b[0;32mraise\u001b[0m \u001b[0mValueError\u001b[0m\u001b[0;34m(\u001b[0m\u001b[0;34m'You must provide an `input_shape` argument.'\u001b[0m\u001b[0;34m)\u001b[0m\u001b[0;34m\u001b[0m\u001b[0;34m\u001b[0m\u001b[0m\n\u001b[0m\u001b[1;32m    345\u001b[0m       \u001b[0mself\u001b[0m\u001b[0;34m.\u001b[0m\u001b[0m_build_graph_network_for_inferred_shape\u001b[0m\u001b[0;34m(\u001b[0m\u001b[0minput_shape\u001b[0m\u001b[0;34m)\u001b[0m\u001b[0;34m\u001b[0m\u001b[0;34m\u001b[0m\u001b[0m\n\u001b[1;32m    346\u001b[0m       \u001b[0;32mif\u001b[0m \u001b[0;32mnot\u001b[0m \u001b[0mself\u001b[0m\u001b[0;34m.\u001b[0m\u001b[0mbuilt\u001b[0m\u001b[0;34m:\u001b[0m\u001b[0;34m\u001b[0m\u001b[0;34m\u001b[0m\u001b[0m\n",
      "\u001b[0;31mValueError\u001b[0m: You must provide an `input_shape` argument."
     ]
    }
   ],
   "source": [
    "conv_obj_7 = Conv2D_LSTM()\n",
    "conv_obj_7.initialize_path(project_folder)\n",
    "conv_obj_7.initialize_properties(img_height=120, img_width=120)\n",
    "conv_obj_7.initialize_hyperparameters(frames_to_sample=18, batch_size=20, epochs=20)\n",
    "conv_obj_model_7 = conv_obj_7.init_Model(dropout=0.25, dense_Neurons=128, LSTM_neurons=128)\n",
    "conv_obj_model_7.build()\n",
    "conv_obj_model_7.summary()"
   ]
  },
  {
   "cell_type": "code",
   "execution_count": null,
   "metadata": {
    "id": "Lxk1TKUISX2w"
   },
   "outputs": [],
   "source": [
    "history_model7 = conv_obj_7.training_model(conv_obj_model_7,augment_data=True)"
   ]
  },
  {
   "cell_type": "code",
   "execution_count": null,
   "metadata": {
    "id": "GVDkUwFNSX2w"
   },
   "outputs": [],
   "source": [
    "plot_accuracyAndLoss(history_model7)"
   ]
  },
  {
   "cell_type": "markdown",
   "metadata": {
    "id": "-MeeZku2SX2x"
   },
   "source": [
    "### Model 7 - Observations"
   ]
  },
  {
   "cell_type": "markdown",
   "metadata": {
    "id": "XGqcau4jyPra"
   },
   "source": [
    "### Model 8\n",
    "\n",
    "We will add Augmentation in our generator function with rotation"
   ]
  },
  {
   "cell_type": "code",
   "execution_count": 9,
   "metadata": {
    "id": "-0h4pCvf02Tp"
   },
   "outputs": [],
   "source": [
    "class ModelBuilder_Augmentation(metaclass = abc.ABCMeta) :\n",
    "\n",
    "  ## Defining the Training and Validation Project data paths\n",
    "  def initialize_path(self, project_folder) :\n",
    "    self.train_csv = np.random.permutation(open('/home/datasets/Project_data/train.csv').readlines())\n",
    "    self.val_csv = np.random.permutation(open('/home/datasets/Project_data/val.csv').readlines())\n",
    "    self.train_data = project_folder + '/' + 'train'\n",
    "    self.val_data = project_folder + '/' + 'val'\n",
    "    self.num_train_sequences = len(self.train_csv)\n",
    "    self.num_val_sequences = len(self.val_csv)\n",
    "\n",
    "  ## Method to initializing Image properties\n",
    "  def initialize_properties(self, img_height=100, img_width=100) :\n",
    "    self.img_height = img_height\n",
    "    self.img_width = img_width\n",
    "    self.num_of_classes = 5\n",
    "    self.total_frames = 30\n",
    "    self.channels = 3\n",
    "\n",
    "  ## Method to initialize the Hyperparameters\n",
    "  def initialize_hyperparameters(self, batch_size = 30, epochs = 30, frames_to_sample = 30) :\n",
    "    self.frames_to_sample = frames_to_sample\n",
    "    self.batch_size = batch_size\n",
    "    self.epochs = epochs\n",
    "\n",
    "   ## Method for training a model and returning history after fit.generator. \n",
    "  def training_model(self, model) :\n",
    "    \n",
    "    ## Let us create the train_generator and the val_generator which will be used in .fit_generator.\n",
    "    train_generator = self.generator(self.train_data, self.train_csv, batch_size, augmentation = True)\n",
    "    val_generator = self.generator(self.val_data, self.val_csv, batch_size)\n",
    "\n",
    "    ## Below code helps in saving our models\n",
    "    model_name = 'model_init' + '_' + str(curr_dt_time).replace(' ','').replace(':','_') + '/'\n",
    "    \n",
    "    if not os.path.exists(model_name):\n",
    "        os.mkdir(model_name)\n",
    "            \n",
    "    filepath = model_name + 'model-{epoch:05d}-{loss:.5f}-{categorical_accuracy:.5f}-{val_loss:.5f}-{val_categorical_accuracy:.5f}.h5'\n",
    "\n",
    "    checkpoint = ModelCheckpoint(filepath, monitor='val_loss', verbose=1, save_best_only=False, save_weights_only=False, mode='auto', period=1)\n",
    "\n",
    "    # Write the REducelronplateau code here\n",
    "    LR = ReduceLROnPlateau(monitor='val_loss', factor=0.2, verbose=1, patience=4)\n",
    "\n",
    "    earlystop = EarlyStopping( monitor=\"val_loss\", min_delta=0,patience=10,verbose=1)\n",
    "    callbacks_list = [checkpoint, LR, earlystop]\n",
    "\n",
    "    ## The steps_per_epoch and validation_steps are used by fit_generator to decide the number of next() calls it need to make\n",
    "    if (self.num_train_sequences % self.batch_size) == 0:\n",
    "       steps_per_epoch = int(self.num_train_sequences / self.batch_size)\n",
    "    else:\n",
    "        steps_per_epoch = (self.num_train_sequences // self.batch_size) + 1\n",
    "\n",
    "    if (self.num_val_sequences % self.batch_size) == 0:\n",
    "        validation_steps = int(self.num_val_sequences / self.batch_size)\n",
    "    else:\n",
    "        validation_steps = (self.num_val_sequences // self.batch_size) + 1\n",
    "\n",
    "    ## Let us now fit the model. This will start training the model and with the help of the checkpoints, you'll be able to save the model\n",
    "    ## at the end of each epoch.\n",
    "    history = model.fit_generator(train_generator, steps_per_epoch=steps_per_epoch, epochs=self.epochs, verbose=1, \n",
    "                    callbacks=callbacks_list, validation_data=val_generator, \n",
    "                    validation_steps=validation_steps, class_weight=None, workers=1, initial_epoch=0)\n",
    "    \n",
    "    return history\n",
    "\n",
    "  def generator(self, source_path, folder_list, batch_size, augmentation=False):\n",
    "    img_idx = np.round(np.linspace(0, self.total_frames - 1, self.frames_to_sample)).astype(int)\n",
    "    while True:\n",
    "        t = np.random.permutation(folder_list)\n",
    "        num_batches = len(t) // batch_size\n",
    "\n",
    "        for batch in range(num_batches):\n",
    "            batch_data, batch_labels = self.one_batch_data(source_path, t, batch, batch_size, img_idx, augmentation)\n",
    "            yield batch_data, batch_labels\n",
    "\n",
    "        remaining_seq = len(t) % batch_size\n",
    "\n",
    "        if remaining_seq != 0:\n",
    "            batch_data, batch_labels = self.one_batch_data(source_path, t, num_batches, batch_size, img_idx,\n",
    "                                                          augmentation, remaining_seq)\n",
    "            yield batch_data, batch_labels\n",
    "\n",
    "    \n",
    "  def one_batch_data(self,source_path,t,batch,batch_size,img_idx,augmentation,remaining_seq=0):\n",
    "    \n",
    "        seq_len = remaining_seq if remaining_seq else batch_size\n",
    "    \n",
    "        batch_data = np.zeros((seq_len,len(img_idx),self.img_height,self.img_width,self.channels)) \n",
    "        batch_labels = np.zeros((seq_len,self.num_of_classes)) \n",
    "    \n",
    "        if (augmentation): \n",
    "            batch_data_aug = np.zeros((seq_len,len(img_idx),self.img_height,self.img_width,self.channels))\n",
    "\n",
    "        \n",
    "        for folder in range(seq_len): \n",
    "            imgs = os.listdir(source_path+'/'+ t[folder + (batch*batch_size)].split(';')[0]) \n",
    "            for idx,item in enumerate(img_idx): \n",
    "                image = imread(source_path+'/'+ t[folder + (batch*batch_size)].strip().split(';')[0]+'/'+imgs[item]).astype(np.float32)\n",
    "                image_resized=imresize(image,(self.img_height,self.img_width,3))\n",
    "            \n",
    "\n",
    "                batch_data[folder,idx,:,:,0] = (image_resized[:,:,0])/255\n",
    "                batch_data[folder,idx,:,:,1] = (image_resized[:,:,1])/255\n",
    "                batch_data[folder,idx,:,:,2] = (image_resized[:,:,2])/255\n",
    "            \n",
    "                if (augmentation):\n",
    "                    shifted = cv2.warpAffine(image, \n",
    "                                             np.float32([[1, 0, np.random.randint(-30,30)],[0, 1, np.random.randint(-30,30)]]), \n",
    "                                            (image.shape[1], image.shape[0]))\n",
    "                    \n",
    "                    gray = cv2.cvtColor(shifted,cv2.COLOR_BGR2GRAY)\n",
    "\n",
    "                    x0, y0 = np.argwhere(gray > 0).min(axis=0)\n",
    "                    x1, y1 = np.argwhere(gray > 0).max(axis=0) \n",
    "                    \n",
    "                    cropped=shifted[x0:x1,y0:y1,:]\n",
    "                    \n",
    "                    image_resized=imresize(cropped,(self.img_height,self.img_width,3))\n",
    "                    \n",
    "                    M = cv2.getRotationMatrix2D((self.img_width//2,self.img_height//2),\n",
    "                                                np.random.randint(-10,10), 1.0)\n",
    "                    rotated = cv2.warpAffine(image_resized, M, (self.img_width, self.img_height))\n",
    "                    \n",
    "                    #shifted = cv2.warpAffine(image_resized, \n",
    "                    #                        np.float32([[1, 0, np.random.randint(-3,3)],[0, 1, np.random.randint(-3,3)]]), \n",
    "                    #                        (image_resized.shape[1], image_resized.shape[0]))\n",
    "            \n",
    "                    batch_data_aug[folder,idx,:,:,0] = (rotated[:,:,0])/255\n",
    "                    batch_data_aug[folder,idx,:,:,1] = (rotated[:,:,1])/255\n",
    "                    batch_data_aug[folder,idx,:,:,2] = (rotated[:,:,2])/255\n",
    "                \n",
    "            \n",
    "            batch_labels[folder, int(t[folder + (batch*batch_size)].strip().split(';')[2])] = 1            \n",
    "    \n",
    "        if (augmentation):\n",
    "            batch_data=np.concatenate([batch_data,batch_data_aug])\n",
    "            batch_labels=np.concatenate([batch_labels,batch_labels])\n",
    "        \n",
    "        return(batch_data,batch_labels)\n",
    "  \n",
    "  @abc.abstractmethod\n",
    "  def init_Model(self) :\n",
    "    pass"
   ]
  },
  {
   "cell_type": "markdown",
   "metadata": {
    "id": "DNlsXAns4qDv"
   },
   "source": [
    "#### Model with Data Augmentation"
   ]
  },
  {
   "cell_type": "code",
   "execution_count": 14,
   "metadata": {
    "id": "m_5dOpbqyXzw"
   },
   "outputs": [],
   "source": [
    "class Conv3D_Model8(ModelBuilder_Augmentation) :\n",
    "  def init_Model(self, kernelSize = (3, 3, 3), dropout = 0.3, dense_Neurons = 64) :\n",
    "\n",
    "    model = Sequential()\n",
    "    model.add(Conv3D(16, kernelSize, input_shape=(self.frames_to_sample, self.img_height, self.img_width, self.channels), padding='same',\n",
    "                    activation='relu'))\n",
    "    model.add(MaxPooling3D(pool_size=(2,2,2)))\n",
    "    model.add(BatchNormalization())\n",
    "\n",
    "    #Second Convulation Layer\n",
    "    model.add(Conv3D(32, kernelSize,  activation='relu', padding='same'))\n",
    "    model.add(BatchNormalization())\n",
    "    model.add(MaxPooling3D(pool_size=(2, 2, 2)))\n",
    "\n",
    "    #Third Convulation Layer\n",
    "    model.add(Conv3D(64, kernelSize,  activation='relu', padding='same'))\n",
    "    model.add(BatchNormalization())\n",
    "    model.add(MaxPooling3D(pool_size=(2, 2, 2)))\n",
    "\n",
    "    #Fourth Convulation Layer\n",
    "    model.add(Conv3D(128, kernelSize,  activation='relu', padding='same'))\n",
    "    model.add(BatchNormalization())\n",
    "    model.add(MaxPooling3D(pool_size=(2, 2, 2)))\n",
    "\n",
    "    #Flatten Layer\n",
    "    model.add(Flatten())\n",
    "    model.add(Dense(dense_Neurons, activation='relu'))\n",
    "    model.add(BatchNormalization())\n",
    "    model.add(Dropout(dropout))\n",
    "\n",
    "    model.add(Dense(dense_Neurons,activation='relu'))\n",
    "    model.add(BatchNormalization())\n",
    "    model.add(Dropout(dropout))\n",
    "\n",
    "    #Dense Layer with softmax activation function.\n",
    "    #Softmax is an activation function that scales numbers/logits into probabilities.\n",
    "    model.add(Dense(self.num_of_classes, activation='softmax'))\n",
    "\n",
    "    optimiser = tf.keras.optimizers.Adam(lr=0.0015)\n",
    "    model.compile(optimizer = optimiser, loss = 'categorical_crossentropy', metrics=[\"categorical_accuracy\"])\n",
    "    return model"
   ]
  },
  {
   "cell_type": "code",
   "execution_count": 15,
   "metadata": {
    "id": "_5GPmAj5yX4a"
   },
   "outputs": [
    {
     "name": "stdout",
     "output_type": "stream",
     "text": [
      "Model: \"sequential_1\"\n",
      "_________________________________________________________________\n",
      " Layer (type)                Output Shape              Param #   \n",
      "=================================================================\n",
      " conv3d_4 (Conv3D)           (None, 16, 160, 160, 16)  1312      \n",
      "                                                                 \n",
      " max_pooling3d_4 (MaxPooling  (None, 8, 80, 80, 16)    0         \n",
      " 3D)                                                             \n",
      "                                                                 \n",
      " batch_normalization_6 (Batc  (None, 8, 80, 80, 16)    64        \n",
      " hNormalization)                                                 \n",
      "                                                                 \n",
      " conv3d_5 (Conv3D)           (None, 8, 80, 80, 32)     13856     \n",
      "                                                                 \n",
      " batch_normalization_7 (Batc  (None, 8, 80, 80, 32)    128       \n",
      " hNormalization)                                                 \n",
      "                                                                 \n",
      " max_pooling3d_5 (MaxPooling  (None, 4, 40, 40, 32)    0         \n",
      " 3D)                                                             \n",
      "                                                                 \n",
      " conv3d_6 (Conv3D)           (None, 4, 40, 40, 64)     55360     \n",
      "                                                                 \n",
      " batch_normalization_8 (Batc  (None, 4, 40, 40, 64)    256       \n",
      " hNormalization)                                                 \n",
      "                                                                 \n",
      " max_pooling3d_6 (MaxPooling  (None, 2, 20, 20, 64)    0         \n",
      " 3D)                                                             \n",
      "                                                                 \n",
      " conv3d_7 (Conv3D)           (None, 2, 20, 20, 128)    221312    \n",
      "                                                                 \n",
      " batch_normalization_9 (Batc  (None, 2, 20, 20, 128)   512       \n",
      " hNormalization)                                                 \n",
      "                                                                 \n",
      " max_pooling3d_7 (MaxPooling  (None, 1, 10, 10, 128)   0         \n",
      " 3D)                                                             \n",
      "                                                                 \n",
      " flatten_1 (Flatten)         (None, 12800)             0         \n",
      "                                                                 \n",
      " dense_3 (Dense)             (None, 128)               1638528   \n",
      "                                                                 \n",
      " batch_normalization_10 (Bat  (None, 128)              512       \n",
      " chNormalization)                                                \n",
      "                                                                 \n",
      " dropout_2 (Dropout)         (None, 128)               0         \n",
      "                                                                 \n",
      " dense_4 (Dense)             (None, 128)               16512     \n",
      "                                                                 \n",
      " batch_normalization_11 (Bat  (None, 128)              512       \n",
      " chNormalization)                                                \n",
      "                                                                 \n",
      " dropout_3 (Dropout)         (None, 128)               0         \n",
      "                                                                 \n",
      " dense_5 (Dense)             (None, 5)                 645       \n",
      "                                                                 \n",
      "=================================================================\n",
      "Total params: 1,949,509\n",
      "Trainable params: 1,948,517\n",
      "Non-trainable params: 992\n",
      "_________________________________________________________________\n"
     ]
    }
   ],
   "source": [
    "conv_obj_8 = Conv3D_Model8()\n",
    "conv_obj_8.initialize_path(project_folder)\n",
    "conv_obj_8.initialize_properties(img_height=160, img_width=160)\n",
    "conv_obj_8.initialize_hyperparameters(frames_to_sample=16, batch_size=20, epochs=20)\n",
    "conv_obj_model_8 = conv_obj_8.init_Model(dropout=0.3, dense_Neurons=128)\n",
    "conv_obj_model_8.summary()"
   ]
  },
  {
   "cell_type": "code",
   "execution_count": null,
   "metadata": {
    "id": "yNBWcxtvyYA1"
   },
   "outputs": [
    {
     "name": "stdout",
     "output_type": "stream",
     "text": [
      "WARNING:tensorflow:`period` argument is deprecated. Please use `save_freq` to specify the frequency in number of batches seen.\n",
      "Epoch 1/20\n"
     ]
    },
    {
     "name": "stderr",
     "output_type": "stream",
     "text": [
      "2023-05-30 13:57:27.200088: I tensorflow/stream_executor/cuda/cuda_dnn.cc:377] Loaded cuDNN version 8302\n"
     ]
    },
    {
     "name": "stdout",
     "output_type": "stream",
     "text": [
      " 3/34 [=>............................] - ETA: 5:21 - loss: 2.2155 - categorical_accuracy: 0.3033"
     ]
    }
   ],
   "source": [
    "history_model8 = conv_obj_8.training_model(conv_obj_model_8)"
   ]
  },
  {
   "cell_type": "code",
   "execution_count": null,
   "metadata": {
    "id": "VYUD6jPmELY1"
   },
   "outputs": [],
   "source": [
    "plot_accuracyAndLoss(history_model8)"
   ]
  },
  {
   "cell_type": "markdown",
   "metadata": {
    "id": "p7Wm_u3tyS5b"
   },
   "source": [
    "### Model 8 - Observations"
   ]
  },
  {
   "cell_type": "markdown",
   "metadata": {
    "id": "JwRDOUiEyZ2u"
   },
   "source": [
    "### Model 9\n",
    "\n",
    "Reducing the filter and Image resolution with Augmentation"
   ]
  },
  {
   "cell_type": "code",
   "execution_count": null,
   "metadata": {
    "id": "Q8M6aQq4SX2x"
   },
   "outputs": [],
   "source": [
    "class Conv3D_Model9(ModelBuilder_Augmentation) :\n",
    "  def init_Model(self, kernelSize = (2, 2, 2), dropout = 0.3, dense_Neurons = 64) :\n",
    "\n",
    "    model = Sequential()\n",
    "    model.add(Conv3D(16, kernelSize, input_shape=(self.frames_to_sample, self.img_height, self.img_width, self.channels), padding='same',\n",
    "                    activation='relu'))\n",
    "    model.add(MaxPooling3D(pool_size=(2,2,2)))\n",
    "    model.add(BatchNormalization())\n",
    "\n",
    "    #Second Convulation Layer\n",
    "    model.add(Conv3D(32, kernelSize,  activation='relu', padding='same'))\n",
    "    model.add(BatchNormalization())\n",
    "    model.add(MaxPooling3D(pool_size=(2, 2, 2)))\n",
    "\n",
    "    #Third Convulation Layer\n",
    "    model.add(Conv3D(64, kernelSize,  activation='relu', padding='same'))\n",
    "    model.add(BatchNormalization())\n",
    "    model.add(MaxPooling3D(pool_size=(2, 2, 2)))\n",
    "\n",
    "    #Fourth Convulation Layer\n",
    "    model.add(Conv3D(128, kernelSize,  activation='relu', padding='same'))\n",
    "    model.add(BatchNormalization())\n",
    "    model.add(MaxPooling3D(pool_size=(2, 2, 2)))\n",
    "\n",
    "    #Flatten Layer\n",
    "    model.add(Flatten())\n",
    "    model.add(Dense(dense_Neurons, activation='relu'))\n",
    "    model.add(BatchNormalization())\n",
    "    model.add(Dropout(dropout))\n",
    "\n",
    "    model.add(Dense(dense_Neurons,activation='relu'))\n",
    "    model.add(BatchNormalization())\n",
    "    model.add(Dropout(dropout))\n",
    "\n",
    "    #Dense Layer with softmax activation function.\n",
    "    #Softmax is an activation function that scales numbers/logits into probabilities.\n",
    "    model.add(Dense(self.num_of_classes, activation='softmax'))\n",
    "    \n",
    "    optimiser = tf.keras.optimizers.Adam(lr=0.0002)\n",
    "    model.compile(optimizer = 'adam', loss = 'categorical_crossentropy', metrics=[\"categorical_accuracy\"])\n",
    "    return model"
   ]
  },
  {
   "cell_type": "code",
   "execution_count": null,
   "metadata": {
    "id": "5_ztiDGJSX2x"
   },
   "outputs": [],
   "source": [
    "conv_obj_9 = Conv3D_Model9()\n",
    "conv_obj_9.initialize_path(project_folder)\n",
    "conv_obj_9.initialize_properties(img_height=120, img_width=120)\n",
    "conv_obj_9.initialize_hyperparameters(frames_to_sample=16, batch_size=20, epochs=25)\n",
    "conv_obj_model_9 = conv_obj_9.init_Model(dropout=0.5, dense_Neurons=128)\n",
    "conv_obj_model_9.summary()"
   ]
  },
  {
   "cell_type": "code",
   "execution_count": null,
   "metadata": {
    "id": "PlA-BxrmSX2y"
   },
   "outputs": [],
   "source": [
    "history_model9 = conv_obj_9.training_model(conv_obj_model_9,augment_data=True)"
   ]
  },
  {
   "cell_type": "code",
   "execution_count": null,
   "metadata": {
    "id": "au1nmsIOXCj0"
   },
   "outputs": [],
   "source": [
    "plot_accuracyAndLoss(history_model9)"
   ]
  },
  {
   "cell_type": "markdown",
   "metadata": {
    "id": "RPL9msQUXIKO"
   },
   "source": [
    "### Model 9 - Observations "
   ]
  },
  {
   "cell_type": "markdown",
   "metadata": {
    "id": "Grp6hUShXNA_"
   },
   "source": [
    "### Model 10\n",
    "\n",
    "Adding more layers to the above Augmented model"
   ]
  },
  {
   "cell_type": "code",
   "execution_count": null,
   "metadata": {
    "id": "2Cf0mIFXXMIH"
   },
   "outputs": [],
   "source": [
    "class Conv3D_Model10(ModelBuilder_Augmentation) :\n",
    "  def init_Model(self, kernelSize = (3, 3, 3), dropout = 0.25, dense_Neurons = 64) :\n",
    "\n",
    "    model = Sequential()\n",
    "    model.add(Conv3D(16, kernelSize, input_shape=(self.frames_to_sample, self.img_height, self.img_width, self.channels), padding='same',\n",
    "                    activation='relu'))\n",
    "    model.add(Conv3D(32, kernelSize, activation='relu', padding='same'))\n",
    "    model.add(MaxPooling3D(pool_size=(2, 2, 2)))\n",
    "    model.add(BatchNormalization())\n",
    "\n",
    "    #Second Convulation Layer\n",
    "    model.add(Conv3D(32, kernelSize,  activation='relu', padding='same'))\n",
    "    model.add(Conv3D(64, kernelSize,  activation='relu', padding='same'))\n",
    "    model.add(BatchNormalization())\n",
    "\n",
    "    #Third Convulation Layer\n",
    "    model.add(Conv3D(64, kernelSize,  activation='relu', padding='same'))\n",
    "    model.add(BatchNormalization())\n",
    "    model.add(MaxPooling3D(pool_size=(2, 2, 2)))\n",
    "\n",
    "    #Fourth Convulation Layer\n",
    "    model.add(Conv3D(64, kernelSize,  activation='relu', padding='same'))\n",
    "    model.add(Conv3D(128, kernelSize,  activation='relu', padding='same'))\n",
    "    model.add(BatchNormalization())\n",
    "    model.add(MaxPooling3D(pool_size=(2, 2, 2)))\n",
    "    \n",
    "    #Dropout layer with 25% Fraction of the input units to drop.\n",
    "    model.add(Dropout(dropout))\n",
    "    \n",
    "    #Fifth Convulation Layer\n",
    "    model.add(Conv3D(128, kernelSize,  activation='relu', padding='same'))\n",
    "    model.add(Conv3D(128, kernelSize,  activation='relu', padding='same'))\n",
    "    model.add(BatchNormalization())\n",
    "    model.add(MaxPooling3D(pool_size=(2, 2, 2)))\n",
    "\n",
    "    #Dropout layer with 25% Fraction of the input units to drop.\n",
    "    model.add(Dropout(dropout))\n",
    "\n",
    "    #Flatten Layer\n",
    "    model.add(Flatten())\n",
    "    model.add(Dense(dense_Neurons, activation='relu'))\n",
    "    model.add(BatchNormalization())\n",
    "    model.add(Dropout(dropout))\n",
    "\n",
    "    model.add(Dense(dense_Neurons,activation='relu'))\n",
    "    model.add(BatchNormalization())\n",
    "    model.add(Dropout(dropout))\n",
    "\n",
    "    #Dense Layer with softmax activation function.\n",
    "    #Softmax is an activation function that scales numbers/logits into probabilities.\n",
    "    model.add(Dense(self.num_of_classes, activation='softmax'))\n",
    "    \n",
    "    optimiser = tf.keras.optimizers.Adam(lr=0.0015)\n",
    "    model.compile(optimizer = 'adam', loss = 'categorical_crossentropy', metrics=[\"categorical_accuracy\"])\n",
    "    return model"
   ]
  },
  {
   "cell_type": "code",
   "execution_count": null,
   "metadata": {
    "id": "1_GKL8GgY1cV"
   },
   "outputs": [],
   "source": [
    "conv_obj_10 = Conv3D_Model10()\n",
    "conv_obj_10.initialize_path(project_folder)\n",
    "conv_obj_10.initialize_properties(img_height=120, img_width=120)\n",
    "conv_obj_10.initialize_hyperparameters(frames_to_sample=18, batch_size=20, epochs=25)\n",
    "conv_obj_model_10 = conv_obj_10.init_Model(dropout=0.5, dense_Neurons=128)\n",
    "conv_obj_model_10.summary()"
   ]
  },
  {
   "cell_type": "code",
   "execution_count": null,
   "metadata": {
    "id": "XCTAp5uXY1f1"
   },
   "outputs": [],
   "source": [
    "history_model10 = conv_obj_10.training_model(conv_obj_model_10,augment_data=True)"
   ]
  },
  {
   "cell_type": "code",
   "execution_count": null,
   "metadata": {
    "id": "Yo5LkVHhY1sK"
   },
   "outputs": [],
   "source": [
    "plot_accuracyAndLoss(history_model10)"
   ]
  },
  {
   "cell_type": "markdown",
   "metadata": {
    "id": "HHsJA5lkZTuF"
   },
   "source": [
    "### Model 10 - Observations"
   ]
  },
  {
   "cell_type": "markdown",
   "metadata": {
    "id": "DrtPH5tpZYEC"
   },
   "source": [
    "### Model 11\n",
    "\n",
    "Reducing the parameters"
   ]
  },
  {
   "cell_type": "code",
   "execution_count": null,
   "metadata": {
    "id": "iENE9fhBY1vb"
   },
   "outputs": [],
   "source": [
    "class Conv3D_Model11(ModelBuilder_Augmentation) :\n",
    "  def init_Model(self, kernelSize, dropout = 0.25, dense_Neurons = 64) :\n",
    "\n",
    "    model = Sequential()\n",
    "    model.add(Conv3D(16, kernelSize, input_shape=(self.frames_to_sample, self.img_height, self.img_width, self.channels), padding='same',\n",
    "                    activation='relu'))\n",
    "    model.add(MaxPooling3D(pool_size=(2, 2, 2)))\n",
    "    model.add(BatchNormalization())\n",
    "\n",
    "    #Second Convulation Layer\n",
    "    model.add(Conv3D(32, kernelSize,  activation='relu', padding='same'))\n",
    "    model.add(Conv3D(32, kernelSize,  activation='relu', padding='same'))\n",
    "    model.add(BatchNormalization())\n",
    "    model.add(MaxPooling3D(pool_size=(2, 2, 2)))\n",
    "\n",
    "    #Third Convulation Layer\n",
    "    model.add(Conv3D(64, (2, 2, 2),  activation='relu', padding='same'))\n",
    "    model.add(BatchNormalization())\n",
    "    model.add(MaxPooling3D(pool_size=(2, 2, 2)))\n",
    "\n",
    "    #Fourth Convulation Layer\n",
    "    model.add(Conv3D(64, (2, 2, 2),  activation='relu', padding='same'))\n",
    "    model.add(BatchNormalization())\n",
    "    model.add(MaxPooling3D(pool_size=(2, 2, 2)))\n",
    "    \n",
    "    #Dropout layer with 25% Fraction of the input units to drop.\n",
    "    model.add(Dropout(dropout))\n",
    "    \n",
    "    #Fifth Convulation Layer\n",
    "    model.add(Conv3D(128, (2, 2, 2),  activation='relu', padding='same'))\n",
    "    model.add(BatchNormalization())\n",
    "    model.add(MaxPooling3D(pool_size=(2, 2, 2)))\n",
    "\n",
    "    model.add(Dropout(dropout))\n",
    "\n",
    "    #Flatten Layer\n",
    "    model.add(Flatten())\n",
    "    model.add(Dense(dense_Neurons, activation='relu'))\n",
    "    model.add(BatchNormalization())\n",
    "    model.add(Dropout(dropout))\n",
    "\n",
    "    model.add(Dense(dense_Neurons,activation='relu'))\n",
    "    model.add(BatchNormalization())\n",
    "    model.add(Dropout(dropout))\n",
    "\n",
    "    #Dense Layer with softmax activation function.\n",
    "    #Softmax is an activation function that scales numbers/logits into probabilities.\n",
    "    model.add(Dense(self.num_of_classes, activation='softmax'))\n",
    "    \n",
    "    optimiser = optimizers.Adam(lr=0.0003)\n",
    "    model.compile(optimizer = 'adam', loss = 'categorical_crossentropy', metrics=[\"categorical_accuracy\"])\n",
    "    return model"
   ]
  },
  {
   "cell_type": "code",
   "execution_count": null,
   "metadata": {
    "id": "uY--NryvdM8g"
   },
   "outputs": [],
   "source": [
    "conv_obj_11 = Conv3D_Model11()\n",
    "conv_obj_11.initialize_path(project_folder)\n",
    "conv_obj_11.initialize_properties(img_height=120, img_width=120)\n",
    "conv_obj_11.initialize_hyperparameters(frames_to_sample=18, batch_size=20, epochs=25)\n",
    "conv_obj_model_11 = conv_obj_11.init_Model(dropout=0.5, dense_Neurons=128)\n",
    "conv_obj_model_11.summary()"
   ]
  },
  {
   "cell_type": "code",
   "execution_count": null,
   "metadata": {
    "id": "ClQaJeMsdNLU"
   },
   "outputs": [],
   "source": [
    "history_model11 = conv_obj_11.training_model(conv_obj_model_11,augment_data=True)"
   ]
  },
  {
   "cell_type": "code",
   "execution_count": null,
   "metadata": {
    "id": "evIh9bU7duf1"
   },
   "outputs": [],
   "source": [
    "plot_accuracyAndLoss(history_model11)"
   ]
  },
  {
   "cell_type": "markdown",
   "metadata": {
    "id": "osSTa-JJd4vX"
   },
   "source": [
    "### Model 11 - Observation "
   ]
  },
  {
   "cell_type": "markdown",
   "metadata": {
    "id": "o9AScN1Bd-P_"
   },
   "source": [
    "### Model 12\n",
    "\n",
    "Reducing the parameters again (As we did in Model 6)"
   ]
  },
  {
   "cell_type": "code",
   "execution_count": null,
   "metadata": {
    "id": "wtn7JpSTd9Xz"
   },
   "outputs": [],
   "source": [
    "class Conv3D_Model12(ModelBuilder_Augmentation) :\n",
    "  def init_Model(self, kernelSize = (3, 3, 3), dropout = 0.25, dense_Neurons = 64) :\n",
    "\n",
    "    model = Sequential()\n",
    "    model.add(Conv3D(16, kernelSize, input_shape=(self.frames_to_sample, self.img_height, self.img_width, self.channels), padding='same',\n",
    "                    activation='relu'))\n",
    "    model.add(MaxPooling3D(pool_size=(2, 2, 2)))\n",
    "    model.add(BatchNormalization())\n",
    "\n",
    "    #Second Convulation Layer\n",
    "    model.add(Conv3D(32, kernelSize,  activation='relu', padding='same'))\n",
    "    model.add(BatchNormalization())\n",
    "    model.add(MaxPooling3D(pool_size=(2, 2, 2)))\n",
    "\n",
    "    #Third Convulation Layer\n",
    "    model.add(Conv3D(64, (2, 2, 2),  activation='relu', padding='same'))\n",
    "    model.add(BatchNormalization())\n",
    "    model.add(MaxPooling3D(pool_size=(2, 2, 2)))\n",
    "\n",
    "    #Fourth Convulation Layer\n",
    "    model.add(Conv3D(64, (2, 2, 2),  activation='relu', padding='same'))\n",
    "    model.add(BatchNormalization())\n",
    "    model.add(MaxPooling3D(pool_size=(2, 2, 2)))\n",
    "    \n",
    "    #Dropout layer with 25% Fraction of the input units to drop.\n",
    "    model.add(Dropout(dropout))\n",
    "    \n",
    "    #Fifth Convulation Layer\n",
    "    model.add(Conv3D(128, (2, 2, 2),  activation='relu', padding='same'))\n",
    "    model.add(BatchNormalization())\n",
    "    model.add(MaxPooling3D(pool_size=(2, 2, 2)))\n",
    "\n",
    "    #Dropout layer with 25% Fraction of the input units to drop.\n",
    "    model.add(Dropout(dropout))\n",
    "\n",
    "    #Flatten Layer\n",
    "    model.add(Flatten())\n",
    "    model.add(Dense(dense_Neurons, activation='relu'))\n",
    "    model.add(BatchNormalization())\n",
    "    model.add(Dropout(dropout))\n",
    "\n",
    "    model.add(Dense(dense_Neurons,activation='relu'))\n",
    "    model.add(BatchNormalization())\n",
    "    model.add(Dropout(dropout))\n",
    "\n",
    "    #Dense Layer with softmax activation function.\n",
    "    #Softmax is an activation function that scales numbers/logits into probabilities.\n",
    "    model.add(Dense(self.num_of_classes, activation='softmax'))\n",
    "    \n",
    "    optimiser = tf.keras.optimizers.Adam(lr=0.0003)\n",
    "    model.compile(optimizer = 'adam', loss = 'categorical_crossentropy', metrics=[\"categorical_accuracy\"])\n",
    "    return model"
   ]
  },
  {
   "cell_type": "code",
   "execution_count": null,
   "metadata": {
    "id": "q2EozY14jimM"
   },
   "outputs": [],
   "source": [
    "conv_obj_12 = Conv3D_Model12()\n",
    "conv_obj_12.initialize_path(project_folder)\n",
    "conv_obj_12.initialize_properties(img_height=120, img_width=120)\n",
    "conv_obj_12.initialize_hyperparameters(frames_to_sample=18, batch_size=20, epochs=25)\n",
    "conv_obj_model_12 = conv_obj_12.init_Model(dropout=0.5, dense_Neurons=128)\n",
    "conv_obj_model_12.summary()"
   ]
  },
  {
   "cell_type": "code",
   "execution_count": null,
   "metadata": {
    "id": "fWXGjuc3jiq0"
   },
   "outputs": [],
   "source": [
    "history_model12 = conv_obj_12.training_model(conv_obj_model_12,augment_data=True)"
   ]
  },
  {
   "cell_type": "code",
   "execution_count": null,
   "metadata": {
    "id": "F3KXjTIzjr85"
   },
   "outputs": [],
   "source": [
    "plot_accuracyAndLoss(history_model12)"
   ]
  },
  {
   "cell_type": "markdown",
   "metadata": {
    "id": "ihreXHoAkEMp"
   },
   "source": [
    "### Model 12 - Observations"
   ]
  },
  {
   "cell_type": "markdown",
   "metadata": {
    "id": "LfvqT6ZBkNIe"
   },
   "source": [
    "### Model 13\n",
    "\n",
    "LSTM Model with Augmentation and GRU"
   ]
  },
  {
   "cell_type": "code",
   "execution_count": null,
   "metadata": {
    "id": "uGf5F9LUkCmF"
   },
   "outputs": [],
   "source": [
    "class Conv2D_LSTM13(ModelBuilder_Augmentation) :\n",
    "  def init_Model(self, kernelSize = (3, 3), dropout = 0.25, dense_Neurons = 64, GRU_neurons = 64) :\n",
    "\n",
    "    model = Sequential()\n",
    "    model.add(TimeDistributed(Conv2D(16, kernelSize, input_shape=(self.frames_to_sample, self.img_height, self.img_width, self.channels), padding='same',\n",
    "                    activation='relu')))\n",
    "    model.add(TimeDistributed(MaxPool2D(pool_size=(2, 2))))\n",
    "    model.add(TimeDistributed(BatchNormalization()))\n",
    "\n",
    "    #Second Convulation Layer\n",
    "    model.add(TimeDistributed(Conv2D(32, kernelSize,  activation='relu', padding='same')))\n",
    "    model.add(TimeDistributed(BatchNormalization()))\n",
    "    model.add(TimeDistributed(MaxPooling2D(pool_size=(2, 2))))\n",
    "\n",
    "    #Third Convulation Layer\n",
    "    model.add(TimeDistributed(Conv2D(32, kernelSize,  activation='relu', padding='same')))\n",
    "    model.add(TimeDistributed(BatchNormalization()))\n",
    "    model.add(TimeDistributed(MaxPooling2D(pool_size=(2, 2))))\n",
    "\n",
    "    #Fourth Convulation Layer\n",
    "    model.add(TimeDistributed(Conv2D(64, kernelSize,  activation='relu', padding='same')))\n",
    "    model.add(TimeDistributed(BatchNormalization()))\n",
    "    model.add(TimeDistributed(MaxPooling2D(pool_size=(2, 2))))\n",
    "    \n",
    "    #Dropout layer with 25% Fraction of the input units to drop.\n",
    "    model.add(Dropout(dropout))\n",
    "    \n",
    "    #Fifth Convulation Layer\n",
    "    model.add(TimeDistributed(Conv2D(128, kernelSize,  activation='relu', padding='same')))\n",
    "    model.add(TimeDistributed(BatchNormalization()))\n",
    "    model.add(TimeDistributed(MaxPooling2D(pool_size=(2, 2))))\n",
    "\n",
    "    model.add(Dropout(dropout))\n",
    "\n",
    "    #Flatten Layer\n",
    "    model.add(TimeDistributed(Flatten()))\n",
    "\n",
    "    model.add(GRU(GRU_neurons))\n",
    "\n",
    "    model.add(Dense(dense_Neurons, activation='relu'))\n",
    "    model.add(BatchNormalization())\n",
    "    model.add(Dropout(dropout))\n",
    "\n",
    "    model.add(Dense(dense_Neurons,activation='relu'))\n",
    "    model.add(BatchNormalization())\n",
    "    model.add(Dropout(dropout))\n",
    "\n",
    "    #Dense Layer with softmax activation function.\n",
    "    #Softmax is an activation function that scales numbers/logits into probabilities.\n",
    "    model.add(Dense(self.num_of_classes, activation='softmax'))\n",
    "    \n",
    "    optimiser = tf.keras.optimizers.Adam(lr=0.0015)\n",
    "    model.compile(optimizer = 'adam', loss = 'categorical_crossentropy', metrics=[\"categorical_accuracy\"])\n",
    "    return model"
   ]
  },
  {
   "cell_type": "code",
   "execution_count": null,
   "metadata": {
    "id": "JDevD2FWkCqo"
   },
   "outputs": [],
   "source": [
    "conv_obj_13 = Conv2D_LSTM13()\n",
    "conv_obj_13.initialize_path(project_folder)\n",
    "conv_obj_13.initialize_properties(img_height=120, img_width=120)\n",
    "conv_obj_13.initialize_hyperparameters(frames_to_sample=18, batch_size=20, epochs=20)\n",
    "conv_obj_model_13 = conv_obj_13.init_Model(dropout=0.5, dense_Neurons=128, GRU_neurons=128)\n",
    "conv_obj_model_13.summary()"
   ]
  },
  {
   "cell_type": "code",
   "execution_count": null,
   "metadata": {
    "id": "5F0OWJjbkCwT"
   },
   "outputs": [],
   "source": [
    "history_model13 = conv_obj_13.training_model(conv_obj_model_13,augment_data=True)"
   ]
  },
  {
   "cell_type": "code",
   "execution_count": null,
   "metadata": {
    "id": "6l8DhqXstQwC"
   },
   "outputs": [],
   "source": [
    "plot_accuracyAndLoss(history_model13)"
   ]
  },
  {
   "cell_type": "markdown",
   "metadata": {
    "id": "8CNAA9kztUs1"
   },
   "source": [
    "### Model 13 - Observations"
   ]
  },
  {
   "cell_type": "markdown",
   "metadata": {
    "id": "YwKHWNrFtYRA"
   },
   "source": [
    "### Model 14\n",
    "\n",
    "Using Transfer Learning "
   ]
  },
  {
   "cell_type": "code",
   "execution_count": null,
   "metadata": {
    "id": "2E5LL2CUtXre"
   },
   "outputs": [],
   "source": [
    "from keras.applications import mobilenet"
   ]
  },
  {
   "cell_type": "code",
   "execution_count": null,
   "metadata": {},
   "outputs": [],
   "source": [
    "mobilenet_transfer = mobilenet.MobileNet(weights='imagenet', include_top=False)"
   ]
  },
  {
   "cell_type": "code",
   "execution_count": null,
   "metadata": {},
   "outputs": [],
   "source": [
    "class CNN_TL(ModelBuilder_Augmentation):\n",
    "    \n",
    "    def init_Model(self, kernelSize = (3, 3), dropout = 0.25, dense_Neurons = 64, LSTM_neurons = 64):\n",
    "        \n",
    "        model = Sequential()\n",
    "        model.add(TimeDistributed(mobilenet_transfer,input_shape=(self.frames_to_sample,self.image_height,self.image_width,self.channels)))\n",
    "                \n",
    "        for layer in model.layers:\n",
    "            layer.trainable = False\n",
    "               \n",
    "        ## Adding the final layer         \n",
    "        model.add(TimeDistributed(MaxPooling2D((2, 2))))\n",
    "        model.add(TimeDistributed(BatchNormalization()))\n",
    "        model.add(TimeDistributed(Flatten()))\n",
    "\n",
    "        model.add(LSTM(LSTM_neurons))\n",
    "        model.add(Dropout(dropout))\n",
    "        \n",
    "        model.add(Dense(dense_neurons,activation='relu'))\n",
    "        model.add(Dropout(dropout))\n",
    "        \n",
    "        model.add(Dense(self.num_of_classes, activation='softmax'))\n",
    "        \n",
    "        \n",
    "        optimiser = optimizers.Adam()\n",
    "        model.compile(optimizer=optimiser, loss='categorical_crossentropy', metrics=['categorical_accuracy'])\n",
    "        return model"
   ]
  },
  {
   "cell_type": "code",
   "execution_count": null,
   "metadata": {},
   "outputs": [],
   "source": [
    "conv_TL_1=CNN_TL()\n",
    "conv_TL_1.initialize_path(project_folder)\n",
    "conv_TL_1.initialize_properties(image_height=120,image_width=120)\n",
    "conv_TL_1.initialize_hyperparameters(frames_to_sample=16,batch_size=5,num_epochs=20)\n",
    "conv_TL_1_model=conv_TL_1.init_Model(dense_neurons=128,dropout=0.25, LSTM_neurons=128)\n",
    "conv_TL_1_model.summary()"
   ]
  },
  {
   "cell_type": "code",
   "execution_count": null,
   "metadata": {},
   "outputs": [],
   "source": [
    "TL_history_model1 = conv_TL_1.training_model(conv_TL_1_model,augment_data=True)"
   ]
  },
  {
   "cell_type": "code",
   "execution_count": null,
   "metadata": {},
   "outputs": [],
   "source": [
    "plot_accuracyAndLoss(TL_history_model1)"
   ]
  },
  {
   "cell_type": "markdown",
   "metadata": {},
   "source": [
    "### Model 14 - Observations"
   ]
  },
  {
   "cell_type": "markdown",
   "metadata": {},
   "source": [
    "### Model 15\n",
    "\n",
    "Using Transfer learning with GRU "
   ]
  },
  {
   "cell_type": "code",
   "execution_count": null,
   "metadata": {},
   "outputs": [],
   "source": [
    "class CNN_TL2(ModelBuilder_Augmentation):\n",
    "    \n",
    "    def init_Model(self, dense_neurons=64, dropout=0.25, GRU_neurons = 64):\n",
    "        \n",
    "        model = Sequential()\n",
    "        model.add(TimeDistributed(mobilenet_transfer,input_shape=(self.frames_to_sample,self.image_height,self.image_width,self.channels)))\n",
    "                \n",
    "        for layer in model.layers:\n",
    "            layer.trainable = False\n",
    "               \n",
    "        ## Adding the final layer         \n",
    "        model.add(TimeDistributed(MaxPooling2D((2, 2))))\n",
    "        model.add(TimeDistributed(BatchNormalization()))\n",
    "        model.add(TimeDistributed(Flatten()))\n",
    "\n",
    "        model.add(GRU(GRU_neurons))\n",
    "        model.add(Dropout(dropout))\n",
    "        \n",
    "        model.add(Dense(dense_neurons,activation='relu'))\n",
    "        model.add(Dropout(dropout))\n",
    "        \n",
    "        model.add(Dense(self.num_of_classes, activation='softmax'))\n",
    "        \n",
    "        \n",
    "        optimiser = optimizers.Adam()\n",
    "        model.compile(optimizer=optimiser, loss='categorical_crossentropy', metrics=['categorical_accuracy'])\n",
    "        return model"
   ]
  },
  {
   "cell_type": "code",
   "execution_count": null,
   "metadata": {},
   "outputs": [],
   "source": [
    "conv_TL_2=CNN_TL2()\n",
    "conv_TL_2.initialize_path(project_folder)\n",
    "conv_TL_2.initialize_properties(image_height=120,image_width=120)\n",
    "conv_TL_2.initialize_hyperparameters(frames_to_sample=16,batch_size=5,num_epochs=20)\n",
    "conv_TL_2_model=conv_TL_2.init_Model(dense_neurons=128,dropout=0.25, gru_neurons=128)\n",
    "conv_TL_2_model.summary()"
   ]
  },
  {
   "cell_type": "code",
   "execution_count": null,
   "metadata": {},
   "outputs": [],
   "source": [
    "TL_history_model2 = conv_TL_2.training_model(conv_TL_2_model,augment_data=True)"
   ]
  },
  {
   "cell_type": "code",
   "execution_count": null,
   "metadata": {},
   "outputs": [],
   "source": [
    "plot_accuracyAndLoss(TL_history_model2)"
   ]
  },
  {
   "cell_type": "markdown",
   "metadata": {},
   "source": [
    "## Loading model and Testing\n"
   ]
  },
  {
   "cell_type": "code",
   "execution_count": null,
   "metadata": {},
   "outputs": [],
   "source": [
    "import time\n",
    "from keras.models import load_model\n",
    "model = load_model('model_init_2020-06-2522_00_52.036987/model-00020-0.19649-0.93514-0.45695-0.85000.h5')"
   ]
  },
  {
   "cell_type": "code",
   "execution_count": null,
   "metadata": {},
   "outputs": [],
   "source": [
    "test_generator=CNN_TL()\n",
    "test_generator.initialize_path(project_folder)\n",
    "test_generator.initialize_properties(image_height=120,image_width=120)\n",
    "test_generator.initialize_hyperparameters(frames_to_sample=18,batch_size=20,num_epochs=20)\n",
    "\n",
    "generator = test_generator.generator(test_generator.val_path,test_generator.val_doc,augment=False)\n",
    "batch_data, batch_labels=next(generator)"
   ]
  }
 ],
 "metadata": {
  "accelerator": "TPU",
  "colab": {
   "gpuType": "T4",
   "provenance": []
  },
  "kernelspec": {
   "display_name": "Python 3 (ipykernel)",
   "language": "python",
   "name": "python3"
  },
  "language_info": {
   "codemirror_mode": {
    "name": "ipython",
    "version": 3
   },
   "file_extension": ".py",
   "mimetype": "text/x-python",
   "name": "python",
   "nbconvert_exporter": "python",
   "pygments_lexer": "ipython3",
   "version": "3.8.10"
  }
 },
 "nbformat": 4,
 "nbformat_minor": 4
}
