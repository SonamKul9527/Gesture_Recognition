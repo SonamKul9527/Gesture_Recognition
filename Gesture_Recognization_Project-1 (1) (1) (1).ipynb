{
 "cells": [
  {
   "cell_type": "markdown",
   "metadata": {
    "id": "9xorYXM5e5f8"
   },
   "source": [
    "# Gesture Recognition\n",
    "In this group project, you are going to build a 3D Conv model that will be able to predict the 5 gestures correctly. Please import the following libraries to get started.\n",
    "\n",
    "## Problem Statement\n",
    "\n",
    "Imagine you are working as a data scientist at a home electronics company which manufactures state of the art smart televisions. You want to develop a cool feature in the smart-TV that can recognise five different gestures performed by the user which will help users control the TV without using a remote.\n",
    "\n",
    "The gestures are continuously monitored by the webcam mounted on the TV. Each gesture corresponds to a specific command:\n",
    "\n",
    "* Thumbs up:  Increase the volume\n",
    "* Thumbs down: Decrease the volume\n",
    "* Left swipe: 'Jump' backwards 10 seconds\n",
    "* Right swipe: 'Jump' forward 10 seconds  \n",
    "* Stop: Pause the movie\n",
    "\n",
    "Each video is a sequence of 30 frames (or images). \n",
    "\n",
    "## Data \n",
    "\n",
    "We can get the data from the following link.\n",
    "https://drive.google.com/uc?id=1ehyrYBQ5rbQQe6yL4XbLWe3FMvuVUGiL\n",
    "\n",
    "## Outcomes or Goal for the project\n",
    "\n",
    "You need to accomplish the following in the project:\n",
    "\n",
    "1. **Generator :** The generator should be able to take a batch of videos as input without any error. Steps like cropping, resizing and normalization should be performed successfully.\n",
    "\n",
    "2. **Model :** Develop a model that is able to train without any errors which will be judged on the total number of parameters (as the inference(prediction) time should be less) and the accuracy achieved. As suggested by Snehansu, start training on a small amount of data and then proceed further.\n",
    "\n",
    "3. **Write up :** This should contain the detailed procedure followed in choosing the final model. The write up should start with the reason for choosing the base model, then highlight the reasons and metrics taken into consideration to modify and experiment to arrive at the final model.\n",
    "\n",
    "#### There are certain things you should keep in mind before proceeding further:\n",
    "\n",
    "* Use the correct container: 'Tensorflow 1.5.0 GPU Py3' when you are using a GPU machine, else it'll throw an error similar to 'the kernel died'.\n",
    "* Use a C2/CPU machine to get the data on your persistent storage.\n",
    "* Whenever you modify your model, run the notebook from the beginning. This is to reset the initialisations and the generator.\n",
    "* To check the GPU usage, execute 'nvidia-smi' on the terminal."
   ]
  },
  {
   "cell_type": "code",
   "execution_count": 1,
   "metadata": {
    "id": "ZN7F8N1Ge5gz"
   },
   "outputs": [],
   "source": [
    "## Importing the required libraries\n",
    "\n",
    "import numpy as np\n",
    "import os\n",
    "import pathlib\n",
    "from imageio import imread\n",
    "from skimage.transform import resize as imresize\n",
    "import datetime\n",
    "import time"
   ]
  },
  {
   "cell_type": "code",
   "execution_count": 2,
   "metadata": {
    "id": "ZiGVs7hKMk35"
   },
   "outputs": [],
   "source": [
    "np.random.seed(30)\n",
    "import random as rn\n",
    "rn.seed(30)\n",
    "from keras import backend as K\n",
    "import tensorflow as tf\n",
    "tf.random.set_seed(30)"
   ]
  },
  {
   "cell_type": "code",
   "execution_count": 3,
   "metadata": {
    "id": "ULZggX_FLlfz"
   },
   "outputs": [],
   "source": [
    "## Importing some other libraries\n",
    "\n",
    "from PIL import Image, ImageFilter, ImageEnhance\n",
    "import warnings\n",
    "import cv2\n",
    "warnings.filterwarnings(\"ignore\")\n",
    "import matplotlib.pyplot as plt\n",
    "%matplotlib inline"
   ]
  },
  {
   "cell_type": "markdown",
   "metadata": {
    "id": "sEHhDqZSe5hN"
   },
   "source": [
    "We set the random seed so that the results don't vary drastically."
   ]
  },
  {
   "cell_type": "code",
   "execution_count": 4,
   "metadata": {
    "id": "Ax_Qn0w4L5OI"
   },
   "outputs": [],
   "source": [
    "## Importing Model building and related libraries\n",
    "\n",
    "from keras.models import Sequential, Model\n",
    "from keras.layers import Dense, Flatten, BatchNormalization, Activation, Dropout, GRU, TimeDistributed\n",
    "from keras.layers.convolutional import Conv3D, MaxPooling3D, Conv2D, MaxPooling2D\n",
    "from keras.callbacks import ModelCheckpoint, ReduceLROnPlateau, EarlyStopping\n",
    "from keras import optimizers\n",
    "import abc"
   ]
  },
  {
   "cell_type": "markdown",
   "metadata": {
    "id": "7bB8KD1ae5hj"
   },
   "source": [
    "In this block, you read the folder names for training and validation. You also set the `batch_size` here. Note that you set the batch size in such a way that you are able to use the GPU in full capacity. You keep increasing the batch size until the machine throws an error."
   ]
  },
  {
   "cell_type": "code",
   "execution_count": 5,
   "metadata": {},
   "outputs": [],
   "source": [
    "train_doc = np.random.permutation(open('/home/datasets/Project_data/train.csv').readlines())\n",
    "val_doc = np.random.permutation(open('/home/datasets/Project_data/val.csv').readlines())"
   ]
  },
  {
   "cell_type": "code",
   "execution_count": 6,
   "metadata": {
    "id": "UXss7__ve5hm"
   },
   "outputs": [],
   "source": [
    "batch_size = 50"
   ]
  },
  {
   "cell_type": "markdown",
   "metadata": {
    "id": "YAjcB7QQe5ht"
   },
   "source": [
    "## Generator\n",
    "This is one of the most important part of the code. The overall structure of the generator has been given. In the generator, you are going to preprocess the images as you have images of 2 different dimensions as well as create a batch of video frames. You have to experiment with `img_idx`, `y`,`z` and normalization such that you get high accuracy."
   ]
  },
  {
   "cell_type": "code",
   "execution_count": 7,
   "metadata": {
    "id": "dZq1hQaDwytS"
   },
   "outputs": [],
   "source": [
    "## Let us define a class for the generator and some other required functions\n",
    "\n",
    "class ModelBuilder(metaclass = abc.ABCMeta) :\n",
    "\n",
    "  ## Defining the Training and Validation Project data paths\n",
    "  def initialize_path(self, project_folder) :\n",
    "    self.train_csv = np.random.permutation(open('/home/datasets/Project_data/train.csv').readlines())\n",
    "    self.val_csv = np.random.permutation(open('/home/datasets/Project_data/val.csv').readlines())\n",
    "    self.train_data = project_folder + '/' + 'train'\n",
    "    self.val_data = project_folder + '/' + 'val'\n",
    "    self.num_train_sequences = len(self.train_csv)\n",
    "    self.num_val_sequences = len(self.val_csv)\n",
    "\n",
    "  ## Method to initializing Image properties\n",
    "  def initialize_properties(self, img_height=100, img_width=100) :\n",
    "    self.img_height = img_height\n",
    "    self.img_width = img_width\n",
    "    self.num_of_classes = 5\n",
    "    self.total_frames = 30\n",
    "    self.channels = 3\n",
    "\n",
    "  ## Method to initialize the Hyperparameters\n",
    "  def initialize_hyperparameters(self, batch_size = 30, epochs = 30, frames_to_sample = 30) :\n",
    "    self.frames_to_sample = frames_to_sample\n",
    "    self.batch_size = batch_size\n",
    "    self.epochs = epochs\n",
    "\n",
    "  ## Method for training a model and returning history after fit.generator. \n",
    "  def training_model(self, model, augment_data = False) :\n",
    "    \n",
    "    ## Let us create the train_generator and the val_generator which will be used in .fit_generator.\n",
    "    train_generator = self.generator(self.train_data, self.train_csv, batch_size, augmentation = augment_data)\n",
    "    val_generator = self.generator(self.val_data, self.val_csv, batch_size)\n",
    "\n",
    "    ## Below code helps in saving our models\n",
    "    model_name = 'model_init' + '_' + str(curr_dt_time).replace(' ','').replace(':','_') + '/'\n",
    "    \n",
    "    if not os.path.exists(model_name):\n",
    "        os.mkdir(model_name)\n",
    "            \n",
    "    filepath = model_name + 'model-{epoch:05d}-{loss:.5f}-{categorical_accuracy:.5f}-{val_loss:.5f}-{val_categorical_accuracy:.5f}.h5'\n",
    "\n",
    "    checkpoint = ModelCheckpoint(filepath, monitor='val_loss', verbose=1, save_best_only=False, save_weights_only=False, mode='auto', period=1)\n",
    "\n",
    "    # Write the REducelronplateau code here\n",
    "    LR = ReduceLROnPlateau(monitor='val_loss', factor=0.2, verbose=1, patience=4)\n",
    "\n",
    "    earlystop = EarlyStopping( monitor=\"val_loss\", min_delta=0,patience=10,verbose=1)\n",
    "    callbacks_list = [checkpoint, LR, earlystop]\n",
    "\n",
    "    ## The steps_per_epoch and validation_steps are used by fit_generator to decide the number of next() calls it need to make\n",
    "    if (self.num_train_sequences % self.batch_size) == 0:\n",
    "       steps_per_epoch = int(self.num_train_sequences / self.batch_size)\n",
    "    else:\n",
    "        steps_per_epoch = (self.num_train_sequences // self.batch_size) + 1\n",
    "\n",
    "    if (self.num_val_sequences % self.batch_size) == 0:\n",
    "        validation_steps = int(self.num_val_sequences / self.batch_size)\n",
    "    else:\n",
    "        validation_steps = (self.num_val_sequences // self.batch_size) + 1\n",
    "\n",
    "    ## Let us now fit the model. This will start training the model and with the help of the checkpoints, you'll be able to save the model\n",
    "    ## at the end of each epoch.\n",
    "    history = model.fit_generator(train_generator, steps_per_epoch=steps_per_epoch, epochs=self.epochs, verbose=1, \n",
    "                    callbacks=callbacks_list, validation_data=val_generator, \n",
    "                    validation_steps=validation_steps, class_weight=None, workers=1, initial_epoch=0)\n",
    "    \n",
    "    return history\n",
    "\n",
    "  def generator(self,source_path, folder_list, batch_size=15, augmentation=False):\n",
    "        img_idx = np.round(np.linspace(0,self.total_frames-1,self.frames_to_sample)).astype(int)\n",
    "        batch_size=self.batch_size\n",
    "        while True:\n",
    "            t = np.random.permutation(folder_list)\n",
    "            num_batches = len(t) // batch_size\n",
    "        \n",
    "            for batch in range(num_batches): \n",
    "                batch_data, batch_labels= self.one_batch_data(source_path,t,batch,batch_size,img_idx,augmentation)\n",
    "                yield batch_data, batch_labels \n",
    "\n",
    "            remaining_seq=len(t) % batch_size\n",
    "        \n",
    "            if (remaining_seq != 0):\n",
    "                batch_data, batch_labels= self.one_batch_data(source_path,t,num_batches,batch_size,img_idx,augmentation,remaining_seq)\n",
    "                yield batch_data, batch_labels \n",
    "    \n",
    "    \n",
    "  def one_batch_data(self,source_path,t,batch,batch_size,img_idx,augmentation,remaining_seq=0):\n",
    "  \n",
    "      seq_len = remaining_seq if remaining_seq else batch_size\n",
    "  \n",
    "      batch_data = np.zeros((seq_len,len(img_idx),self.img_height,self.img_width,self.channels)) \n",
    "      batch_labels = np.zeros((seq_len,self.num_of_classes)) \n",
    "  \n",
    "      if (augmentation): \n",
    "        batch_data_aug = np.zeros((seq_len,len(img_idx),self.img_height,self.img_width,self.channels))\n",
    "\n",
    "      \n",
    "      for folder in range(seq_len): \n",
    "          imgs = os.listdir(source_path+'/'+ t[folder + (batch*batch_size)].split(';')[0]) \n",
    "          for idx,item in enumerate(img_idx):\n",
    "              #performing image reading and resizing\n",
    "              image = imread(source_path+'/'+ t[folder + (batch*batch_size)].strip().split(';')[0]+'/'+imgs[item]).astype(np.float32)\n",
    "              image_resized=imresize(image,(self.img_height,self.img_width,3))\n",
    "          \n",
    "              #normalizing the images\n",
    "              batch_data[folder,idx,:,:,0] = (image_resized[:,:,0])/255\n",
    "              batch_data[folder,idx,:,:,1] = (image_resized[:,:,1])/255\n",
    "              batch_data[folder,idx,:,:,2] = (image_resized[:,:,2])/255\n",
    "          \n",
    "              if (augmentation):\n",
    "                  shifted = cv2.warpAffine(image, \n",
    "                                            np.float32([[1, 0, np.random.randint(-30,30)],[0, 1, np.random.randint(-30,30)]]), \n",
    "                                          (image.shape[1], image.shape[0]))\n",
    "                  \n",
    "                  gray = cv2.cvtColor(shifted,cv2.COLOR_BGR2GRAY)\n",
    "\n",
    "                  x0, y0 = np.argwhere(gray > 0).min(axis=0)\n",
    "                  x1, y1 = np.argwhere(gray > 0).max(axis=0) \n",
    "                  # cropping the images to have the targeted gestures and remove the noise from the images.\n",
    "                  cropped=shifted[x0:x1,y0:y1,:]\n",
    "                  \n",
    "                  image_resized=imresize(cropped,(self.img_height,self.img_width,3))\n",
    "                  \n",
    "                  #shifted = cv2.warpAffine(image_resized, \n",
    "                  #                        np.float32([[1, 0, np.random.randint(-3,3)],[0, 1, np.random.randint(-3,3)]]), \n",
    "                  #                        (image_resized.shape[1], image_resized.shape[0]))\n",
    "          \n",
    "                  batch_data_aug[folder,idx,:,:,0] = (image_resized[:,:,0])/255\n",
    "                  batch_data_aug[folder,idx,:,:,1] = (image_resized[:,:,1])/255\n",
    "                  batch_data_aug[folder,idx,:,:,2] = (image_resized[:,:,2])/255\n",
    "              \n",
    "          \n",
    "          batch_labels[folder, int(t[folder + (batch*batch_size)].strip().split(';')[2])] = 1\n",
    "          \n",
    "  \n",
    "      if (augmentation):\n",
    "          batch_data=np.concatenate([batch_data,batch_data_aug])\n",
    "          batch_labels=np.concatenate([batch_labels,batch_labels])\n",
    "\n",
    "      \n",
    "      return(batch_data,batch_labels)\n",
    "  \n",
    "  @abc.abstractmethod\n",
    "  def init_Model(self) :\n",
    "    pass"
   ]
  },
  {
   "cell_type": "markdown",
   "metadata": {
    "id": "P9IIbR8te5iA"
   },
   "source": [
    "Note here that a video is represented above in the generator as (number of images, height, width, number of channels). Take this into consideration while creating the model architecture."
   ]
  },
  {
   "cell_type": "code",
   "execution_count": 8,
   "metadata": {
    "colab": {
     "base_uri": "https://localhost:8080/"
    },
    "id": "MeFDrs6me5iE",
    "outputId": "98c481bc-4402-4b04-cbd1-78be3f3a69a8"
   },
   "outputs": [
    {
     "name": "stdout",
     "output_type": "stream",
     "text": [
      "# training sequences = 663\n",
      "# validation sequences = 100\n",
      "# epochs = 3\n"
     ]
    }
   ],
   "source": [
    "#train_path = '/notebooks/storage/Final_data/Collated_training/train'\n",
    "#val_path = '/notebooks/storage/Final_data/Collated_training/val'\n",
    "\n",
    "curr_dt_time = datetime.datetime.now()\n",
    "num_train_sequences = len(train_doc)\n",
    "print('# training sequences =', num_train_sequences)\n",
    "num_val_sequences = len(val_doc)\n",
    "print('# validation sequences =', num_val_sequences)\n",
    "num_epochs = 3 # choose the number of epochs\n",
    "print ('# epochs =', num_epochs)"
   ]
  },
  {
   "cell_type": "markdown",
   "metadata": {
    "id": "zx0Sn-t_e5iJ"
   },
   "source": [
    "## Model\n",
    "Here you make the model using different functionalities that Keras provides. Remember to use `Conv3D` and `MaxPooling3D` and not `Conv2D` and `Maxpooling2D` for a 3D convolution model. You would want to use `TimeDistributed` while building a Conv2D + RNN model. Also remember that the last layer is the softmax. Design the network in such a way that the model is able to give good accuracy on the least number of parameters so that it can fit in the memory of the webcam."
   ]
  },
  {
   "cell_type": "markdown",
   "metadata": {
    "id": "zlCCEtSp4nTG"
   },
   "source": [
    "#### Let us first begin with some parameter tuning experiments by creating a sample Model and executing with different parameters"
   ]
  },
  {
   "cell_type": "code",
   "execution_count": 27,
   "metadata": {
    "id": "Ke7qKTsD48F7"
   },
   "outputs": [],
   "source": [
    "class Conv3D_Model(ModelBuilder) :\n",
    "  def init_Model(self, kernelSize=(3,3,3)) :\n",
    "\n",
    "    model = Sequential()\n",
    "    #First Convulation layer\n",
    "    model.add(Conv3D(32, kernelSize, input_shape=(self.frames_to_sample, self.img_height, self.img_width, self.channels), padding='same',\n",
    "                     activation='relu'))\n",
    "    model.add(MaxPooling3D(pool_size=(2,2,2)))\n",
    "    model.add(BatchNormalization())\n",
    "\n",
    "    #Second Convulation Layer\n",
    "    model.add(Conv3D(32, kernelSize,  activation='relu', padding='same'))\n",
    "    model.add(BatchNormalization())\n",
    "    model.add(MaxPooling3D(pool_size=(2, 2, 2)))\n",
    "\n",
    "    #Third Convulation Layer\n",
    "    model.add(Conv3D(64, kernelSize,  activation='relu', padding='same'))\n",
    "    model.add(BatchNormalization())\n",
    "    model.add(MaxPooling3D(pool_size=(2, 2, 2)))\n",
    "\n",
    "    #Fourth Convulation Layer\n",
    "    model.add(Conv3D(128, kernelSize,  activation='relu', padding='same'))\n",
    "    model.add(BatchNormalization())\n",
    "    model.add(MaxPooling3D(pool_size=(2, 2, 2)))\n",
    "\n",
    "    #Dropout layer with 30% Fraction of the input units to drop.\n",
    "    model.add(Dropout(0.3))\n",
    "\n",
    "    #Flatten Layer\n",
    "    model.add(Flatten())\n",
    "    model.add(Dense(128, activation='relu'))\n",
    "    model.add(BatchNormalization())\n",
    "    model.add(Dropout(0.5))\n",
    "\n",
    "    model.add(Dense(64,activation='relu'))\n",
    "    model.add(BatchNormalization())\n",
    "    model.add(Dropout(0.3))\n",
    "\n",
    "    #Dense Layer with softmax activation function.\n",
    "    #Softmax is an activation function that scales numbers/logits into probabilities.\n",
    "    model.add(Dense(self.num_of_classes, activation='softmax'))\n",
    "\n",
    "    model.compile(optimizer = 'adam', loss = 'categorical_crossentropy', metrics=[\"categorical_accuracy\"])\n",
    "\n",
    "    return model"
   ]
  },
  {
   "cell_type": "code",
   "execution_count": 11,
   "metadata": {},
   "outputs": [],
   "source": [
    "project_folder = '/home/datasets/Project_data'"
   ]
  },
  {
   "cell_type": "code",
   "execution_count": 12,
   "metadata": {
    "colab": {
     "base_uri": "https://localhost:8080/"
    },
    "id": "FCWaU9TN49Io",
    "outputId": "7f690399-b027-465a-f3f6-fc458e8a6c40"
   },
   "outputs": [
    {
     "name": "stderr",
     "output_type": "stream",
     "text": [
      "2023-05-28 07:11:01.622948: W tensorflow/stream_executor/platform/default/dso_loader.cc:65] Could not load dynamic library 'libcuda.so.1'; dlerror: libcuda.so.1: cannot open shared object file: No such file or directory; LD_LIBRARY_PATH: /usr/local/lib/python3.8/dist-packages/cv2/../../lib64:/usr/local/cuda/extras/CUPTI/lib64:/usr/local/cuda/compat/lib:/usr/local/nvidia/lib:/usr/local/nvidia/lib64\n",
      "2023-05-28 07:11:01.623013: W tensorflow/stream_executor/cuda/cuda_driver.cc:269] failed call to cuInit: UNKNOWN ERROR (303)\n",
      "2023-05-28 07:11:01.623059: I tensorflow/stream_executor/cuda/cuda_diagnostics.cc:163] no NVIDIA GPU device is present: /dev/nvidia0 does not exist\n"
     ]
    },
    {
     "name": "stdout",
     "output_type": "stream",
     "text": [
      "Model: \"sequential\"\n",
      "_________________________________________________________________\n",
      " Layer (type)                Output Shape              Param #   \n",
      "=================================================================\n",
      " conv3d (Conv3D)             (None, 30, 160, 160, 32)  2624      \n",
      "                                                                 \n",
      " max_pooling3d (MaxPooling3D  (None, 15, 80, 80, 32)   0         \n",
      " )                                                               \n",
      "                                                                 \n",
      " batch_normalization (BatchN  (None, 15, 80, 80, 32)   128       \n",
      " ormalization)                                                   \n",
      "                                                                 \n",
      " conv3d_1 (Conv3D)           (None, 15, 80, 80, 32)    27680     \n",
      "                                                                 \n",
      " batch_normalization_1 (Batc  (None, 15, 80, 80, 32)   128       \n",
      " hNormalization)                                                 \n",
      "                                                                 \n",
      " max_pooling3d_1 (MaxPooling  (None, 7, 40, 40, 32)    0         \n",
      " 3D)                                                             \n",
      "                                                                 \n",
      " conv3d_2 (Conv3D)           (None, 7, 40, 40, 64)     55360     \n",
      "                                                                 \n",
      " batch_normalization_2 (Batc  (None, 7, 40, 40, 64)    256       \n",
      " hNormalization)                                                 \n",
      "                                                                 \n",
      " max_pooling3d_2 (MaxPooling  (None, 3, 20, 20, 64)    0         \n",
      " 3D)                                                             \n",
      "                                                                 \n",
      " conv3d_3 (Conv3D)           (None, 3, 20, 20, 128)    221312    \n",
      "                                                                 \n",
      " batch_normalization_3 (Batc  (None, 3, 20, 20, 128)   512       \n",
      " hNormalization)                                                 \n",
      "                                                                 \n",
      " max_pooling3d_3 (MaxPooling  (None, 1, 10, 10, 128)   0         \n",
      " 3D)                                                             \n",
      "                                                                 \n",
      " dropout (Dropout)           (None, 1, 10, 10, 128)    0         \n",
      "                                                                 \n",
      " flatten (Flatten)           (None, 12800)             0         \n",
      "                                                                 \n",
      " dense (Dense)               (None, 128)               1638528   \n",
      "                                                                 \n",
      " batch_normalization_4 (Batc  (None, 128)              512       \n",
      " hNormalization)                                                 \n",
      "                                                                 \n",
      " dropout_1 (Dropout)         (None, 128)               0         \n",
      "                                                                 \n",
      " dense_1 (Dense)             (None, 64)                8256      \n",
      "                                                                 \n",
      " batch_normalization_5 (Batc  (None, 64)               256       \n",
      " hNormalization)                                                 \n",
      "                                                                 \n",
      " dropout_2 (Dropout)         (None, 64)                0         \n",
      "                                                                 \n",
      " dense_2 (Dense)             (None, 5)                 325       \n",
      "                                                                 \n",
      "=================================================================\n",
      "Total params: 1,955,877\n",
      "Trainable params: 1,954,981\n",
      "Non-trainable params: 896\n",
      "_________________________________________________________________\n"
     ]
    }
   ],
   "source": [
    "## Creating an object for the Model Builder class\n",
    "conv_obj = Conv3D_Model()\n",
    "conv_obj.initialize_path(project_folder)\n",
    "conv_obj.initialize_properties(img_height=160, img_width=160)\n",
    "conv_obj.initialize_hyperparameters(frames_to_sample=30, batch_size=15, epochs=3)\n",
    "conv_obj_model = conv_obj.init_Model()\n",
    "conv_obj_model.summary()"
   ]
  },
  {
   "cell_type": "code",
   "execution_count": 13,
   "metadata": {
    "id": "MP6H3hti49Ls"
   },
   "outputs": [],
   "source": [
    "## Let us test the generator function as well\n",
    "\n",
    "test_generator_obj = Conv3D_Model()\n",
    "test_generator_obj.initialize_path(project_folder)\n",
    "test_generator_obj.initialize_properties(img_height=160, img_width=160)\n",
    "test_generator_obj.initialize_hyperparameters(frames_to_sample=30, batch_size=15, epochs=3)\n",
    "\n",
    "generator = test_generator_obj.generator(test_generator_obj.val_data, test_generator_obj.val_csv, augmentation=True, batch_size=15)\n",
    "batch_data, batch_labels = next(generator)"
   ]
  },
  {
   "cell_type": "code",
   "execution_count": 14,
   "metadata": {
    "colab": {
     "base_uri": "https://localhost:8080/",
     "height": 307
    },
    "id": "CovSUvikYVZW",
    "outputId": "5467dd85-9696-400c-f773-e580206c9a3d"
   },
   "outputs": [
    {
     "data": {
      "text/plain": [
       "<matplotlib.image.AxesImage at 0x7f44510701c0>"
      ]
     },
     "execution_count": 14,
     "metadata": {},
     "output_type": "execute_result"
    },
    {
     "data": {
      "image/png": "[encoded data removed]",
      "text/plain": [
       "<Figure size 432x288 with 2 Axes>"
      ]
     },
     "metadata": {
      "needs_background": "light"
     },
     "output_type": "display_data"
    }
   ],
   "source": [
    "fig, axes = plt.subplots(nrows=1, ncols=2)\n",
    "axes[0].imshow(batch_data[0,10,:,:,:])   \n",
    "axes[1].imshow(batch_data[6,17,:,:,:])"
   ]
  },
  {
   "cell_type": "markdown",
   "metadata": {
    "id": "wpYnn6ugdKMd"
   },
   "source": [
    "#### Let us experiment to get various parameters and check that certain optimized parameter values"
   ]
  },
  {
   "cell_type": "code",
   "execution_count": 13,
   "metadata": {
    "colab": {
     "base_uri": "https://localhost:8080/",
     "height": 1000
    },
    "id": "AmMrhoyi49R_",
    "outputId": "48b65339-3cf8-409e-f4c0-11f9b28f65f9"
   },
   "outputs": [
    {
     "name": "stderr",
     "output_type": "stream",
     "text": [
      "WARNING:tensorflow:`period` argument is deprecated. Please use `save_freq` to specify the frequency in number of batches seen.\n"
     ]
    },
    {
     "name": "stdout",
     "output_type": "stream",
     "text": [
      "Epoch 1/3\n"
     ]
    },
    {
     "ename": "ResourceExhaustedError",
     "evalue": "ignored",
     "output_type": "error",
     "traceback": [
      "\u001b[0;31m---------------------------------------------------------------------------\u001b[0m",
      "\u001b[0;31mResourceExhaustedError\u001b[0m                    Traceback (most recent call last)",
      "\u001b[0;32m<ipython-input-13-8ef5b303efc9>\u001b[0m in \u001b[0;36m<cell line: 9>\u001b[0;34m()\u001b[0m\n\u001b[1;32m      7\u001b[0m \u001b[0mconv_obj\u001b[0m\u001b[0;34m.\u001b[0m\u001b[0minitialize_hyperparameters\u001b[0m\u001b[0;34m(\u001b[0m\u001b[0mframes_to_sample\u001b[0m\u001b[0;34m=\u001b[0m\u001b[0;36m30\u001b[0m\u001b[0;34m,\u001b[0m \u001b[0mbatch_size\u001b[0m \u001b[0;34m=\u001b[0m \u001b[0;36m40\u001b[0m\u001b[0;34m,\u001b[0m \u001b[0mepochs\u001b[0m\u001b[0;34m=\u001b[0m \u001b[0;36m2\u001b[0m\u001b[0;34m)\u001b[0m\u001b[0;34m\u001b[0m\u001b[0;34m\u001b[0m\u001b[0m\n\u001b[1;32m      8\u001b[0m \u001b[0mconv_obj_model\u001b[0m \u001b[0;34m=\u001b[0m \u001b[0mconv_obj\u001b[0m\u001b[0;34m.\u001b[0m\u001b[0minit_Model\u001b[0m\u001b[0;34m(\u001b[0m\u001b[0;34m)\u001b[0m\u001b[0;34m\u001b[0m\u001b[0;34m\u001b[0m\u001b[0m\n\u001b[0;32m----> 9\u001b[0;31m \u001b[0mconv_obj\u001b[0m\u001b[0;34m.\u001b[0m\u001b[0mtraining_model\u001b[0m\u001b[0;34m(\u001b[0m\u001b[0mconv_obj_model\u001b[0m\u001b[0;34m)\u001b[0m\u001b[0;34m\u001b[0m\u001b[0;34m\u001b[0m\u001b[0m\n\u001b[0m",
      "\u001b[0;32m<ipython-input-7-a85f224ce079>\u001b[0m in \u001b[0;36mtraining_model\u001b[0;34m(self, model, augment_data)\u001b[0m\n\u001b[1;32m     62\u001b[0m     \u001b[0;31m## Let us now fit the model. This will start training the model and with the help of the checkpoints, you'll be able to save the model\u001b[0m\u001b[0;34m\u001b[0m\u001b[0;34m\u001b[0m\u001b[0m\n\u001b[1;32m     63\u001b[0m     \u001b[0;31m## at the end of each epoch.\u001b[0m\u001b[0;34m\u001b[0m\u001b[0;34m\u001b[0m\u001b[0m\n\u001b[0;32m---> 64\u001b[0;31m     history = model.fit_generator(train_generator, steps_per_epoch=steps_per_epoch, epochs=num_epochs, verbose=1, \n\u001b[0m\u001b[1;32m     65\u001b[0m                     \u001b[0mcallbacks\u001b[0m\u001b[0;34m=\u001b[0m\u001b[0mcallbacks_list\u001b[0m\u001b[0;34m,\u001b[0m \u001b[0mvalidation_data\u001b[0m\u001b[0;34m=\u001b[0m\u001b[0mval_generator\u001b[0m\u001b[0;34m,\u001b[0m\u001b[0;34m\u001b[0m\u001b[0;34m\u001b[0m\u001b[0m\n\u001b[1;32m     66\u001b[0m                     validation_steps=validation_steps, class_weight=None, workers=1, initial_epoch=0)\n",
      "\u001b[0;32m/usr/local/lib/python3.10/dist-packages/keras/engine/training.py\u001b[0m in \u001b[0;36mfit_generator\u001b[0;34m(self, generator, steps_per_epoch, epochs, verbose, callbacks, validation_data, validation_steps, validation_freq, class_weight, max_queue_size, workers, use_multiprocessing, shuffle, initial_epoch)\u001b[0m\n\u001b[1;32m   2634\u001b[0m             \u001b[0mstacklevel\u001b[0m\u001b[0;34m=\u001b[0m\u001b[0;36m2\u001b[0m\u001b[0;34m,\u001b[0m\u001b[0;34m\u001b[0m\u001b[0;34m\u001b[0m\u001b[0m\n\u001b[1;32m   2635\u001b[0m         )\n\u001b[0;32m-> 2636\u001b[0;31m         return self.fit(\n\u001b[0m\u001b[1;32m   2637\u001b[0m             \u001b[0mgenerator\u001b[0m\u001b[0;34m,\u001b[0m\u001b[0;34m\u001b[0m\u001b[0;34m\u001b[0m\u001b[0m\n\u001b[1;32m   2638\u001b[0m             \u001b[0msteps_per_epoch\u001b[0m\u001b[0;34m=\u001b[0m\u001b[0msteps_per_epoch\u001b[0m\u001b[0;34m,\u001b[0m\u001b[0;34m\u001b[0m\u001b[0;34m\u001b[0m\u001b[0m\n",
      "\u001b[0;32m/usr/local/lib/python3.10/dist-packages/keras/utils/traceback_utils.py\u001b[0m in \u001b[0;36merror_handler\u001b[0;34m(*args, **kwargs)\u001b[0m\n\u001b[1;32m     68\u001b[0m             \u001b[0;31m# To get the full stack trace, call:\u001b[0m\u001b[0;34m\u001b[0m\u001b[0;34m\u001b[0m\u001b[0m\n\u001b[1;32m     69\u001b[0m             \u001b[0;31m# `tf.debugging.disable_traceback_filtering()`\u001b[0m\u001b[0;34m\u001b[0m\u001b[0;34m\u001b[0m\u001b[0m\n\u001b[0;32m---> 70\u001b[0;31m             \u001b[0;32mraise\u001b[0m \u001b[0me\u001b[0m\u001b[0;34m.\u001b[0m\u001b[0mwith_traceback\u001b[0m\u001b[0;34m(\u001b[0m\u001b[0mfiltered_tb\u001b[0m\u001b[0;34m)\u001b[0m \u001b[0;32mfrom\u001b[0m \u001b[0;32mNone\u001b[0m\u001b[0;34m\u001b[0m\u001b[0;34m\u001b[0m\u001b[0m\n\u001b[0m\u001b[1;32m     71\u001b[0m         \u001b[0;32mfinally\u001b[0m\u001b[0;34m:\u001b[0m\u001b[0;34m\u001b[0m\u001b[0;34m\u001b[0m\u001b[0m\n\u001b[1;32m     72\u001b[0m             \u001b[0;32mdel\u001b[0m \u001b[0mfiltered_tb\u001b[0m\u001b[0;34m\u001b[0m\u001b[0;34m\u001b[0m\u001b[0m\n",
      "\u001b[0;32m/usr/local/lib/python3.10/dist-packages/tensorflow/python/eager/execute.py\u001b[0m in \u001b[0;36mquick_execute\u001b[0;34m(op_name, num_outputs, inputs, attrs, ctx, name)\u001b[0m\n\u001b[1;32m     50\u001b[0m   \u001b[0;32mtry\u001b[0m\u001b[0;34m:\u001b[0m\u001b[0;34m\u001b[0m\u001b[0;34m\u001b[0m\u001b[0m\n\u001b[1;32m     51\u001b[0m     \u001b[0mctx\u001b[0m\u001b[0;34m.\u001b[0m\u001b[0mensure_initialized\u001b[0m\u001b[0;34m(\u001b[0m\u001b[0;34m)\u001b[0m\u001b[0;34m\u001b[0m\u001b[0;34m\u001b[0m\u001b[0m\n\u001b[0;32m---> 52\u001b[0;31m     tensors = pywrap_tfe.TFE_Py_Execute(ctx._handle, device_name, op_name,\n\u001b[0m\u001b[1;32m     53\u001b[0m                                         inputs, attrs, num_outputs)\n\u001b[1;32m     54\u001b[0m   \u001b[0;32mexcept\u001b[0m \u001b[0mcore\u001b[0m\u001b[0;34m.\u001b[0m\u001b[0m_NotOkStatusException\u001b[0m \u001b[0;32mas\u001b[0m \u001b[0me\u001b[0m\u001b[0;34m:\u001b[0m\u001b[0;34m\u001b[0m\u001b[0;34m\u001b[0m\u001b[0m\n",
      "\u001b[0;31mResourceExhaustedError\u001b[0m: Graph execution error:\n\nDetected at node 'gradient_tape/sequential_1/max_pooling3d_4/MaxPool3D/MaxPool3DGrad' defined at (most recent call last):\n    File \"/usr/lib/python3.10/runpy.py\", line 196, in _run_module_as_main\n      return _run_code(code, main_globals, None,\n    File \"/usr/lib/python3.10/runpy.py\", line 86, in _run_code\n      exec(code, run_globals)\n    File \"/usr/local/lib/python3.10/dist-packages/ipykernel_launcher.py\", line 16, in <module>\n      app.launch_new_instance()\n    File \"/usr/local/lib/python3.10/dist-packages/traitlets/config/application.py\", line 992, in launch_instance\n      app.start()\n    File \"/usr/local/lib/python3.10/dist-packages/ipykernel/kernelapp.py\", line 619, in start\n      self.io_loop.start()\n    File \"/usr/local/lib/python3.10/dist-packages/tornado/platform/asyncio.py\", line 195, in start\n      self.asyncio_loop.run_forever()\n    File \"/usr/lib/python3.10/asyncio/base_events.py\", line 603, in run_forever\n      self._run_once()\n    File \"/usr/lib/python3.10/asyncio/base_events.py\", line 1909, in _run_once\n      handle._run()\n    File \"/usr/lib/python3.10/asyncio/events.py\", line 80, in _run\n      self._context.run(self._callback, *self._args)\n    File \"/usr/local/lib/python3.10/dist-packages/tornado/ioloop.py\", line 685, in <lambda>\n      lambda f: self._run_callback(functools.partial(callback, future))\n    File \"/usr/local/lib/python3.10/dist-packages/tornado/ioloop.py\", line 738, in _run_callback\n      ret = callback()\n    File \"/usr/local/lib/python3.10/dist-packages/tornado/gen.py\", line 825, in inner\n      self.ctx_run(self.run)\n    File \"/usr/local/lib/python3.10/dist-packages/tornado/gen.py\", line 786, in run\n      yielded = self.gen.send(value)\n    File \"/usr/local/lib/python3.10/dist-packages/ipykernel/kernelbase.py\", line 361, in process_one\n      yield gen.maybe_future(dispatch(*args))\n    File \"/usr/local/lib/python3.10/dist-packages/tornado/gen.py\", line 234, in wrapper\n      yielded = ctx_run(next, result)\n    File \"/usr/local/lib/python3.10/dist-packages/ipykernel/kernelbase.py\", line 261, in dispatch_shell\n      yield gen.maybe_future(handler(stream, idents, msg))\n    File \"/usr/local/lib/python3.10/dist-packages/tornado/gen.py\", line 234, in wrapper\n      yielded = ctx_run(next, result)\n    File \"/usr/local/lib/python3.10/dist-packages/ipykernel/kernelbase.py\", line 539, in execute_request\n      self.do_execute(\n    File \"/usr/local/lib/python3.10/dist-packages/tornado/gen.py\", line 234, in wrapper\n      yielded = ctx_run(next, result)\n    File \"/usr/local/lib/python3.10/dist-packages/ipykernel/ipkernel.py\", line 302, in do_execute\n      res = shell.run_cell(code, store_history=store_history, silent=silent)\n    File \"/usr/local/lib/python3.10/dist-packages/ipykernel/zmqshell.py\", line 539, in run_cell\n      return super(ZMQInteractiveShell, self).run_cell(*args, **kwargs)\n    File \"/usr/local/lib/python3.10/dist-packages/IPython/core/interactiveshell.py\", line 2975, in run_cell\n      result = self._run_cell(\n    File \"/usr/local/lib/python3.10/dist-packages/IPython/core/interactiveshell.py\", line 3030, in _run_cell\n      return runner(coro)\n    File \"/usr/local/lib/python3.10/dist-packages/IPython/core/async_helpers.py\", line 78, in _pseudo_sync_runner\n      coro.send(None)\n    File \"/usr/local/lib/python3.10/dist-packages/IPython/core/interactiveshell.py\", line 3257, in run_cell_async\n      has_raised = await self.run_ast_nodes(code_ast.body, cell_name,\n    File \"/usr/local/lib/python3.10/dist-packages/IPython/core/interactiveshell.py\", line 3473, in run_ast_nodes\n      if (await self.run_code(code, result,  async_=asy)):\n    File \"/usr/local/lib/python3.10/dist-packages/IPython/core/interactiveshell.py\", line 3553, in run_code\n      exec(code_obj, self.user_global_ns, self.user_ns)\n    File \"<ipython-input-13-8ef5b303efc9>\", line 9, in <cell line: 9>\n      conv_obj.training_model(conv_obj_model)\n    File \"<ipython-input-7-a85f224ce079>\", line 64, in training_model\n      history = model.fit_generator(train_generator, steps_per_epoch=steps_per_epoch, epochs=num_epochs, verbose=1,\n    File \"/usr/local/lib/python3.10/dist-packages/keras/engine/training.py\", line 2636, in fit_generator\n      return self.fit(\n    File \"/usr/local/lib/python3.10/dist-packages/keras/utils/traceback_utils.py\", line 65, in error_handler\n      return fn(*args, **kwargs)\n    File \"/usr/local/lib/python3.10/dist-packages/keras/engine/training.py\", line 1685, in fit\n      tmp_logs = self.train_function(iterator)\n    File \"/usr/local/lib/python3.10/dist-packages/keras/engine/training.py\", line 1284, in train_function\n      return step_function(self, iterator)\n    File \"/usr/local/lib/python3.10/dist-packages/keras/engine/training.py\", line 1268, in step_function\n      outputs = model.distribute_strategy.run(run_step, args=(data,))\n    File \"/usr/local/lib/python3.10/dist-packages/keras/engine/training.py\", line 1249, in run_step\n      outputs = model.train_step(data)\n    File \"/usr/local/lib/python3.10/dist-packages/keras/engine/training.py\", line 1054, in train_step\n      self.optimizer.minimize(loss, self.trainable_variables, tape=tape)\n    File \"/usr/local/lib/python3.10/dist-packages/keras/optimizers/optimizer.py\", line 542, in minimize\n      grads_and_vars = self.compute_gradients(loss, var_list, tape)\n    File \"/usr/local/lib/python3.10/dist-packages/keras/optimizers/optimizer.py\", line 275, in compute_gradients\n      grads = tape.gradient(loss, var_list)\nNode: 'gradient_tape/sequential_1/max_pooling3d_4/MaxPool3D/MaxPool3DGrad'\nOOM when allocating tensor with shape[40,32,30,160,160] and type float on /job:localhost/replica:0/task:0/device:GPU:0 by allocator GPU_0_bfc\n\t [[{{node gradient_tape/sequential_1/max_pooling3d_4/MaxPool3D/MaxPool3DGrad}}]]\nHint: If you want to see a list of allocated tensors when OOM happens, add report_tensor_allocations_upon_oom to RunOptions for current allocation info. This isn't available when running in Eager mode.\n [Op:__inference_train_function_3986]"
     ]
    }
   ],
   "source": [
    "## We will try to get the limit on memory sources\n",
    "\n",
    "## Creating an object for the Model Builder class\n",
    "conv_obj = Conv3D_Model()\n",
    "conv_obj.initialize_path(project_folder)\n",
    "conv_obj.initialize_properties(img_height=160, img_width=160)\n",
    "conv_obj.initialize_hyperparameters(frames_to_sample=30, batch_size = 40, epochs= 2)\n",
    "conv_obj_model = conv_obj.init_Model()\n",
    "conv_obj.training_model(conv_obj_model)"
   ]
  },
  {
   "cell_type": "markdown",
   "metadata": {
    "id": "BQwaeJ_bjiZ2"
   },
   "source": [
    "We will experiment with differnt batch sizes, sample frames and image resolutions to get the trade of between them and the time taken for each model"
   ]
  },
  {
   "cell_type": "code",
   "execution_count": 14,
   "metadata": {
    "colab": {
     "base_uri": "https://localhost:8080/"
    },
    "id": "w-KEHeIr48dn",
    "outputId": "9177b22e-3e5d-48d5-c38b-3e5b6e2987f5"
   },
   "outputs": [
    {
     "name": "stdout",
     "output_type": "stream",
     "text": [
      "WARNING:tensorflow:`period` argument is deprecated. Please use `save_freq` to specify the frequency in number of batches seen.\n",
      "Epoch 1/3\n",
      "45/45 [==============================] - ETA: 0s - loss: 1.8191 - categorical_accuracy: 0.3680\n",
      "Epoch 00001: saving model to model_init_2023-05-2813_38_16.812671/model-00001-1.81913-0.36802-1.60271-0.21000.h5\n",
      "45/45 [==============================] - 108s 2s/step - loss: 1.8191 - categorical_accuracy: 0.3680 - val_loss: 1.6027 - val_categorical_accuracy: 0.2100 - lr: 0.0010\n",
      "Epoch 2/3\n",
      "45/45 [==============================] - ETA: 0s - loss: 1.4955 - categorical_accuracy: 0.4615\n",
      "Epoch 00002: saving model to model_init_2023-05-2813_38_16.812671/model-00002-1.49546-0.46154-3.00571-0.17000.h5\n",
      "45/45 [==============================] - 106s 2s/step - loss: 1.4955 - categorical_accuracy: 0.4615 - val_loss: 3.0057 - val_categorical_accuracy: 0.1700 - lr: 0.0010\n",
      "Epoch 3/3\n",
      "45/45 [==============================] - ETA: 0s - loss: 1.2394 - categorical_accuracy: 0.4962\n",
      "Epoch 00003: saving model to model_init_2023-05-2813_38_16.812671/model-00003-1.23939-0.49623-3.23694-0.23000.h5\n",
      "45/45 [==============================] - 106s 2s/step - loss: 1.2394 - categorical_accuracy: 0.4962 - val_loss: 3.2369 - val_categorical_accuracy: 0.2300 - lr: 0.0010\n",
      "Total Params: 907301\n",
      "Total time taken for training:  321.84  secs\n"
     ]
    }
   ],
   "source": [
    "## Experimenting with batch size = 15, image size = 100 X 100, sample frames = 20\n",
    "\n",
    "import time\n",
    "start = time.time()\n",
    "\n",
    "conv_obj = Conv3D_Model()\n",
    "conv_obj.initialize_path(project_folder)\n",
    "conv_obj.initialize_properties(img_height=100, img_width=100)\n",
    "conv_obj.initialize_hyperparameters(frames_to_sample=20, batch_size=15, epochs=3)\n",
    "conv_obj_model = conv_obj.init_Model()\n",
    "conv_obj.training_model(conv_obj_model)\n",
    "\n",
    "end = time.time()\n",
    "\n",
    "print(\"Total Params:\", conv_obj_model.count_params())\n",
    "print(\"Total time taken for training: \", \"{:.2f}\".format((end-start)), \" secs\")"
   ]
  },
  {
   "cell_type": "code",
   "execution_count": 11,
   "metadata": {
    "colab": {
     "base_uri": "https://localhost:8080/"
    },
    "id": "1iM1upwt48g_",
    "outputId": "78d8efbc-5c27-43bb-a2d0-64297e4a4bed"
   },
   "outputs": [
    {
     "name": "stdout",
     "output_type": "stream",
     "text": [
      "WARNING:tensorflow:`period` argument is deprecated. Please use `save_freq` to specify the frequency in number of batches seen.\n"
     ]
    },
    {
     "name": "stderr",
     "output_type": "stream",
     "text": [
      "2023-05-28 13:38:36.788368: W tensorflow/core/common_runtime/gpu/gpu_bfc_allocator.cc:39] Overriding allow_growth setting because the TF_FORCE_GPU_ALLOW_GROWTH environment variable is set. Original config value was 0.\n",
      "2023-05-28 13:38:36.788427: I tensorflow/core/common_runtime/gpu/gpu_device.cc:1525] Created device /job:localhost/replica:0/task:0/device:GPU:0 with 14802 MB memory:  -> device: 0, name: Quadro RTX 5000, pci bus id: 0000:3f:00.0, compute capability: 7.5\n"
     ]
    },
    {
     "name": "stdout",
     "output_type": "stream",
     "text": [
      "Epoch 1/3\n"
     ]
    },
    {
     "name": "stderr",
     "output_type": "stream",
     "text": [
      "2023-05-28 13:38:41.458537: I tensorflow/stream_executor/cuda/cuda_dnn.cc:377] Loaded cuDNN version 8302\n"
     ]
    },
    {
     "name": "stdout",
     "output_type": "stream",
     "text": [
      "45/45 [==============================] - ETA: 0s - loss: 1.7361 - categorical_accuracy: 0.3529\n",
      "Epoch 00001: saving model to model_init_2023-05-2813_38_16.812671/model-00001-1.73615-0.35294-2.70842-0.22000.h5\n",
      "45/45 [==============================] - 124s 3s/step - loss: 1.7361 - categorical_accuracy: 0.3529 - val_loss: 2.7084 - val_categorical_accuracy: 0.2200 - lr: 0.0010\n",
      "Epoch 2/3\n",
      "45/45 [==============================] - ETA: 0s - loss: 1.3358 - categorical_accuracy: 0.4902\n",
      "Epoch 00002: saving model to model_init_2023-05-2813_38_16.812671/model-00002-1.33581-0.49020-3.75887-0.16000.h5\n",
      "45/45 [==============================] - 121s 3s/step - loss: 1.3358 - categorical_accuracy: 0.4902 - val_loss: 3.7589 - val_categorical_accuracy: 0.1600 - lr: 0.0010\n",
      "Epoch 3/3\n",
      "45/45 [==============================] - ETA: 0s - loss: 1.1963 - categorical_accuracy: 0.5551\n",
      "Epoch 00003: saving model to model_init_2023-05-2813_38_16.812671/model-00003-1.19629-0.55505-3.07240-0.11000.h5\n",
      "45/45 [==============================] - 121s 3s/step - loss: 1.1963 - categorical_accuracy: 0.5551 - val_loss: 3.0724 - val_categorical_accuracy: 0.1100 - lr: 0.0010\n",
      "Total Params: 1955877\n",
      "Total time taken for training:  369.22  secs\n"
     ]
    }
   ],
   "source": [
    "## Experimenting with batch size = 15, image size = 160 X 160, sample frames = 20\n",
    "import time\n",
    "start = time.time()\n",
    "\n",
    "conv_obj = Conv3D_Model()\n",
    "conv_obj.initialize_path(project_folder)\n",
    "conv_obj.initialize_properties(img_height=160, img_width=160)\n",
    "conv_obj.initialize_hyperparameters(frames_to_sample=20, batch_size=15, epochs=3)\n",
    "conv_obj_model = conv_obj.init_Model()\n",
    "conv_obj.training_model(conv_obj_model)\n",
    "\n",
    "end = time.time()\n",
    "\n",
    "print(\"Total Params:\", conv_obj_model.count_params())\n",
    "print(\"Total time taken for training: \", \"{:.2f}\".format((end-start)), \" secs\")"
   ]
  },
  {
   "cell_type": "code",
   "execution_count": 11,
   "metadata": {
    "id": "q3ebABL1gywI"
   },
   "outputs": [
    {
     "name": "stderr",
     "output_type": "stream",
     "text": [
      "2023-05-28 17:10:19.807868: W tensorflow/core/common_runtime/gpu/gpu_bfc_allocator.cc:39] Overriding allow_growth setting because the TF_FORCE_GPU_ALLOW_GROWTH environment variable is set. Original config value was 0.\n",
      "2023-05-28 17:10:19.807942: I tensorflow/core/common_runtime/gpu/gpu_device.cc:1525] Created device /job:localhost/replica:0/task:0/device:GPU:0 with 22851 MB memory:  -> device: 0, name: Quadro RTX 6000, pci bus id: 0000:1c:00.0, compute capability: 7.5\n"
     ]
    },
    {
     "name": "stdout",
     "output_type": "stream",
     "text": [
      "WARNING:tensorflow:`period` argument is deprecated. Please use `save_freq` to specify the frequency in number of batches seen.\n",
      "Epoch 1/3\n"
     ]
    },
    {
     "name": "stderr",
     "output_type": "stream",
     "text": [
      "2023-05-28 17:10:27.538886: I tensorflow/stream_executor/cuda/cuda_dnn.cc:377] Loaded cuDNN version 8302\n"
     ]
    },
    {
     "name": "stdout",
     "output_type": "stream",
     "text": [
      "34/34 [==============================] - ETA: 0s - loss: 1.7885 - categorical_accuracy: 0.3741\n",
      "Epoch 00001: saving model to model_init_2023-05-2817_09_52.050892/model-00001-1.78851-0.37406-2.18651-0.27000.h5\n",
      "34/34 [==============================] - 142s 4s/step - loss: 1.7885 - categorical_accuracy: 0.3741 - val_loss: 2.1865 - val_categorical_accuracy: 0.2700 - lr: 0.0010\n",
      "Epoch 2/3\n",
      "34/34 [==============================] - ETA: 0s - loss: 1.3397 - categorical_accuracy: 0.4781\n",
      "Epoch 00002: saving model to model_init_2023-05-2817_09_52.050892/model-00002-1.33971-0.47813-2.43784-0.30000.h5\n",
      "34/34 [==============================] - 118s 4s/step - loss: 1.3397 - categorical_accuracy: 0.4781 - val_loss: 2.4378 - val_categorical_accuracy: 0.3000 - lr: 0.0010\n",
      "Epoch 3/3\n",
      "34/34 [==============================] - ETA: 0s - loss: 1.1164 - categorical_accuracy: 0.5777\n",
      "Epoch 00003: saving model to model_init_2023-05-2817_09_52.050892/model-00003-1.11639-0.57768-4.81199-0.13000.h5\n",
      "34/34 [==============================] - 116s 4s/step - loss: 1.1164 - categorical_accuracy: 0.5777 - val_loss: 4.8120 - val_categorical_accuracy: 0.1300 - lr: 0.0010\n",
      "Total Params: 1955877\n",
      "Total time taken for training:  383.27  secs\n"
     ]
    }
   ],
   "source": [
    "## Experimenting with batch size = 20, image size = 160 X 160, sample frames = 20\n",
    "\n",
    "start = time.time()\n",
    "\n",
    "conv_obj = Conv3D_Model()\n",
    "conv_obj.initialize_path(project_folder)\n",
    "conv_obj.initialize_properties(img_height=160, img_width=160)\n",
    "conv_obj.initialize_hyperparameters(frames_to_sample=20, batch_size=20, epochs=3)\n",
    "conv_obj_model = conv_obj.init_Model()\n",
    "conv_obj.training_model(conv_obj_model)\n",
    "\n",
    "end = time.time()\n",
    "\n",
    "print(\"Total Params:\", conv_obj_model.count_params())\n",
    "print(\"Total time taken for training: \", \"{:.2f}\".format((end-start)), \" secs\")"
   ]
  },
  {
   "cell_type": "code",
   "execution_count": 15,
   "metadata": {
    "id": "pMqCOcYe48kB"
   },
   "outputs": [
    {
     "name": "stdout",
     "output_type": "stream",
     "text": [
      "WARNING:tensorflow:`period` argument is deprecated. Please use `save_freq` to specify the frequency in number of batches seen.\n",
      "Epoch 1/3\n",
      "34/34 [==============================] - ETA: 0s - loss: 1.5525 - categorical_accuracy: 0.4268\n",
      "Epoch 00001: saving model to model_init_2023-05-2817_17_18.506936/model-00001-1.55247-0.42685-1.87936-0.17000.h5\n",
      "34/34 [==============================] - 181s 5s/step - loss: 1.5525 - categorical_accuracy: 0.4268 - val_loss: 1.8794 - val_categorical_accuracy: 0.1700 - lr: 0.0010\n",
      "Epoch 2/3\n",
      "34/34 [==============================] - ETA: 0s - loss: 1.1610 - categorical_accuracy: 0.5732\n",
      "Epoch 00002: saving model to model_init_2023-05-2817_17_18.506936/model-00002-1.16101-0.57315-3.85353-0.33000.h5\n",
      "34/34 [==============================] - 176s 5s/step - loss: 1.1610 - categorical_accuracy: 0.5732 - val_loss: 3.8535 - val_categorical_accuracy: 0.3300 - lr: 0.0010\n",
      "Epoch 3/3\n",
      "34/34 [==============================] - ETA: 0s - loss: 1.0784 - categorical_accuracy: 0.5852\n",
      "Epoch 00003: saving model to model_init_2023-05-2817_17_18.506936/model-00003-1.07837-0.58522-2.89109-0.33000.h5\n",
      "34/34 [==============================] - 173s 5s/step - loss: 1.0784 - categorical_accuracy: 0.5852 - val_loss: 2.8911 - val_categorical_accuracy: 0.3300 - lr: 0.0010\n",
      "Total Params: 1955877\n",
      "Total time taken for training:  534.01  secs\n"
     ]
    }
   ],
   "source": [
    "## Experimenting with batch size = 20, image size = 160 X 160, sample frames = 30 \n",
    "\n",
    "start = time.time()\n",
    "\n",
    "conv_obj = Conv3D_Model()\n",
    "conv_obj.initialize_path(project_folder)\n",
    "conv_obj.initialize_properties(img_height=160, img_width=160)\n",
    "conv_obj.initialize_hyperparameters(frames_to_sample=30, batch_size=20, epochs=3)\n",
    "conv_obj_model = conv_obj.init_Model()\n",
    "conv_obj.training_model(conv_obj_model)\n",
    "\n",
    "end = time.time()\n",
    "\n",
    "print(\"Total Params:\", conv_obj_model.count_params())\n",
    "print(\"Total time taken for training: \", \"{:.2f}\".format((end-start)), \" secs\")"
   ]
  },
  {
   "cell_type": "code",
   "execution_count": 18,
   "metadata": {
    "id": "h4aHsOP6lamg"
   },
   "outputs": [
    {
     "name": "stdout",
     "output_type": "stream",
     "text": [
      "WARNING:tensorflow:`period` argument is deprecated. Please use `save_freq` to specify the frequency in number of batches seen.\n",
      "Epoch 1/3\n",
      "23/23 [==============================] - ETA: 0s - loss: 1.6050 - categorical_accuracy: 0.4087\n",
      "Epoch 00001: saving model to model_init_2023-05-2817_17_18.506936/model-00001-1.60499-0.40875-1.62513-0.23000.h5\n",
      "23/23 [==============================] - 174s 8s/step - loss: 1.6050 - categorical_accuracy: 0.4087 - val_loss: 1.6251 - val_categorical_accuracy: 0.2300 - lr: 0.0010\n",
      "Epoch 2/3\n",
      "23/23 [==============================] - ETA: 0s - loss: 1.1664 - categorical_accuracy: 0.5747\n",
      "Epoch 00002: saving model to model_init_2023-05-2817_17_18.506936/model-00002-1.16637-0.57466-4.17211-0.21000.h5\n",
      "23/23 [==============================] - 174s 8s/step - loss: 1.1664 - categorical_accuracy: 0.5747 - val_loss: 4.1721 - val_categorical_accuracy: 0.2100 - lr: 0.0010\n",
      "Epoch 3/3\n",
      "23/23 [==============================] - ETA: 0s - loss: 1.0898 - categorical_accuracy: 0.5656\n",
      "Epoch 00003: saving model to model_init_2023-05-2817_17_18.506936/model-00003-1.08980-0.56561-3.18687-0.16000.h5\n",
      "23/23 [==============================] - 171s 8s/step - loss: 1.0898 - categorical_accuracy: 0.5656 - val_loss: 3.1869 - val_categorical_accuracy: 0.1600 - lr: 0.0010\n",
      "Total Params: 1955877\n",
      "Total time taken for training:  526.42  secs\n"
     ]
    }
   ],
   "source": [
    "## Experimenting with batch size = 30, image size = 160 X 160, sample frames = 30\n",
    "\n",
    "start = time.time()\n",
    "\n",
    "conv_obj = Conv3D_Model()\n",
    "conv_obj.initialize_path(project_folder)\n",
    "conv_obj.initialize_properties(img_height=160, img_width=160)\n",
    "conv_obj.initialize_hyperparameters(frames_to_sample=30, batch_size=30, epochs=3)\n",
    "conv_obj_model = conv_obj.init_Model()\n",
    "conv_obj.training_model(conv_obj_model)\n",
    "\n",
    "end = time.time()\n",
    "\n",
    "print(\"Total Params:\", conv_obj_model.count_params())\n",
    "print(\"Total time taken for training: \", \"{:.2f}\".format((end-start)), \" secs\")"
   ]
  },
  {
   "cell_type": "markdown",
   "metadata": {
    "id": "y0UXh84awgTc"
   },
   "source": [
    "### Experiment Summary\n",
    "\n",
    "* Experiment 1 (Batch size = 15, image size = 100 X 100, sample frames = 20) -> 321.84  secs\n",
    "* Experiment 2 (Batch size = 15, image size = 160 X 160, sample frames = 20) -> 369.22  secs\n",
    "* Experiment 3 (Batch size = 20, image size = 160 X 160, sample frames = 20) -> 383.27  secs\n",
    "* Experiment 4 (Batch size = 20, image size = 160 X 160, sample frames = 30) -> 534.01  secs\n",
    "* Experiment 5 (Batch size = 30, image size = 160 X 160, sample frames = 30) -> 526.42  secs\n",
    "\n",
    "We experimented with batch sizes from 15 to 30 and image resolution 100 X 100 and 160 X 160.\n",
    "From above summary, we can clearly observe that the increase in sample frames and image sizes results in more time increase than increasing the batch sizes.\n",
    "\n"
   ]
  },
  {
   "cell_type": "markdown",
   "metadata": {
    "id": "Ti7reTy90S9i"
   },
   "source": [
    "### Model 1\n",
    "\n",
    "Batch Size = 35 and No of Epochs = 16"
   ]
  },
  {
   "cell_type": "code",
   "execution_count": 12,
   "metadata": {
    "id": "YNquzqn5nFui"
   },
   "outputs": [],
   "source": [
    "class Conv3D_Model1(ModelBuilder) :\n",
    "  def init_Model(self, kernelSize = (3, 3, 3), dropout = 0.3, dense_Neurons = 64) :\n",
    "\n",
    "    model = Sequential()\n",
    "    model.add(Conv3D(32, kernelSize, input_shape=(self.frames_to_sample, self.img_height, self.img_width, self.channels), padding='same',\n",
    "                    activation='relu'))\n",
    "    model.add(MaxPooling3D(pool_size=(2,2,2)))\n",
    "    model.add(BatchNormalization())\n",
    "\n",
    "    #Second Convulation Layer\n",
    "    model.add(Conv3D(32, kernelSize,  activation='relu', padding='same'))\n",
    "    model.add(BatchNormalization())\n",
    "    model.add(MaxPooling3D(pool_size=(2, 2, 2)))\n",
    "\n",
    "    #Third Convulation Layer\n",
    "    model.add(Conv3D(64, kernelSize,  activation='relu', padding='same'))\n",
    "    model.add(BatchNormalization())\n",
    "    model.add(MaxPooling3D(pool_size=(2, 2, 2)))\n",
    "\n",
    "    #Fourth Convulation Layer\n",
    "    model.add(Conv3D(128, kernelSize,  activation='relu', padding='same'))\n",
    "    model.add(BatchNormalization())\n",
    "    model.add(MaxPooling3D(pool_size=(2, 2, 2)))\n",
    "\n",
    "    #Dropout layer with 30% Fraction of the input units to drop.\n",
    "    model.add(Dropout(dropout))\n",
    "\n",
    "    #Flatten Layer\n",
    "    model.add(Flatten())\n",
    "    model.add(Dense(128, activation='relu'))\n",
    "    model.add(BatchNormalization())\n",
    "    model.add(Dropout(dropout))\n",
    "\n",
    "    model.add(Dense(dense_Neurons,activation='relu'))\n",
    "    model.add(BatchNormalization())\n",
    "    model.add(Dropout(dropout))\n",
    "\n",
    "    #Dense Layer with softmax activation function.\n",
    "    #Softmax is an activation function that scales numbers/logits into probabilities.\n",
    "    model.add(Dense(self.num_of_classes, activation='softmax'))\n",
    "\n",
    "    model.compile(optimizer = 'adam', loss = 'categorical_crossentropy', metrics=[\"categorical_accuracy\"])\n",
    "    return model                  "
   ]
  },
  {
   "cell_type": "code",
   "execution_count": 33,
   "metadata": {
    "id": "lodk4EyknFyW"
   },
   "outputs": [
    {
     "name": "stdout",
     "output_type": "stream",
     "text": [
      "Model: \"sequential_5\"\n",
      "_________________________________________________________________\n",
      " Layer (type)                Output Shape              Param #   \n",
      "=================================================================\n",
      " conv3d_20 (Conv3D)          (None, 20, 160, 160, 32)  2624      \n",
      "                                                                 \n",
      " max_pooling3d_20 (MaxPoolin  (None, 10, 80, 80, 32)   0         \n",
      " g3D)                                                            \n",
      "                                                                 \n",
      " batch_normalization_30 (Bat  (None, 10, 80, 80, 32)   128       \n",
      " chNormalization)                                                \n",
      "                                                                 \n",
      " conv3d_21 (Conv3D)          (None, 10, 80, 80, 32)    27680     \n",
      "                                                                 \n",
      " batch_normalization_31 (Bat  (None, 10, 80, 80, 32)   128       \n",
      " chNormalization)                                                \n",
      "                                                                 \n",
      " max_pooling3d_21 (MaxPoolin  (None, 5, 40, 40, 32)    0         \n",
      " g3D)                                                            \n",
      "                                                                 \n",
      " conv3d_22 (Conv3D)          (None, 5, 40, 40, 64)     55360     \n",
      "                                                                 \n",
      " batch_normalization_32 (Bat  (None, 5, 40, 40, 64)    256       \n",
      " chNormalization)                                                \n",
      "                                                                 \n",
      " max_pooling3d_22 (MaxPoolin  (None, 2, 20, 20, 64)    0         \n",
      " g3D)                                                            \n",
      "                                                                 \n",
      " conv3d_23 (Conv3D)          (None, 2, 20, 20, 128)    221312    \n",
      "                                                                 \n",
      " batch_normalization_33 (Bat  (None, 2, 20, 20, 128)   512       \n",
      " chNormalization)                                                \n",
      "                                                                 \n",
      " max_pooling3d_23 (MaxPoolin  (None, 1, 10, 10, 128)   0         \n",
      " g3D)                                                            \n",
      "                                                                 \n",
      " dropout_15 (Dropout)        (None, 1, 10, 10, 128)    0         \n",
      "                                                                 \n",
      " flatten_5 (Flatten)         (None, 12800)             0         \n",
      "                                                                 \n",
      " dense_15 (Dense)            (None, 128)               1638528   \n",
      "                                                                 \n",
      " batch_normalization_34 (Bat  (None, 128)              512       \n",
      " chNormalization)                                                \n",
      "                                                                 \n",
      " dropout_16 (Dropout)        (None, 128)               0         \n",
      "                                                                 \n",
      " dense_16 (Dense)            (None, 64)                8256      \n",
      "                                                                 \n",
      " batch_normalization_35 (Bat  (None, 64)               256       \n",
      " chNormalization)                                                \n",
      "                                                                 \n",
      " dropout_17 (Dropout)        (None, 64)                0         \n",
      "                                                                 \n",
      " dense_17 (Dense)            (None, 5)                 325       \n",
      "                                                                 \n",
      "=================================================================\n",
      "Total params: 1,955,877\n",
      "Trainable params: 1,954,981\n",
      "Non-trainable params: 896\n",
      "_________________________________________________________________\n"
     ]
    }
   ],
   "source": [
    "conv_obj = Conv3D_Model1()\n",
    "conv_obj.initialize_path(project_folder)\n",
    "conv_obj.initialize_properties(img_height=160, img_width=160)\n",
    "conv_obj.initialize_hyperparameters(frames_to_sample=20, batch_size=35, epochs=16)\n",
    "conv_obj_model = conv_obj.init_Model()\n",
    "conv_obj_model.summary()"
   ]
  },
  {
   "cell_type": "code",
   "execution_count": 34,
   "metadata": {
    "id": "12TZbVK9nF3F"
   },
   "outputs": [
    {
     "name": "stdout",
     "output_type": "stream",
     "text": [
      "WARNING:tensorflow:`period` argument is deprecated. Please use `save_freq` to specify the frequency in number of batches seen.\n",
      "Epoch 1/16\n",
      "19/19 [==============================] - ETA: 0s - loss: 1.5385 - categorical_accuracy: 0.4434\n",
      "Epoch 00001: saving model to model_init_2023-05-2817_44_38.543834/model-00001-1.53847-0.44344-1.51016-0.29000.h5\n",
      "19/19 [==============================] - 122s 7s/step - loss: 1.5385 - categorical_accuracy: 0.4434 - val_loss: 1.5102 - val_categorical_accuracy: 0.2900 - lr: 0.0010\n",
      "Epoch 2/16\n",
      "19/19 [==============================] - ETA: 0s - loss: 0.9618 - categorical_accuracy: 0.6380\n",
      "Epoch 00002: saving model to model_init_2023-05-2817_44_38.543834/model-00002-0.96182-0.63801-2.80236-0.14000.h5\n",
      "19/19 [==============================] - 119s 7s/step - loss: 0.9618 - categorical_accuracy: 0.6380 - val_loss: 2.8024 - val_categorical_accuracy: 0.1400 - lr: 0.0010\n",
      "Epoch 3/16\n",
      "19/19 [==============================] - ETA: 0s - loss: 0.6471 - categorical_accuracy: 0.7602\n",
      "Epoch 00003: saving model to model_init_2023-05-2817_44_38.543834/model-00003-0.64707-0.76018-4.39642-0.17000.h5\n",
      "19/19 [==============================] - 117s 6s/step - loss: 0.6471 - categorical_accuracy: 0.7602 - val_loss: 4.3964 - val_categorical_accuracy: 0.1700 - lr: 0.0010\n",
      "Epoch 4/16\n",
      "19/19 [==============================] - ETA: 0s - loss: 0.4919 - categorical_accuracy: 0.8175\n",
      "Epoch 00004: saving model to model_init_2023-05-2817_44_38.543834/model-00004-0.49185-0.81750-4.04081-0.16000.h5\n",
      "19/19 [==============================] - 117s 7s/step - loss: 0.4919 - categorical_accuracy: 0.8175 - val_loss: 4.0408 - val_categorical_accuracy: 0.1600 - lr: 0.0010\n",
      "Epoch 5/16\n",
      "19/19 [==============================] - ETA: 0s - loss: 0.3584 - categorical_accuracy: 0.8793\n",
      "Epoch 00005: saving model to model_init_2023-05-2817_44_38.543834/model-00005-0.35839-0.87934-3.76422-0.14000.h5\n",
      "\n",
      "Epoch 00005: ReduceLROnPlateau reducing learning rate to 0.00020000000949949026.\n",
      "19/19 [==============================] - 119s 7s/step - loss: 0.3584 - categorical_accuracy: 0.8793 - val_loss: 3.7642 - val_categorical_accuracy: 0.1400 - lr: 0.0010\n",
      "Epoch 6/16\n",
      "19/19 [==============================] - ETA: 0s - loss: 0.2658 - categorical_accuracy: 0.9231\n",
      "Epoch 00006: saving model to model_init_2023-05-2817_44_38.543834/model-00006-0.26576-0.92308-4.07145-0.17000.h5\n",
      "19/19 [==============================] - 118s 7s/step - loss: 0.2658 - categorical_accuracy: 0.9231 - val_loss: 4.0714 - val_categorical_accuracy: 0.1700 - lr: 2.0000e-04\n",
      "Epoch 7/16\n",
      "19/19 [==============================] - ETA: 0s - loss: 0.2583 - categorical_accuracy: 0.9170\n",
      "Epoch 00007: saving model to model_init_2023-05-2817_44_38.543834/model-00007-0.25834-0.91704-4.17431-0.15000.h5\n",
      "19/19 [==============================] - 120s 7s/step - loss: 0.2583 - categorical_accuracy: 0.9170 - val_loss: 4.1743 - val_categorical_accuracy: 0.1500 - lr: 2.0000e-04\n",
      "Epoch 8/16\n",
      "19/19 [==============================] - ETA: 0s - loss: 0.1996 - categorical_accuracy: 0.9457\n",
      "Epoch 00008: saving model to model_init_2023-05-2817_44_38.543834/model-00008-0.19955-0.94570-4.21256-0.21000.h5\n",
      "19/19 [==============================] - 121s 7s/step - loss: 0.1996 - categorical_accuracy: 0.9457 - val_loss: 4.2126 - val_categorical_accuracy: 0.2100 - lr: 2.0000e-04\n",
      "Epoch 9/16\n",
      "19/19 [==============================] - ETA: 0s - loss: 0.1863 - categorical_accuracy: 0.9517\n",
      "Epoch 00009: saving model to model_init_2023-05-2817_44_38.543834/model-00009-0.18627-0.95173-4.05300-0.15000.h5\n",
      "\n",
      "Epoch 00009: ReduceLROnPlateau reducing learning rate to 4.0000001899898055e-05.\n",
      "19/19 [==============================] - 118s 7s/step - loss: 0.1863 - categorical_accuracy: 0.9517 - val_loss: 4.0530 - val_categorical_accuracy: 0.1500 - lr: 2.0000e-04\n",
      "Epoch 10/16\n",
      "19/19 [==============================] - ETA: 0s - loss: 0.1851 - categorical_accuracy: 0.9412\n",
      "Epoch 00010: saving model to model_init_2023-05-2817_44_38.543834/model-00010-0.18512-0.94118-3.66627-0.16000.h5\n",
      "19/19 [==============================] - 130s 7s/step - loss: 0.1851 - categorical_accuracy: 0.9412 - val_loss: 3.6663 - val_categorical_accuracy: 0.1600 - lr: 4.0000e-05\n",
      "Epoch 11/16\n",
      "19/19 [==============================] - ETA: 0s - loss: 0.1666 - categorical_accuracy: 0.9653\n",
      "Epoch 00011: saving model to model_init_2023-05-2817_44_38.543834/model-00011-0.16656-0.96531-3.30416-0.18000.h5\n",
      "19/19 [==============================] - 119s 7s/step - loss: 0.1666 - categorical_accuracy: 0.9653 - val_loss: 3.3042 - val_categorical_accuracy: 0.1800 - lr: 4.0000e-05\n",
      "Epoch 00011: early stopping\n"
     ]
    }
   ],
   "source": [
    "model_1_History = conv_obj.training_model(conv_obj_model)"
   ]
  },
  {
   "cell_type": "code",
   "execution_count": 19,
   "metadata": {
    "id": "P5cAWN7mnF5L"
   },
   "outputs": [],
   "source": [
    "## User defined method to plot the Accuracy and Validation Plots\n",
    "\n",
    "def plot_accuracyAndLoss(history) :\n",
    "    fig, axes = plt.subplots(nrows=1, ncols=2, figsize=(16, 5))\n",
    "    axes[0].plot(history.history['loss'])   \n",
    "    axes[0].plot(history.history['val_loss'])\n",
    "    axes[0].legend(['loss','val_loss'])\n",
    "    \n",
    "    axes[1].plot(history.history['categorical_accuracy'])   \n",
    "    axes[1].plot(history.history['val_categorical_accuracy'])\n",
    "    axes[1].legend(['categorical_accuracy','val_categorical_accuracy'])\n",
    "    \n",
    "    plt.title('Training and Accuracy and Loss')\n",
    "    plt.grid(color = 'teal', linestyle = '--', linewidth = 0.5)\n",
    "    plt.show()   "
   ]
  },
  {
   "cell_type": "code",
   "execution_count": 52,
   "metadata": {
    "id": "YGBme4IA6kKj"
   },
   "outputs": [
    {
     "data": {
      "image/png": "[encoded data removed]",
      "text/plain": [
       "<Figure size 1080x288 with 2 Axes>"
      ]
     },
     "metadata": {
      "needs_background": "light"
     },
     "output_type": "display_data"
    }
   ],
   "source": [
    "plot_accuracyAndLoss(model_1_History)"
   ]
  },
  {
   "cell_type": "markdown",
   "metadata": {
    "id": "B4e4SsSJ7Kk1"
   },
   "source": [
    "### Model 1 - Observations\n",
    "\n",
    "We can observe that the model above is underfitting"
   ]
  },
  {
   "cell_type": "markdown",
   "metadata": {
    "id": "zqwfRg1dTxLX"
   },
   "source": [
    "### Model 2\n",
    "\n",
    "Reducing the Image resolution to 120 X 120, batch to 25, kernel size = (2,2,2) and increasing epochs to 20."
   ]
  },
  {
   "cell_type": "code",
   "execution_count": 48,
   "metadata": {
    "id": "bf52lUOqTvoB"
   },
   "outputs": [
    {
     "name": "stdout",
     "output_type": "stream",
     "text": [
      "Model: \"sequential_6\"\n",
      "_________________________________________________________________\n",
      " Layer (type)                Output Shape              Param #   \n",
      "=================================================================\n",
      " conv3d_24 (Conv3D)          (None, 20, 120, 120, 32)  800       \n",
      "                                                                 \n",
      " max_pooling3d_24 (MaxPoolin  (None, 10, 60, 60, 32)   0         \n",
      " g3D)                                                            \n",
      "                                                                 \n",
      " batch_normalization_36 (Bat  (None, 10, 60, 60, 32)   128       \n",
      " chNormalization)                                                \n",
      "                                                                 \n",
      " conv3d_25 (Conv3D)          (None, 10, 60, 60, 32)    8224      \n",
      "                                                                 \n",
      " batch_normalization_37 (Bat  (None, 10, 60, 60, 32)   128       \n",
      " chNormalization)                                                \n",
      "                                                                 \n",
      " max_pooling3d_25 (MaxPoolin  (None, 5, 30, 30, 32)    0         \n",
      " g3D)                                                            \n",
      "                                                                 \n",
      " conv3d_26 (Conv3D)          (None, 5, 30, 30, 64)     16448     \n",
      "                                                                 \n",
      " batch_normalization_38 (Bat  (None, 5, 30, 30, 64)    256       \n",
      " chNormalization)                                                \n",
      "                                                                 \n",
      " max_pooling3d_26 (MaxPoolin  (None, 2, 15, 15, 64)    0         \n",
      " g3D)                                                            \n",
      "                                                                 \n",
      " conv3d_27 (Conv3D)          (None, 2, 15, 15, 128)    65664     \n",
      "                                                                 \n",
      " batch_normalization_39 (Bat  (None, 2, 15, 15, 128)   512       \n",
      " chNormalization)                                                \n",
      "                                                                 \n",
      " max_pooling3d_27 (MaxPoolin  (None, 1, 7, 7, 128)     0         \n",
      " g3D)                                                            \n",
      "                                                                 \n",
      " dropout_18 (Dropout)        (None, 1, 7, 7, 128)      0         \n",
      "                                                                 \n",
      " flatten_6 (Flatten)         (None, 6272)              0         \n",
      "                                                                 \n",
      " dense_18 (Dense)            (None, 128)               802944    \n",
      "                                                                 \n",
      " batch_normalization_40 (Bat  (None, 128)              512       \n",
      " chNormalization)                                                \n",
      "                                                                 \n",
      " dropout_19 (Dropout)        (None, 128)               0         \n",
      "                                                                 \n",
      " dense_19 (Dense)            (None, 128)               16512     \n",
      "                                                                 \n",
      " batch_normalization_41 (Bat  (None, 128)              512       \n",
      " chNormalization)                                                \n",
      "                                                                 \n",
      " dropout_20 (Dropout)        (None, 128)               0         \n",
      "                                                                 \n",
      " dense_20 (Dense)            (None, 5)                 645       \n",
      "                                                                 \n",
      "=================================================================\n",
      "Total params: 913,285\n",
      "Trainable params: 912,261\n",
      "Non-trainable params: 1,024\n",
      "_________________________________________________________________\n"
     ]
    }
   ],
   "source": [
    "conv_obj_2 = Conv3D_Model1()\n",
    "conv_obj_2.initialize_path(project_folder)\n",
    "conv_obj_2.initialize_properties(img_height=120, img_width=120)\n",
    "conv_obj_2.initialize_hyperparameters(frames_to_sample=20, batch_size=25, epochs=20)\n",
    "conv_obj_model_2 = conv_obj_2.init_Model(kernelSize = (2, 2, 2), dropout=0.5, dense_Neurons=128)\n",
    "conv_obj_model_2.summary()"
   ]
  },
  {
   "cell_type": "code",
   "execution_count": 49,
   "metadata": {
    "id": "9ZbB9CuyTvq6"
   },
   "outputs": [
    {
     "name": "stdout",
     "output_type": "stream",
     "text": [
      "WARNING:tensorflow:`period` argument is deprecated. Please use `save_freq` to specify the frequency in number of batches seen.\n",
      "Epoch 1/20\n",
      "27/27 [==============================] - ETA: 0s - loss: 2.0325 - categorical_accuracy: 0.3152\n",
      "Epoch 00001: saving model to model_init_2023-05-2817_44_38.543834/model-00001-2.03248-0.31523-2.67661-0.21000.h5\n",
      "27/27 [==============================] - 107s 4s/step - loss: 2.0325 - categorical_accuracy: 0.3152 - val_loss: 2.6766 - val_categorical_accuracy: 0.2100 - lr: 0.0010\n",
      "Epoch 2/20\n",
      "27/27 [==============================] - ETA: 0s - loss: 1.4426 - categorical_accuracy: 0.5053\n",
      "Epoch 00002: saving model to model_init_2023-05-2817_44_38.543834/model-00002-1.44256-0.50528-5.23074-0.21000.h5\n",
      "27/27 [==============================] - 106s 4s/step - loss: 1.4426 - categorical_accuracy: 0.5053 - val_loss: 5.2307 - val_categorical_accuracy: 0.2100 - lr: 0.0010\n",
      "Epoch 3/20\n",
      "27/27 [==============================] - ETA: 0s - loss: 1.1616 - categorical_accuracy: 0.5958\n",
      "Epoch 00003: saving model to model_init_2023-05-2817_44_38.543834/model-00003-1.16162-0.59578-7.53282-0.16000.h5\n",
      "27/27 [==============================] - 105s 4s/step - loss: 1.1616 - categorical_accuracy: 0.5958 - val_loss: 7.5328 - val_categorical_accuracy: 0.1600 - lr: 0.0010\n",
      "Epoch 4/20\n",
      "27/27 [==============================] - ETA: 0s - loss: 1.0010 - categorical_accuracy: 0.6154\n",
      "Epoch 00004: saving model to model_init_2023-05-2817_44_38.543834/model-00004-1.00096-0.61538-7.62183-0.25000.h5\n",
      "27/27 [==============================] - 107s 4s/step - loss: 1.0010 - categorical_accuracy: 0.6154 - val_loss: 7.6218 - val_categorical_accuracy: 0.2500 - lr: 0.0010\n",
      "Epoch 5/20\n",
      "27/27 [==============================] - ETA: 0s - loss: 0.7845 - categorical_accuracy: 0.7074\n",
      "Epoch 00005: saving model to model_init_2023-05-2817_44_38.543834/model-00005-0.78455-0.70739-7.82395-0.21000.h5\n",
      "\n",
      "Epoch 00005: ReduceLROnPlateau reducing learning rate to 0.00020000000949949026.\n",
      "27/27 [==============================] - 106s 4s/step - loss: 0.7845 - categorical_accuracy: 0.7074 - val_loss: 7.8240 - val_categorical_accuracy: 0.2100 - lr: 0.0010\n",
      "Epoch 6/20\n",
      "27/27 [==============================] - ETA: 0s - loss: 0.7072 - categorical_accuracy: 0.7300\n",
      "Epoch 00006: saving model to model_init_2023-05-2817_44_38.543834/model-00006-0.70716-0.73002-8.87485-0.15000.h5\n",
      "27/27 [==============================] - 106s 4s/step - loss: 0.7072 - categorical_accuracy: 0.7300 - val_loss: 8.8749 - val_categorical_accuracy: 0.1500 - lr: 2.0000e-04\n",
      "Epoch 7/20\n",
      "27/27 [==============================] - ETA: 0s - loss: 0.6951 - categorical_accuracy: 0.7179\n",
      "Epoch 00007: saving model to model_init_2023-05-2817_44_38.543834/model-00007-0.69506-0.71795-7.67483-0.25000.h5\n",
      "27/27 [==============================] - 105s 4s/step - loss: 0.6951 - categorical_accuracy: 0.7179 - val_loss: 7.6748 - val_categorical_accuracy: 0.2500 - lr: 2.0000e-04\n",
      "Epoch 8/20\n",
      "27/27 [==============================] - ETA: 0s - loss: 0.6269 - categorical_accuracy: 0.7662\n",
      "Epoch 00008: saving model to model_init_2023-05-2817_44_38.543834/model-00008-0.62691-0.76621-7.87263-0.23000.h5\n",
      "27/27 [==============================] - 104s 4s/step - loss: 0.6269 - categorical_accuracy: 0.7662 - val_loss: 7.8726 - val_categorical_accuracy: 0.2300 - lr: 2.0000e-04\n",
      "Epoch 9/20\n",
      "27/27 [==============================] - ETA: 0s - loss: 0.5537 - categorical_accuracy: 0.7994\n",
      "Epoch 00009: saving model to model_init_2023-05-2817_44_38.543834/model-00009-0.55369-0.79940-6.72103-0.21000.h5\n",
      "\n",
      "Epoch 00009: ReduceLROnPlateau reducing learning rate to 4.0000001899898055e-05.\n",
      "27/27 [==============================] - 106s 4s/step - loss: 0.5537 - categorical_accuracy: 0.7994 - val_loss: 6.7210 - val_categorical_accuracy: 0.2100 - lr: 2.0000e-04\n",
      "Epoch 10/20\n",
      "27/27 [==============================] - ETA: 0s - loss: 0.4539 - categorical_accuracy: 0.8235\n",
      "Epoch 00010: saving model to model_init_2023-05-2817_44_38.543834/model-00010-0.45394-0.82353-5.89460-0.19000.h5\n",
      "27/27 [==============================] - 105s 4s/step - loss: 0.4539 - categorical_accuracy: 0.8235 - val_loss: 5.8946 - val_categorical_accuracy: 0.1900 - lr: 4.0000e-05\n",
      "Epoch 11/20\n",
      "27/27 [==============================] - ETA: 0s - loss: 0.5627 - categorical_accuracy: 0.7979\n",
      "Epoch 00011: saving model to model_init_2023-05-2817_44_38.543834/model-00011-0.56273-0.79789-6.01082-0.20000.h5\n",
      "27/27 [==============================] - 106s 4s/step - loss: 0.5627 - categorical_accuracy: 0.7979 - val_loss: 6.0108 - val_categorical_accuracy: 0.2000 - lr: 4.0000e-05\n",
      "Epoch 00011: early stopping\n"
     ]
    }
   ],
   "source": [
    "model_2_History = conv_obj_2.training_model(conv_obj_model_2)"
   ]
  },
  {
   "cell_type": "code",
   "execution_count": 53,
   "metadata": {
    "id": "WRyHmzn8Tv3S"
   },
   "outputs": [
    {
     "data": {
      "image/png": "[encoded data removed]",
      "text/plain": [
       "<Figure size 1080x288 with 2 Axes>"
      ]
     },
     "metadata": {
      "needs_background": "light"
     },
     "output_type": "display_data"
    }
   ],
   "source": [
    "plot_accuracyAndLoss(model_2_History)"
   ]
  },
  {
   "cell_type": "markdown",
   "metadata": {},
   "source": [
    "### Model 2 - Observations\n",
    "\n",
    "We can clearly see, performance has not been increased"
   ]
  },
  {
   "cell_type": "markdown",
   "metadata": {
    "id": "kxv7FyFM7Scv"
   },
   "source": [
    "### Model 3\n",
    "\n",
    "Inreasing the dropout from 0.3 to 0.5 and epochs = 20 reducing the batch size from 35 to 20. We will augment the data for this model"
   ]
  },
  {
   "cell_type": "code",
   "execution_count": 13,
   "metadata": {
    "id": "pXJw3cMP6kNT"
   },
   "outputs": [
    {
     "name": "stderr",
     "output_type": "stream",
     "text": [
      "2023-05-28 19:16:02.987611: W tensorflow/core/common_runtime/gpu/gpu_bfc_allocator.cc:39] Overriding allow_growth setting because the TF_FORCE_GPU_ALLOW_GROWTH environment variable is set. Original config value was 0.\n",
      "2023-05-28 19:16:02.987689: I tensorflow/core/common_runtime/gpu/gpu_device.cc:1525] Created device /job:localhost/replica:0/task:0/device:GPU:0 with 22851 MB memory:  -> device: 0, name: Quadro RTX 6000, pci bus id: 0000:1c:00.0, compute capability: 7.5\n"
     ]
    },
    {
     "name": "stdout",
     "output_type": "stream",
     "text": [
      "Model: \"sequential\"\n",
      "_________________________________________________________________\n",
      " Layer (type)                Output Shape              Param #   \n",
      "=================================================================\n",
      " conv3d (Conv3D)             (None, 20, 160, 160, 32)  2624      \n",
      "                                                                 \n",
      " max_pooling3d (MaxPooling3D  (None, 10, 80, 80, 32)   0         \n",
      " )                                                               \n",
      "                                                                 \n",
      " batch_normalization (BatchN  (None, 10, 80, 80, 32)   128       \n",
      " ormalization)                                                   \n",
      "                                                                 \n",
      " conv3d_1 (Conv3D)           (None, 10, 80, 80, 32)    27680     \n",
      "                                                                 \n",
      " batch_normalization_1 (Batc  (None, 10, 80, 80, 32)   128       \n",
      " hNormalization)                                                 \n",
      "                                                                 \n",
      " max_pooling3d_1 (MaxPooling  (None, 5, 40, 40, 32)    0         \n",
      " 3D)                                                             \n",
      "                                                                 \n",
      " conv3d_2 (Conv3D)           (None, 5, 40, 40, 64)     55360     \n",
      "                                                                 \n",
      " batch_normalization_2 (Batc  (None, 5, 40, 40, 64)    256       \n",
      " hNormalization)                                                 \n",
      "                                                                 \n",
      " max_pooling3d_2 (MaxPooling  (None, 2, 20, 20, 64)    0         \n",
      " 3D)                                                             \n",
      "                                                                 \n",
      " conv3d_3 (Conv3D)           (None, 2, 20, 20, 128)    221312    \n",
      "                                                                 \n",
      " batch_normalization_3 (Batc  (None, 2, 20, 20, 128)   512       \n",
      " hNormalization)                                                 \n",
      "                                                                 \n",
      " max_pooling3d_3 (MaxPooling  (None, 1, 10, 10, 128)   0         \n",
      " 3D)                                                             \n",
      "                                                                 \n",
      " dropout (Dropout)           (None, 1, 10, 10, 128)    0         \n",
      "                                                                 \n",
      " flatten (Flatten)           (None, 12800)             0         \n",
      "                                                                 \n",
      " dense (Dense)               (None, 128)               1638528   \n",
      "                                                                 \n",
      " batch_normalization_4 (Batc  (None, 128)              512       \n",
      " hNormalization)                                                 \n",
      "                                                                 \n",
      " dropout_1 (Dropout)         (None, 128)               0         \n",
      "                                                                 \n",
      " dense_1 (Dense)             (None, 128)               16512     \n",
      "                                                                 \n",
      " batch_normalization_5 (Batc  (None, 128)              512       \n",
      " hNormalization)                                                 \n",
      "                                                                 \n",
      " dropout_2 (Dropout)         (None, 128)               0         \n",
      "                                                                 \n",
      " dense_2 (Dense)             (None, 5)                 645       \n",
      "                                                                 \n",
      "=================================================================\n",
      "Total params: 1,964,709\n",
      "Trainable params: 1,963,685\n",
      "Non-trainable params: 1,024\n",
      "_________________________________________________________________\n"
     ]
    }
   ],
   "source": [
    "conv_obj_3 = Conv3D_Model1()\n",
    "conv_obj_3.initialize_path(project_folder)\n",
    "conv_obj_3.initialize_properties(img_height=160, img_width=160)\n",
    "conv_obj_3.initialize_hyperparameters(frames_to_sample=20, batch_size=20, epochs=20)\n",
    "conv_obj_model_3 = conv_obj_3.init_Model(dropout=0.5, dense_Neurons=128)\n",
    "conv_obj_model_3.summary()"
   ]
  },
  {
   "cell_type": "code",
   "execution_count": 17,
   "metadata": {
    "id": "83zSMwmw6kRB"
   },
   "outputs": [
    {
     "name": "stdout",
     "output_type": "stream",
     "text": [
      "WARNING:tensorflow:`period` argument is deprecated. Please use `save_freq` to specify the frequency in number of batches seen.\n",
      "Epoch 1/20\n",
      "34/34 [==============================] - ETA: 0s - loss: 1.3550 - categorical_accuracy: 0.5000\n",
      "Epoch 00001: saving model to model_init_2023-05-2819_14_04.106807/model-00001-1.35503-0.50000-2.59840-0.32000.h5\n",
      "34/34 [==============================] - 212s 6s/step - loss: 1.3550 - categorical_accuracy: 0.5000 - val_loss: 2.5984 - val_categorical_accuracy: 0.3200 - lr: 0.0010\n",
      "Epoch 2/20\n",
      "34/34 [==============================] - ETA: 0s - loss: 1.1664 - categorical_accuracy: 0.5724\n",
      "Epoch 00002: saving model to model_init_2023-05-2819_14_04.106807/model-00002-1.16636-0.57240-2.81094-0.33000.h5\n",
      "34/34 [==============================] - 210s 6s/step - loss: 1.1664 - categorical_accuracy: 0.5724 - val_loss: 2.8109 - val_categorical_accuracy: 0.3300 - lr: 0.0010\n",
      "Epoch 3/20\n",
      "34/34 [==============================] - ETA: 0s - loss: 0.9599 - categorical_accuracy: 0.6425\n",
      "Epoch 00003: saving model to model_init_2023-05-2819_14_04.106807/model-00003-0.95990-0.64253-3.74082-0.28000.h5\n",
      "34/34 [==============================] - 213s 6s/step - loss: 0.9599 - categorical_accuracy: 0.6425 - val_loss: 3.7408 - val_categorical_accuracy: 0.2800 - lr: 0.0010\n",
      "Epoch 4/20\n",
      "34/34 [==============================] - ETA: 0s - loss: 0.8565 - categorical_accuracy: 0.6817\n",
      "Epoch 00004: saving model to model_init_2023-05-2819_14_04.106807/model-00004-0.85646-0.68175-3.90903-0.27000.h5\n",
      "34/34 [==============================] - 211s 6s/step - loss: 0.8565 - categorical_accuracy: 0.6817 - val_loss: 3.9090 - val_categorical_accuracy: 0.2700 - lr: 0.0010\n",
      "Epoch 5/20\n",
      "34/34 [==============================] - ETA: 0s - loss: 0.9152 - categorical_accuracy: 0.6569\n",
      "Epoch 00005: saving model to model_init_2023-05-2819_14_04.106807/model-00005-0.91524-0.65686-3.33509-0.27000.h5\n",
      "\n",
      "Epoch 00005: ReduceLROnPlateau reducing learning rate to 0.00020000000949949026.\n",
      "34/34 [==============================] - 219s 7s/step - loss: 0.9152 - categorical_accuracy: 0.6569 - val_loss: 3.3351 - val_categorical_accuracy: 0.2700 - lr: 0.0010\n",
      "Epoch 6/20\n",
      "34/34 [==============================] - ETA: 0s - loss: 0.7116 - categorical_accuracy: 0.7240\n",
      "Epoch 00006: saving model to model_init_2023-05-2819_14_04.106807/model-00006-0.71162-0.72398-3.65172-0.26000.h5\n",
      "34/34 [==============================] - 217s 7s/step - loss: 0.7116 - categorical_accuracy: 0.7240 - val_loss: 3.6517 - val_categorical_accuracy: 0.2600 - lr: 2.0000e-04\n",
      "Epoch 7/20\n",
      "34/34 [==============================] - ETA: 0s - loss: 0.6814 - categorical_accuracy: 0.7413\n",
      "Epoch 00007: saving model to model_init_2023-05-2819_14_04.106807/model-00007-0.68139-0.74133-2.69102-0.28000.h5\n",
      "34/34 [==============================] - 217s 7s/step - loss: 0.6814 - categorical_accuracy: 0.7413 - val_loss: 2.6910 - val_categorical_accuracy: 0.2800 - lr: 2.0000e-04\n",
      "Epoch 8/20\n",
      "34/34 [==============================] - ETA: 0s - loss: 0.6229 - categorical_accuracy: 0.7519\n",
      "Epoch 00008: saving model to model_init_2023-05-2819_14_04.106807/model-00008-0.62288-0.75189-2.66506-0.35000.h5\n",
      "34/34 [==============================] - 214s 6s/step - loss: 0.6229 - categorical_accuracy: 0.7519 - val_loss: 2.6651 - val_categorical_accuracy: 0.3500 - lr: 2.0000e-04\n",
      "Epoch 9/20\n",
      "34/34 [==============================] - ETA: 0s - loss: 0.6385 - categorical_accuracy: 0.7436\n",
      "Epoch 00009: saving model to model_init_2023-05-2819_14_04.106807/model-00009-0.63846-0.74359-2.98053-0.29000.h5\n",
      "\n",
      "Epoch 00009: ReduceLROnPlateau reducing learning rate to 4.0000001899898055e-05.\n",
      "34/34 [==============================] - 213s 6s/step - loss: 0.6385 - categorical_accuracy: 0.7436 - val_loss: 2.9805 - val_categorical_accuracy: 0.2900 - lr: 2.0000e-04\n",
      "Epoch 10/20\n",
      "34/34 [==============================] - ETA: 0s - loss: 0.5824 - categorical_accuracy: 0.7821\n",
      "Epoch 00010: saving model to model_init_2023-05-2819_14_04.106807/model-00010-0.58235-0.78205-2.48390-0.32000.h5\n",
      "34/34 [==============================] - 215s 7s/step - loss: 0.5824 - categorical_accuracy: 0.7821 - val_loss: 2.4839 - val_categorical_accuracy: 0.3200 - lr: 4.0000e-05\n",
      "Epoch 11/20\n",
      "34/34 [==============================] - ETA: 0s - loss: 0.5408 - categorical_accuracy: 0.8220\n",
      "Epoch 00011: saving model to model_init_2023-05-2819_14_04.106807/model-00011-0.54083-0.82202-2.01098-0.37000.h5\n",
      "34/34 [==============================] - 212s 6s/step - loss: 0.5408 - categorical_accuracy: 0.8220 - val_loss: 2.0110 - val_categorical_accuracy: 0.3700 - lr: 4.0000e-05\n",
      "Epoch 12/20\n",
      "34/34 [==============================] - ETA: 0s - loss: 0.5330 - categorical_accuracy: 0.8115\n",
      "Epoch 00012: saving model to model_init_2023-05-2819_14_04.106807/model-00012-0.53298-0.81146-1.56905-0.50000.h5\n",
      "34/34 [==============================] - 212s 6s/step - loss: 0.5330 - categorical_accuracy: 0.8115 - val_loss: 1.5691 - val_categorical_accuracy: 0.5000 - lr: 4.0000e-05\n",
      "Epoch 13/20\n",
      "34/34 [==============================] - ETA: 0s - loss: 0.5578 - categorical_accuracy: 0.7934\n",
      "Epoch 00013: saving model to model_init_2023-05-2819_14_04.106807/model-00013-0.55776-0.79336-1.30741-0.53000.h5\n",
      "34/34 [==============================] - 211s 6s/step - loss: 0.5578 - categorical_accuracy: 0.7934 - val_loss: 1.3074 - val_categorical_accuracy: 0.5300 - lr: 4.0000e-05\n",
      "Epoch 14/20\n",
      "34/34 [==============================] - ETA: 0s - loss: 0.5425 - categorical_accuracy: 0.7964\n",
      "Epoch 00014: saving model to model_init_2023-05-2819_14_04.106807/model-00014-0.54251-0.79638-0.98226-0.69000.h5\n",
      "34/34 [==============================] - 213s 6s/step - loss: 0.5425 - categorical_accuracy: 0.7964 - val_loss: 0.9823 - val_categorical_accuracy: 0.6900 - lr: 4.0000e-05\n",
      "Epoch 15/20\n",
      "34/34 [==============================] - ETA: 0s - loss: 0.5539 - categorical_accuracy: 0.7828\n",
      "Epoch 00015: saving model to model_init_2023-05-2819_14_04.106807/model-00015-0.55393-0.78281-0.82286-0.70000.h5\n",
      "34/34 [==============================] - 212s 6s/step - loss: 0.5539 - categorical_accuracy: 0.7828 - val_loss: 0.8229 - val_categorical_accuracy: 0.7000 - lr: 4.0000e-05\n",
      "Epoch 16/20\n",
      "34/34 [==============================] - ETA: 0s - loss: 0.5074 - categorical_accuracy: 0.8062\n",
      "Epoch 00016: saving model to model_init_2023-05-2819_14_04.106807/model-00016-0.50742-0.80618-0.61140-0.75000.h5\n",
      "34/34 [==============================] - 211s 6s/step - loss: 0.5074 - categorical_accuracy: 0.8062 - val_loss: 0.6114 - val_categorical_accuracy: 0.7500 - lr: 4.0000e-05\n",
      "Epoch 17/20\n",
      "34/34 [==============================] - ETA: 0s - loss: 0.5441 - categorical_accuracy: 0.8024\n",
      "Epoch 00017: saving model to model_init_2023-05-2819_14_04.106807/model-00017-0.54415-0.80241-0.62119-0.79000.h5\n",
      "34/34 [==============================] - 212s 6s/step - loss: 0.5441 - categorical_accuracy: 0.8024 - val_loss: 0.6212 - val_categorical_accuracy: 0.7900 - lr: 4.0000e-05\n",
      "Epoch 18/20\n",
      "34/34 [==============================] - ETA: 0s - loss: 0.5431 - categorical_accuracy: 0.7911\n",
      "Epoch 00018: saving model to model_init_2023-05-2819_14_04.106807/model-00018-0.54313-0.79110-0.55639-0.82000.h5\n",
      "34/34 [==============================] - 212s 6s/step - loss: 0.5431 - categorical_accuracy: 0.7911 - val_loss: 0.5564 - val_categorical_accuracy: 0.8200 - lr: 4.0000e-05\n",
      "Epoch 19/20\n",
      "34/34 [==============================] - ETA: 0s - loss: 0.5315 - categorical_accuracy: 0.8017\n",
      "Epoch 00019: saving model to model_init_2023-05-2819_14_04.106807/model-00019-0.53151-0.80166-0.47973-0.86000.h5\n",
      "34/34 [==============================] - 214s 6s/step - loss: 0.5315 - categorical_accuracy: 0.8017 - val_loss: 0.4797 - val_categorical_accuracy: 0.8600 - lr: 4.0000e-05\n",
      "Epoch 20/20\n",
      "34/34 [==============================] - ETA: 0s - loss: 0.5140 - categorical_accuracy: 0.8062\n",
      "Epoch 00020: saving model to model_init_2023-05-2819_14_04.106807/model-00020-0.51403-0.80618-0.45649-0.85000.h5\n",
      "34/34 [==============================] - 212s 6s/step - loss: 0.5140 - categorical_accuracy: 0.8062 - val_loss: 0.4565 - val_categorical_accuracy: 0.8500 - lr: 4.0000e-05\n"
     ]
    }
   ],
   "source": [
    "model_3_History = conv_obj_3.training_model(conv_obj_model_3, augment_data=True)"
   ]
  },
  {
   "cell_type": "code",
   "execution_count": 20,
   "metadata": {
    "id": "_Ba1nU0W6kTr"
   },
   "outputs": [
    {
     "data": {
      "image/png": "[encoded data removed]",
      "text/plain": [
       "<Figure size 1152x360 with 2 Axes>"
      ]
     },
     "metadata": {
      "needs_background": "light"
     },
     "output_type": "display_data"
    }
   ],
   "source": [
    "plot_accuracyAndLoss(model_3_History)"
   ]
  },
  {
   "cell_type": "markdown",
   "metadata": {
    "id": "WbBCo5D2AWjb"
   },
   "source": [
    "### Model 3 - Observations"
   ]
  },
  {
   "cell_type": "markdown",
   "metadata": {
    "id": "ry8fK17JRL5e"
   },
   "source": [
    "### Model 4\n",
    "\n",
    "Adding more layers to the above models, we will also change the learning rate to 0.0015 from 0.0010"
   ]
  },
  {
   "cell_type": "code",
   "execution_count": null,
   "metadata": {
    "id": "iIHYTIKp6kYh"
   },
   "outputs": [],
   "source": [
    "class Conv3D_Model4(ModelBuilder) :\n",
    "  def init_Model(self, kernelSize = (3, 3, 3), dropout = 0.25, dense_Neurons = 64) :\n",
    "\n",
    "    model = Sequential()\n",
    "    model.add(Conv3D(16, kernelSize, input_shape=(self.frames_to_sample, self.img_height, self.img_width, self.channels), padding='same',\n",
    "                    activation='relu'))\n",
    "    model.add(Conv3D(32, kernelSize, activation='relu', padding='same'))\n",
    "    model.add(MaxPool2D(pool_size=(2, 2, 2)))\n",
    "    model.add(BatchNormalization())\n",
    "\n",
    "    #Second Convulation Layer\n",
    "    model.add(Conv3D(32, kernelSize,  activation='relu', padding='same'))\n",
    "    model.add(Conv3D(64, kernelSize,  activation='relu', padding='same'))\n",
    "    model.add(BatchNormalization())\n",
    "\n",
    "    #Third Convulation Layer\n",
    "    model.add(Conv3D(64, kernelSize,  activation='relu', padding='same'))\n",
    "    model.add(BatchNormalization())\n",
    "    model.add(MaxPooling3D(pool_size=(2, 2, 2)))\n",
    "\n",
    "    #Fourth Convulation Layer\n",
    "    model.add(Conv3D(64, kernelSize,  activation='relu', padding='same'))\n",
    "    model.add(Conv3D(128, kernelSize,  activation='relu', padding='same'))\n",
    "    model.add(BatchNormalization())\n",
    "    model.add(MaxPooling3D(pool_size=(2, 2, 2)))\n",
    "    \n",
    "    #Dropout layer with 25% Fraction of the input units to drop.\n",
    "    model.add(Dropout(dropout))\n",
    "    \n",
    "    #Fifth Convulation Layer\n",
    "    model.add(Conv3D(128, kernelSize,  activation='relu', padding='same'))\n",
    "    model.add(Conv3D(128, kernelSize,  activation='relu', padding='same'))\n",
    "    model.add(BatchNormalization())\n",
    "    model.add(MaxPooling3D(pool_size=(2, 2, 2)))\n",
    "\n",
    "    #Dropout layer with 25% Fraction of the input units to drop.\n",
    "    model.add(Dropout(dropout))\n",
    "\n",
    "    #Flatten Layer\n",
    "    model.add(Flatten())\n",
    "    model.add(Dense(dense_Neurons, activation='relu'))\n",
    "    model.add(BatchNormalization())\n",
    "    model.add(Dropout(dropout))\n",
    "\n",
    "    model.add(Dense(dense_Neurons,activation='relu'))\n",
    "    model.add(BatchNormalization())\n",
    "    model.add(Dropout(dropout))\n",
    "\n",
    "    #Dense Layer with softmax activation function.\n",
    "    #Softmax is an activation function that scales numbers/logits into probabilities.\n",
    "    model.add(Dense(self.num_of_classes, activation='softmax'))\n",
    "    \n",
    "    optimiser = optimizers.Adam(lr=0.0015)\n",
    "    model.compile(optimizer = 'adam', loss = 'categorical_crossentropy', metrics=[\"categorical_accuracy\"])\n",
    "    return model"
   ]
  },
  {
   "cell_type": "code",
   "execution_count": null,
   "metadata": {
    "id": "0K-qI81B6kcC"
   },
   "outputs": [],
   "source": [
    "conv_obj_4 = Conv3D_Model4()\n",
    "conv_obj_4.initialize_path(project_folder)\n",
    "conv_obj_4.initialize_properties(img_height=160, img_width=160)\n",
    "conv_obj_4.initialize_hyperparameters(frames_to_sample=20, batch_size=20, epochs=25)\n",
    "conv_obj_model_4 = conv_obj_4.init_Model(dropout=0.5, dense_Neurons=128)\n",
    "conv_obj_model_4.summary()"
   ]
  },
  {
   "cell_type": "code",
   "execution_count": null,
   "metadata": {},
   "outputs": [],
   "source": [
    "history_model4 = conv_obj_4.train_model(conv_obj_model_4,augment_data=True)"
   ]
  },
  {
   "cell_type": "code",
   "execution_count": null,
   "metadata": {},
   "outputs": [],
   "source": [
    "plot_accuracyAndLoss(history_model4)"
   ]
  },
  {
   "cell_type": "markdown",
   "metadata": {},
   "source": [
    "### Model 4 - Observations"
   ]
  },
  {
   "cell_type": "markdown",
   "metadata": {},
   "source": [
    "### Model 5\n",
    "\n",
    "Reducing the parameters"
   ]
  },
  {
   "cell_type": "code",
   "execution_count": null,
   "metadata": {},
   "outputs": [],
   "source": [
    "class Conv3D_Model5(ModelBuilder) :\n",
    "  def init_Model(self, kernelSize = (3, 3, 3), dropout = 0.25, dense_Neurons = 64) :\n",
    "\n",
    "    model = Sequential()\n",
    "    model.add(Conv3D(16, kernelSize, input_shape=(self.frames_to_sample, self.img_height, self.img_width, self.channels), padding='same',\n",
    "                    activation='relu'))\n",
    "    model.add(Conv3D(16, kernelSize, activation='relu', padding='same'))\n",
    "    model.add(MaxPool2D(pool_size=(2, 2, 2)))\n",
    "    model.add(BatchNormalization())\n",
    "\n",
    "    #Second Convulation Layer\n",
    "    model.add(Conv3D(32, (2, 2, 2),  activation='relu', padding='same'))\n",
    "    model.add(BatchNormalization())\n",
    "\n",
    "    #Third Convulation Layer\n",
    "    model.add(Conv3D(64, (2, 2, 2),  activation='relu', padding='same'))\n",
    "    model.add(BatchNormalization())\n",
    "    model.add(MaxPooling3D(pool_size=(2, 2, 2)))\n",
    "\n",
    "    #Fourth Convulation Layer\n",
    "    model.add(Conv3D(128, (2, 2, 2),  activation='relu', padding='same'))\n",
    "    model.add(BatchNormalization())\n",
    "    model.add(MaxPooling3D(pool_size=(2, 2, 2)))\n",
    "    \n",
    "    #Dropout layer with 25% Fraction of the input units to drop.\n",
    "    model.add(Dropout(dropout))\n",
    "    \n",
    "    #Fifth Convulation Layer\n",
    "    model.add(Conv3D(128, (2, 2, 2),  activation='relu', padding='same'))\n",
    "    model.add(BatchNormalization())\n",
    "    model.add(MaxPooling3D(pool_size=(2, 2, 2)))\n",
    "\n",
    "    #Dropout layer with 25% Fraction of the input units to drop.\n",
    "    model.add(Dropout(dropout))\n",
    "\n",
    "    #Flatten Layer\n",
    "    model.add(Flatten())\n",
    "    model.add(Dense(dense_Neurons, activation='relu'))\n",
    "    model.add(BatchNormalization())\n",
    "    model.add(Dropout(dropout))\n",
    "\n",
    "    model.add(Dense(dense_Neurons,activation='relu'))\n",
    "    model.add(BatchNormalization())\n",
    "    model.add(Dropout(dropout))\n",
    "\n",
    "    #Dense Layer with softmax activation function.\n",
    "    #Softmax is an activation function that scales numbers/logits into probabilities.\n",
    "    model.add(Dense(self.num_of_classes, activation='softmax'))\n",
    "    \n",
    "    optimiser = optimizers.Adam(lr=0.0003)\n",
    "    model.compile(optimizer = 'adam', loss = 'categorical_crossentropy', metrics=[\"categorical_accuracy\"])\n",
    "    return model"
   ]
  },
  {
   "cell_type": "code",
   "execution_count": null,
   "metadata": {},
   "outputs": [],
   "source": [
    "conv_obj_5 = Conv3D_Model5()\n",
    "conv_obj_5.initialize_path(project_folder)\n",
    "conv_obj_5.initialize_image_properties(image_height=100,image_width=100)\n",
    "conv_obj_5.initialize_hyperparams(frames_to_sample=16,batch_size=20,num_epochs=20)\n",
    "conv_obj_model_5 = conv_obj_5.define_model(dropout=0.25, dense_Neurons=128)\n",
    "conv_obj_model_5.summary()"
   ]
  },
  {
   "cell_type": "code",
   "execution_count": null,
   "metadata": {},
   "outputs": [],
   "source": [
    "history_model5 = conv_obj_5.train_model(conv_obj_model_5,augment_data=True)"
   ]
  },
  {
   "cell_type": "code",
   "execution_count": null,
   "metadata": {},
   "outputs": [],
   "source": [
    "plot_accuracyAndLoss(history_model5)"
   ]
  },
  {
   "cell_type": "markdown",
   "metadata": {},
   "source": [
    "### Model 5 - Observations"
   ]
  },
  {
   "cell_type": "markdown",
   "metadata": {},
   "source": [
    "### Model 6\n",
    "\n",
    "Reducing the number of parameters again"
   ]
  },
  {
   "cell_type": "code",
   "execution_count": null,
   "metadata": {},
   "outputs": [],
   "source": [
    "class Conv3D_Model6(ModelBuilder) :\n",
    "  def init_Model(self, kernelSize = (3, 3, 3), dropout = 0.25, dense_Neurons = 64) :\n",
    "\n",
    "    model = Sequential()\n",
    "    model.add(Conv3D(16, kernelSize, input_shape=(self.frames_to_sample, self.img_height, self.img_width, self.channels), padding='same',\n",
    "                    activation='relu'))\n",
    "    model.add(MaxPool2D(pool_size=(2, 2, 2)))\n",
    "    model.add(BatchNormalization())\n",
    "\n",
    "    #Second Convulation Layer\n",
    "    model.add(Conv3D(32, kernelSize,  activation='relu', padding='same'))\n",
    "    model.add(BatchNormalization())\n",
    "    model.add(MaxPooling3D(pool_size=(2, 2, 2)))\n",
    "\n",
    "    #Third Convulation Layer\n",
    "    model.add(Conv3D(64, (2, 2, 2),  activation='relu', padding='same'))\n",
    "    model.add(BatchNormalization())\n",
    "    model.add(MaxPooling3D(pool_size=(2, 2, 2)))\n",
    "\n",
    "    #Fourth Convulation Layer\n",
    "    model.add(Conv3D(64, (2, 2, 2),  activation='relu', padding='same'))\n",
    "    model.add(BatchNormalization())\n",
    "    model.add(MaxPooling3D(pool_size=(2, 2, 2)))\n",
    "    \n",
    "    #Dropout layer with 25% Fraction of the input units to drop.\n",
    "    model.add(Dropout(dropout))\n",
    "    \n",
    "    #Fifth Convulation Layer\n",
    "    model.add(Conv3D(128, (2, 2, 2),  activation='relu', padding='same'))\n",
    "    model.add(BatchNormalization())\n",
    "    model.add(MaxPooling3D(pool_size=(2, 2, 2)))\n",
    "\n",
    "    #Dropout layer with 25% Fraction of the input units to drop.\n",
    "    model.add(Dropout(dropout))\n",
    "\n",
    "    #Flatten Layer\n",
    "    model.add(Flatten())\n",
    "    model.add(Dense(dense_Neurons, activation='relu'))\n",
    "    model.add(BatchNormalization())\n",
    "    model.add(Dropout(dropout))\n",
    "\n",
    "    model.add(Dense(dense_Neurons,activation='relu'))\n",
    "    model.add(BatchNormalization())\n",
    "    model.add(Dropout(dropout))\n",
    "\n",
    "    #Dense Layer with softmax activation function.\n",
    "    #Softmax is an activation function that scales numbers/logits into probabilities.\n",
    "    model.add(Dense(self.num_of_classes, activation='softmax'))\n",
    "    \n",
    "    optimiser = optimizers.Adam(lr=0.0003)\n",
    "    model.compile(optimizer = 'adam', loss = 'categorical_crossentropy', metrics=[\"categorical_accuracy\"])\n",
    "    return model"
   ]
  },
  {
   "cell_type": "code",
   "execution_count": null,
   "metadata": {},
   "outputs": [],
   "source": [
    "conv_obj_6 = ModelConv3D7()\n",
    "conv_obj_6.initialize_path(project_folder)\n",
    "conv_obj_6.initialize_image_properties(image_height=120,image_width=120)\n",
    "conv_obj_6.initialize_hyperparams(frames_to_sample=16,batch_size=20,num_epochs=25)\n",
    "conv_obj_model_6=conv_obj_6.define_model(dense_neurons=64,dropout=0.25)\n",
    "conv_obj_model_6.summary()"
   ]
  },
  {
   "cell_type": "code",
   "execution_count": null,
   "metadata": {},
   "outputs": [],
   "source": [
    "history_model6 = conv_obj_6.train_model(conv_obj_model_6,augment_data=True)"
   ]
  },
  {
   "cell_type": "code",
   "execution_count": null,
   "metadata": {},
   "outputs": [],
   "source": [
    "plot_accuracyAndLoss(history_model6)"
   ]
  },
  {
   "cell_type": "markdown",
   "metadata": {},
   "source": [
    "### Model 6 - Observations"
   ]
  },
  {
   "cell_type": "markdown",
   "metadata": {},
   "source": [
    "### Model 7\n",
    "\n"
   ]
  },
  {
   "cell_type": "code",
   "execution_count": null,
   "metadata": {},
   "outputs": [],
   "source": []
  },
  {
   "cell_type": "code",
   "execution_count": null,
   "metadata": {},
   "outputs": [],
   "source": []
  },
  {
   "cell_type": "code",
   "execution_count": null,
   "metadata": {},
   "outputs": [],
   "source": []
  },
  {
   "cell_type": "code",
   "execution_count": null,
   "metadata": {},
   "outputs": [],
   "source": []
  },
  {
   "cell_type": "markdown",
   "metadata": {},
   "source": [
    "### Model 7 - Observations"
   ]
  },
  {
   "cell_type": "code",
   "execution_count": null,
   "metadata": {},
   "outputs": [],
   "source": []
  },
  {
   "cell_type": "code",
   "execution_count": null,
   "metadata": {},
   "outputs": [],
   "source": []
  },
  {
   "cell_type": "code",
   "execution_count": null,
   "metadata": {},
   "outputs": [],
   "source": []
  }
 ],
 "metadata": {
  "accelerator": "TPU",
  "colab": {
   "gpuType": "T4",
   "provenance": []
  },
  "kernelspec": {
   "display_name": "Python 3 (ipykernel)",
   "language": "python",
   "name": "python3"
  },
  "language_info": {
   "codemirror_mode": {
    "name": "ipython",
    "version": 3
   },
   "file_extension": ".py",
   "mimetype": "text/x-python",
   "name": "python",
   "nbconvert_exporter": "python",
   "pygments_lexer": "ipython3",
   "version": "3.8.10"
  }
 },
 "nbformat": 4,
 "nbformat_minor": 4
}
